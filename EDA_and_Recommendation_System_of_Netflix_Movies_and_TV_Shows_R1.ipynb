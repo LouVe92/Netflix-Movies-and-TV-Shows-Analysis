{
  "cells": [
    {
      "cell_type": "markdown",
      "id": "12f0d14a",
      "metadata": {
        "id": "12f0d14a"
      },
      "source": [
        "# **Welcome to Netflix Movies and TV Shows Analysis**\n",
        "###### Project by Louisa Veronica"
      ]
    },
    {
      "cell_type": "markdown",
      "source": [
        "### **Business Understanding**\n",
        "Perusahaan bernama Netflix merupakah perusahaan yang menayangkan film dan TV show berbasis subcription berbayar kepada pelanggannya. Perusahaan ingin mempermudah pelanggan dengan memberikan rekomendasi film atau TV show.\n",
        "\n",
        "\n",
        "### **Preliminary**\n",
        "*   Objective Statement:\n",
        "    *   Mendapatkan business insight untuk mengetahui detail film dan TV show yang ditayangkan di Netflix\n",
        "    *   Mendapatkan business insight dengan menjawab pertanyaan sebagai berikut:\n",
        "        1. Seberapa updatekah film dan TV show yang terdapat pada Netflix?\n",
        "        2. Genre film dan TV show apa yang dirilis di Netflix pada 3 tahun terakhir?\n",
        "        3. Bagaimanakah sentiment atas konten (berdasarkan description) yang terdapat pada Netflix selama 10 tahun terakhir?\n",
        "    *   Membuat sistem rekomendasi konten berdasarkan input pelanggan\n",
        "\n",
        "*   Business Benefit:\n",
        "    *   Dengan mengetahui konten yang ditayangkan, Netflix dapat menentukan strategi atas konten apa yang harus direlease berikutnya \n",
        "    *   Dengan membuat sistem rekomendasi, Netflix dapat meningkatkan customer satisfaction dan customer retention. Hal ini dikarenakan sistem rekomendasi akan meningkatkan customer experience, yaitu membantu customer untuk menentukan film atau TV show apa yang akan ditonton customer sesuai dengan input customer, sehingga customer akan memiliki lebih banyak waktu untuk menikmati film atau TV show daripada frustasi menentukan apa yang harus ditonton\n",
        "\n",
        "*   Challenges:\n",
        "    *   Jumlah data yang besar\n",
        "    *   Adanya missing value\n",
        "    *   Adanya kolom dengan tipe data atau value yang tidak sesuai\n",
        "    *   Kurangnya informasi yang dapat membantu untuk membuat rekomendasi film atau TV show\n",
        "   \n",
        "*   Methodology/Analytic Technique:\n",
        "    *   Exploratory Data Analysis\n",
        "    *   Deep-Dive Exploration\n",
        "    *   TF-IDF (Term Frequency - Inverse Document Frequency)\n",
        "    *   Cosine Similarity\n",
        "\n",
        "\n",
        "### **Data Understanding**\n",
        "*   Sumber data: Netflix Movies and TV Shows yang berasal dari Kaggle, yang dapat diakses melalui link sebagai berikut:\n",
        "https://www.kaggle.com/datasets/shivamb/netflix-shows\n",
        "\n",
        "*   Data detail:\n",
        "    *   show_id: ID tayangan\n",
        "    *   type: apakah tayangan termasuk movie atau TV show\n",
        "    *   title: judul film atau TV show\n",
        "    *   director: direktur film\n",
        "    *   cast: pemeran film atau TV show\n",
        "    *   country: negara di mana film atau TV show diproduksi\n",
        "    *   date_added: tanggal release film atau TV show di Netflix\n",
        "    *   release_year: tahun release film atau TV show yang sebenarnya\n",
        "    *   rating: rating atas film atau TV show\n",
        "    *   duration: total durasi dalam menit atau jumlah season\n",
        "    *   listed_in: genre atas film atau TV show \n",
        "    *   description: rangkuman deskripsi film atau TV show\n",
        "\n"
      ],
      "metadata": {
        "id": "l1i2YmCN9ycc"
      },
      "id": "l1i2YmCN9ycc"
    },
    {
      "cell_type": "markdown",
      "source": [
        "### **Data Preparation**"
      ],
      "metadata": {
        "id": "nqHPmFLM88T7"
      },
      "id": "nqHPmFLM88T7"
    },
    {
      "cell_type": "markdown",
      "source": [
        "#### Import Package"
      ],
      "metadata": {
        "id": "aEJwXKRsh6WZ"
      },
      "id": "aEJwXKRsh6WZ"
    },
    {
      "cell_type": "code",
      "execution_count": 124,
      "id": "1c63ce53",
      "metadata": {
        "id": "1c63ce53"
      },
      "outputs": [],
      "source": [
        "#Import Warning\n",
        "import warnings\n",
        "warnings.filterwarnings('ignore')\n",
        "\n",
        "#Import Package yang Digunakan\n",
        "import datetime as dt\n",
        "import numpy as np\n",
        "import pandas as pd\n",
        "import seaborn as sns\n",
        "import matplotlib\n",
        "import matplotlib.pyplot as plt\n",
        "%matplotlib inline\n",
        "import missingno\n",
        "import squarify as sq\n",
        "import random\n",
        "from PIL import Image\n",
        "from wordcloud import WordCloud\n",
        "from textblob import TextBlob\n",
        "from sklearn.feature_extraction.text import TfidfVectorizer, CountVectorizer\n",
        "from sklearn.metrics.pairwise import linear_kernel, cosine_similarity"
      ]
    },
    {
      "cell_type": "markdown",
      "source": [
        "#### Load Dataset"
      ],
      "metadata": {
        "id": "TY1neSkGiAeH"
      },
      "id": "TY1neSkGiAeH"
    },
    {
      "cell_type": "code",
      "source": [
        "#Upload Data\n",
        "df = pd.read_csv(\"/content/netflix_titles.csv\")\n",
        "df.head(3)"
      ],
      "metadata": {
        "colab": {
          "base_uri": "https://localhost:8080/",
          "height": 292
        },
        "id": "t_eGMt5hiD8E",
        "outputId": "d29563d2-ad10-485a-d581-d0dd79ce9d83"
      },
      "id": "t_eGMt5hiD8E",
      "execution_count": 125,
      "outputs": [
        {
          "output_type": "execute_result",
          "data": {
            "text/plain": [
              "  show_id     type                 title         director  \\\n",
              "0      s1    Movie  Dick Johnson Is Dead  Kirsten Johnson   \n",
              "1      s2  TV Show         Blood & Water              NaN   \n",
              "2      s3  TV Show             Ganglands  Julien Leclercq   \n",
              "\n",
              "                                                cast        country  \\\n",
              "0                                                NaN  United States   \n",
              "1  Ama Qamata, Khosi Ngema, Gail Mabalane, Thaban...   South Africa   \n",
              "2  Sami Bouajila, Tracy Gotoas, Samuel Jouy, Nabi...            NaN   \n",
              "\n",
              "           date_added  release_year rating   duration  \\\n",
              "0  September 25, 2021          2020  PG-13     90 min   \n",
              "1  September 24, 2021          2021  TV-MA  2 Seasons   \n",
              "2  September 24, 2021          2021  TV-MA   1 Season   \n",
              "\n",
              "                                           listed_in  \\\n",
              "0                                      Documentaries   \n",
              "1    International TV Shows, TV Dramas, TV Mysteries   \n",
              "2  Crime TV Shows, International TV Shows, TV Act...   \n",
              "\n",
              "                                         description  \n",
              "0  As her father nears the end of his life, filmm...  \n",
              "1  After crossing paths at a party, a Cape Town t...  \n",
              "2  To protect his family from a powerful drug lor...  "
            ],
            "text/html": [
              "\n",
              "  <div id=\"df-d16eec58-1d99-4dfb-841f-41afa3f364ed\">\n",
              "    <div class=\"colab-df-container\">\n",
              "      <div>\n",
              "<style scoped>\n",
              "    .dataframe tbody tr th:only-of-type {\n",
              "        vertical-align: middle;\n",
              "    }\n",
              "\n",
              "    .dataframe tbody tr th {\n",
              "        vertical-align: top;\n",
              "    }\n",
              "\n",
              "    .dataframe thead th {\n",
              "        text-align: right;\n",
              "    }\n",
              "</style>\n",
              "<table border=\"1\" class=\"dataframe\">\n",
              "  <thead>\n",
              "    <tr style=\"text-align: right;\">\n",
              "      <th></th>\n",
              "      <th>show_id</th>\n",
              "      <th>type</th>\n",
              "      <th>title</th>\n",
              "      <th>director</th>\n",
              "      <th>cast</th>\n",
              "      <th>country</th>\n",
              "      <th>date_added</th>\n",
              "      <th>release_year</th>\n",
              "      <th>rating</th>\n",
              "      <th>duration</th>\n",
              "      <th>listed_in</th>\n",
              "      <th>description</th>\n",
              "    </tr>\n",
              "  </thead>\n",
              "  <tbody>\n",
              "    <tr>\n",
              "      <th>0</th>\n",
              "      <td>s1</td>\n",
              "      <td>Movie</td>\n",
              "      <td>Dick Johnson Is Dead</td>\n",
              "      <td>Kirsten Johnson</td>\n",
              "      <td>NaN</td>\n",
              "      <td>United States</td>\n",
              "      <td>September 25, 2021</td>\n",
              "      <td>2020</td>\n",
              "      <td>PG-13</td>\n",
              "      <td>90 min</td>\n",
              "      <td>Documentaries</td>\n",
              "      <td>As her father nears the end of his life, filmm...</td>\n",
              "    </tr>\n",
              "    <tr>\n",
              "      <th>1</th>\n",
              "      <td>s2</td>\n",
              "      <td>TV Show</td>\n",
              "      <td>Blood &amp; Water</td>\n",
              "      <td>NaN</td>\n",
              "      <td>Ama Qamata, Khosi Ngema, Gail Mabalane, Thaban...</td>\n",
              "      <td>South Africa</td>\n",
              "      <td>September 24, 2021</td>\n",
              "      <td>2021</td>\n",
              "      <td>TV-MA</td>\n",
              "      <td>2 Seasons</td>\n",
              "      <td>International TV Shows, TV Dramas, TV Mysteries</td>\n",
              "      <td>After crossing paths at a party, a Cape Town t...</td>\n",
              "    </tr>\n",
              "    <tr>\n",
              "      <th>2</th>\n",
              "      <td>s3</td>\n",
              "      <td>TV Show</td>\n",
              "      <td>Ganglands</td>\n",
              "      <td>Julien Leclercq</td>\n",
              "      <td>Sami Bouajila, Tracy Gotoas, Samuel Jouy, Nabi...</td>\n",
              "      <td>NaN</td>\n",
              "      <td>September 24, 2021</td>\n",
              "      <td>2021</td>\n",
              "      <td>TV-MA</td>\n",
              "      <td>1 Season</td>\n",
              "      <td>Crime TV Shows, International TV Shows, TV Act...</td>\n",
              "      <td>To protect his family from a powerful drug lor...</td>\n",
              "    </tr>\n",
              "  </tbody>\n",
              "</table>\n",
              "</div>\n",
              "      <button class=\"colab-df-convert\" onclick=\"convertToInteractive('df-d16eec58-1d99-4dfb-841f-41afa3f364ed')\"\n",
              "              title=\"Convert this dataframe to an interactive table.\"\n",
              "              style=\"display:none;\">\n",
              "        \n",
              "  <svg xmlns=\"http://www.w3.org/2000/svg\" height=\"24px\"viewBox=\"0 0 24 24\"\n",
              "       width=\"24px\">\n",
              "    <path d=\"M0 0h24v24H0V0z\" fill=\"none\"/>\n",
              "    <path d=\"M18.56 5.44l.94 2.06.94-2.06 2.06-.94-2.06-.94-.94-2.06-.94 2.06-2.06.94zm-11 1L8.5 8.5l.94-2.06 2.06-.94-2.06-.94L8.5 2.5l-.94 2.06-2.06.94zm10 10l.94 2.06.94-2.06 2.06-.94-2.06-.94-.94-2.06-.94 2.06-2.06.94z\"/><path d=\"M17.41 7.96l-1.37-1.37c-.4-.4-.92-.59-1.43-.59-.52 0-1.04.2-1.43.59L10.3 9.45l-7.72 7.72c-.78.78-.78 2.05 0 2.83L4 21.41c.39.39.9.59 1.41.59.51 0 1.02-.2 1.41-.59l7.78-7.78 2.81-2.81c.8-.78.8-2.07 0-2.86zM5.41 20L4 18.59l7.72-7.72 1.47 1.35L5.41 20z\"/>\n",
              "  </svg>\n",
              "      </button>\n",
              "      \n",
              "  <style>\n",
              "    .colab-df-container {\n",
              "      display:flex;\n",
              "      flex-wrap:wrap;\n",
              "      gap: 12px;\n",
              "    }\n",
              "\n",
              "    .colab-df-convert {\n",
              "      background-color: #E8F0FE;\n",
              "      border: none;\n",
              "      border-radius: 50%;\n",
              "      cursor: pointer;\n",
              "      display: none;\n",
              "      fill: #1967D2;\n",
              "      height: 32px;\n",
              "      padding: 0 0 0 0;\n",
              "      width: 32px;\n",
              "    }\n",
              "\n",
              "    .colab-df-convert:hover {\n",
              "      background-color: #E2EBFA;\n",
              "      box-shadow: 0px 1px 2px rgba(60, 64, 67, 0.3), 0px 1px 3px 1px rgba(60, 64, 67, 0.15);\n",
              "      fill: #174EA6;\n",
              "    }\n",
              "\n",
              "    [theme=dark] .colab-df-convert {\n",
              "      background-color: #3B4455;\n",
              "      fill: #D2E3FC;\n",
              "    }\n",
              "\n",
              "    [theme=dark] .colab-df-convert:hover {\n",
              "      background-color: #434B5C;\n",
              "      box-shadow: 0px 1px 3px 1px rgba(0, 0, 0, 0.15);\n",
              "      filter: drop-shadow(0px 1px 2px rgba(0, 0, 0, 0.3));\n",
              "      fill: #FFFFFF;\n",
              "    }\n",
              "  </style>\n",
              "\n",
              "      <script>\n",
              "        const buttonEl =\n",
              "          document.querySelector('#df-d16eec58-1d99-4dfb-841f-41afa3f364ed button.colab-df-convert');\n",
              "        buttonEl.style.display =\n",
              "          google.colab.kernel.accessAllowed ? 'block' : 'none';\n",
              "\n",
              "        async function convertToInteractive(key) {\n",
              "          const element = document.querySelector('#df-d16eec58-1d99-4dfb-841f-41afa3f364ed');\n",
              "          const dataTable =\n",
              "            await google.colab.kernel.invokeFunction('convertToInteractive',\n",
              "                                                     [key], {});\n",
              "          if (!dataTable) return;\n",
              "\n",
              "          const docLinkHtml = 'Like what you see? Visit the ' +\n",
              "            '<a target=\"_blank\" href=https://colab.research.google.com/notebooks/data_table.ipynb>data table notebook</a>'\n",
              "            + ' to learn more about interactive tables.';\n",
              "          element.innerHTML = '';\n",
              "          dataTable['output_type'] = 'display_data';\n",
              "          await google.colab.output.renderOutput(dataTable, element);\n",
              "          const docLink = document.createElement('div');\n",
              "          docLink.innerHTML = docLinkHtml;\n",
              "          element.appendChild(docLink);\n",
              "        }\n",
              "      </script>\n",
              "    </div>\n",
              "  </div>\n",
              "  "
            ]
          },
          "metadata": {},
          "execution_count": 125
        }
      ]
    },
    {
      "cell_type": "code",
      "source": [
        "#Melihat Informasi Data\n",
        "df.info()"
      ],
      "metadata": {
        "colab": {
          "base_uri": "https://localhost:8080/"
        },
        "id": "XBosl-TeNXmy",
        "outputId": "42acaf80-a47b-4821-d732-e93e07fd9188"
      },
      "id": "XBosl-TeNXmy",
      "execution_count": 126,
      "outputs": [
        {
          "output_type": "stream",
          "name": "stdout",
          "text": [
            "<class 'pandas.core.frame.DataFrame'>\n",
            "RangeIndex: 8807 entries, 0 to 8806\n",
            "Data columns (total 12 columns):\n",
            " #   Column        Non-Null Count  Dtype \n",
            "---  ------        --------------  ----- \n",
            " 0   show_id       8807 non-null   object\n",
            " 1   type          8807 non-null   object\n",
            " 2   title         8807 non-null   object\n",
            " 3   director      6173 non-null   object\n",
            " 4   cast          7982 non-null   object\n",
            " 5   country       7976 non-null   object\n",
            " 6   date_added    8797 non-null   object\n",
            " 7   release_year  8807 non-null   int64 \n",
            " 8   rating        8803 non-null   object\n",
            " 9   duration      8804 non-null   object\n",
            " 10  listed_in     8807 non-null   object\n",
            " 11  description   8807 non-null   object\n",
            "dtypes: int64(1), object(11)\n",
            "memory usage: 825.8+ KB\n"
          ]
        }
      ]
    },
    {
      "cell_type": "markdown",
      "source": [
        "Observation:\n",
        "1. Data memiliki 12 kolom dengan 8807 baris\n",
        "2. Terdapat 11 kolom yang bertipe data Categorical, 1 kolom yang bertipe data Numerical\n",
        "3. Kolom date_added memiliki tipe data yang tidak sesuai yang harus diproses lebih lanjut\n",
        "4. Terdapat indikasi adanya missing value karena beberapa kolom memiliki jumlah data yang berbeda dengan jumlah total baris"
      ],
      "metadata": {
        "id": "ius10UIc2znk"
      },
      "id": "ius10UIc2znk"
    },
    {
      "cell_type": "markdown",
      "source": [
        "### **Pre-Processing**"
      ],
      "metadata": {
        "id": "RR6U9VBQ1qv6"
      },
      "id": "RR6U9VBQ1qv6"
    },
    {
      "cell_type": "code",
      "source": [
        "#Melihat Isi Data untuk show_id\n",
        "df[\"show_id\"].value_counts"
      ],
      "metadata": {
        "colab": {
          "base_uri": "https://localhost:8080/"
        },
        "id": "LtbOWEcEbLC-",
        "outputId": "5b8fa1f8-8029-49ac-aa82-4529c2da36fa"
      },
      "id": "LtbOWEcEbLC-",
      "execution_count": 127,
      "outputs": [
        {
          "output_type": "execute_result",
          "data": {
            "text/plain": [
              "<bound method IndexOpsMixin.value_counts of 0          s1\n",
              "1          s2\n",
              "2          s3\n",
              "3          s4\n",
              "4          s5\n",
              "        ...  \n",
              "8802    s8803\n",
              "8803    s8804\n",
              "8804    s8805\n",
              "8805    s8806\n",
              "8806    s8807\n",
              "Name: show_id, Length: 8807, dtype: object>"
            ]
          },
          "metadata": {},
          "execution_count": 127
        }
      ]
    },
    {
      "cell_type": "markdown",
      "source": [
        "Observation:\n",
        "1. Kolom show_id berisikan nomor ID atas masing-masing film dan TV show, sehingga tidak bermanfaat dalam analisa dan dapat didrop kolom"
      ],
      "metadata": {
        "id": "xQfeA6BMb3-I"
      },
      "id": "xQfeA6BMb3-I"
    },
    {
      "cell_type": "code",
      "source": [
        "#Mendrop Kolom show_id\n",
        "df=df.drop(columns=\"show_id\")"
      ],
      "metadata": {
        "id": "YHxww_w_bUqv"
      },
      "id": "YHxww_w_bUqv",
      "execution_count": 128,
      "outputs": []
    },
    {
      "cell_type": "code",
      "source": [
        "#Melihat Isi Data untuk date_added karena Memiliki Tipe Data yang Kurang Sesuai\n",
        "df[\"date_added\"].value_counts()"
      ],
      "metadata": {
        "colab": {
          "base_uri": "https://localhost:8080/"
        },
        "id": "3UDOEQRrj5dA",
        "outputId": "0abeff88-6de8-4437-f8e1-85de53a56f2f"
      },
      "id": "3UDOEQRrj5dA",
      "execution_count": 129,
      "outputs": [
        {
          "output_type": "execute_result",
          "data": {
            "text/plain": [
              "January 1, 2020      109\n",
              "November 1, 2019      89\n",
              "March 1, 2018         75\n",
              "December 31, 2019     74\n",
              "October 1, 2018       71\n",
              "                    ... \n",
              "December 4, 2016       1\n",
              "November 21, 2016      1\n",
              "November 19, 2016      1\n",
              "November 17, 2016      1\n",
              "January 11, 2020       1\n",
              "Name: date_added, Length: 1767, dtype: int64"
            ]
          },
          "metadata": {},
          "execution_count": 129
        }
      ]
    },
    {
      "cell_type": "markdown",
      "source": [
        "Observation:\n",
        "1. Kolom date_added berisikan tanggal dengan format month, day, year, sehingga dapat displit menjadi month_added dan year_added untuk mempermudah analisa, sedangkan untuk day dapat dihilangkan karena tidak dibutuhkan untuk menganalisa secara detail\n",
        "2. Setelah mensplit kolom date_added, kolom date_added dapat didrop kolom agar tidak terdapat duplikasi kolom"
      ],
      "metadata": {
        "id": "RiTzOWdkcJl-"
      },
      "id": "RiTzOWdkcJl-"
    },
    {
      "cell_type": "code",
      "source": [
        "#Mengubah Tipe Data date_added\n",
        "df[\"date_added\"] = pd.to_datetime(df[\"date_added\"])\n",
        "\n",
        "#Mensplit date_added\n",
        "df[\"month_added\"] = df[\"date_added\"].dt.month.astype(\"Int64\")\n",
        "df[\"year_added\"] = df[\"date_added\"].dt.year.astype(\"Int64\")\n",
        "\n",
        "#Mendrop date_added agar Tidak Duplikasi dengan Kolom yang Displit di Atas\n",
        "df=df.drop(columns=\"date_added\")\n",
        "\n",
        "#Mengecek Ulang Isi Data\n",
        "df.head(3)"
      ],
      "metadata": {
        "colab": {
          "base_uri": "https://localhost:8080/",
          "height": 292
        },
        "id": "IxF8ZV54vrMe",
        "outputId": "f1e5c3ad-c0af-4d9f-8f24-97cc2a6c2f6b"
      },
      "id": "IxF8ZV54vrMe",
      "execution_count": 130,
      "outputs": [
        {
          "output_type": "execute_result",
          "data": {
            "text/plain": [
              "      type                 title         director  \\\n",
              "0    Movie  Dick Johnson Is Dead  Kirsten Johnson   \n",
              "1  TV Show         Blood & Water              NaN   \n",
              "2  TV Show             Ganglands  Julien Leclercq   \n",
              "\n",
              "                                                cast        country  \\\n",
              "0                                                NaN  United States   \n",
              "1  Ama Qamata, Khosi Ngema, Gail Mabalane, Thaban...   South Africa   \n",
              "2  Sami Bouajila, Tracy Gotoas, Samuel Jouy, Nabi...            NaN   \n",
              "\n",
              "   release_year rating   duration  \\\n",
              "0          2020  PG-13     90 min   \n",
              "1          2021  TV-MA  2 Seasons   \n",
              "2          2021  TV-MA   1 Season   \n",
              "\n",
              "                                           listed_in  \\\n",
              "0                                      Documentaries   \n",
              "1    International TV Shows, TV Dramas, TV Mysteries   \n",
              "2  Crime TV Shows, International TV Shows, TV Act...   \n",
              "\n",
              "                                         description  month_added  year_added  \n",
              "0  As her father nears the end of his life, filmm...            9        2021  \n",
              "1  After crossing paths at a party, a Cape Town t...            9        2021  \n",
              "2  To protect his family from a powerful drug lor...            9        2021  "
            ],
            "text/html": [
              "\n",
              "  <div id=\"df-6c24822d-2d59-4f83-a5a4-5a2b288789d8\">\n",
              "    <div class=\"colab-df-container\">\n",
              "      <div>\n",
              "<style scoped>\n",
              "    .dataframe tbody tr th:only-of-type {\n",
              "        vertical-align: middle;\n",
              "    }\n",
              "\n",
              "    .dataframe tbody tr th {\n",
              "        vertical-align: top;\n",
              "    }\n",
              "\n",
              "    .dataframe thead th {\n",
              "        text-align: right;\n",
              "    }\n",
              "</style>\n",
              "<table border=\"1\" class=\"dataframe\">\n",
              "  <thead>\n",
              "    <tr style=\"text-align: right;\">\n",
              "      <th></th>\n",
              "      <th>type</th>\n",
              "      <th>title</th>\n",
              "      <th>director</th>\n",
              "      <th>cast</th>\n",
              "      <th>country</th>\n",
              "      <th>release_year</th>\n",
              "      <th>rating</th>\n",
              "      <th>duration</th>\n",
              "      <th>listed_in</th>\n",
              "      <th>description</th>\n",
              "      <th>month_added</th>\n",
              "      <th>year_added</th>\n",
              "    </tr>\n",
              "  </thead>\n",
              "  <tbody>\n",
              "    <tr>\n",
              "      <th>0</th>\n",
              "      <td>Movie</td>\n",
              "      <td>Dick Johnson Is Dead</td>\n",
              "      <td>Kirsten Johnson</td>\n",
              "      <td>NaN</td>\n",
              "      <td>United States</td>\n",
              "      <td>2020</td>\n",
              "      <td>PG-13</td>\n",
              "      <td>90 min</td>\n",
              "      <td>Documentaries</td>\n",
              "      <td>As her father nears the end of his life, filmm...</td>\n",
              "      <td>9</td>\n",
              "      <td>2021</td>\n",
              "    </tr>\n",
              "    <tr>\n",
              "      <th>1</th>\n",
              "      <td>TV Show</td>\n",
              "      <td>Blood &amp; Water</td>\n",
              "      <td>NaN</td>\n",
              "      <td>Ama Qamata, Khosi Ngema, Gail Mabalane, Thaban...</td>\n",
              "      <td>South Africa</td>\n",
              "      <td>2021</td>\n",
              "      <td>TV-MA</td>\n",
              "      <td>2 Seasons</td>\n",
              "      <td>International TV Shows, TV Dramas, TV Mysteries</td>\n",
              "      <td>After crossing paths at a party, a Cape Town t...</td>\n",
              "      <td>9</td>\n",
              "      <td>2021</td>\n",
              "    </tr>\n",
              "    <tr>\n",
              "      <th>2</th>\n",
              "      <td>TV Show</td>\n",
              "      <td>Ganglands</td>\n",
              "      <td>Julien Leclercq</td>\n",
              "      <td>Sami Bouajila, Tracy Gotoas, Samuel Jouy, Nabi...</td>\n",
              "      <td>NaN</td>\n",
              "      <td>2021</td>\n",
              "      <td>TV-MA</td>\n",
              "      <td>1 Season</td>\n",
              "      <td>Crime TV Shows, International TV Shows, TV Act...</td>\n",
              "      <td>To protect his family from a powerful drug lor...</td>\n",
              "      <td>9</td>\n",
              "      <td>2021</td>\n",
              "    </tr>\n",
              "  </tbody>\n",
              "</table>\n",
              "</div>\n",
              "      <button class=\"colab-df-convert\" onclick=\"convertToInteractive('df-6c24822d-2d59-4f83-a5a4-5a2b288789d8')\"\n",
              "              title=\"Convert this dataframe to an interactive table.\"\n",
              "              style=\"display:none;\">\n",
              "        \n",
              "  <svg xmlns=\"http://www.w3.org/2000/svg\" height=\"24px\"viewBox=\"0 0 24 24\"\n",
              "       width=\"24px\">\n",
              "    <path d=\"M0 0h24v24H0V0z\" fill=\"none\"/>\n",
              "    <path d=\"M18.56 5.44l.94 2.06.94-2.06 2.06-.94-2.06-.94-.94-2.06-.94 2.06-2.06.94zm-11 1L8.5 8.5l.94-2.06 2.06-.94-2.06-.94L8.5 2.5l-.94 2.06-2.06.94zm10 10l.94 2.06.94-2.06 2.06-.94-2.06-.94-.94-2.06-.94 2.06-2.06.94z\"/><path d=\"M17.41 7.96l-1.37-1.37c-.4-.4-.92-.59-1.43-.59-.52 0-1.04.2-1.43.59L10.3 9.45l-7.72 7.72c-.78.78-.78 2.05 0 2.83L4 21.41c.39.39.9.59 1.41.59.51 0 1.02-.2 1.41-.59l7.78-7.78 2.81-2.81c.8-.78.8-2.07 0-2.86zM5.41 20L4 18.59l7.72-7.72 1.47 1.35L5.41 20z\"/>\n",
              "  </svg>\n",
              "      </button>\n",
              "      \n",
              "  <style>\n",
              "    .colab-df-container {\n",
              "      display:flex;\n",
              "      flex-wrap:wrap;\n",
              "      gap: 12px;\n",
              "    }\n",
              "\n",
              "    .colab-df-convert {\n",
              "      background-color: #E8F0FE;\n",
              "      border: none;\n",
              "      border-radius: 50%;\n",
              "      cursor: pointer;\n",
              "      display: none;\n",
              "      fill: #1967D2;\n",
              "      height: 32px;\n",
              "      padding: 0 0 0 0;\n",
              "      width: 32px;\n",
              "    }\n",
              "\n",
              "    .colab-df-convert:hover {\n",
              "      background-color: #E2EBFA;\n",
              "      box-shadow: 0px 1px 2px rgba(60, 64, 67, 0.3), 0px 1px 3px 1px rgba(60, 64, 67, 0.15);\n",
              "      fill: #174EA6;\n",
              "    }\n",
              "\n",
              "    [theme=dark] .colab-df-convert {\n",
              "      background-color: #3B4455;\n",
              "      fill: #D2E3FC;\n",
              "    }\n",
              "\n",
              "    [theme=dark] .colab-df-convert:hover {\n",
              "      background-color: #434B5C;\n",
              "      box-shadow: 0px 1px 3px 1px rgba(0, 0, 0, 0.15);\n",
              "      filter: drop-shadow(0px 1px 2px rgba(0, 0, 0, 0.3));\n",
              "      fill: #FFFFFF;\n",
              "    }\n",
              "  </style>\n",
              "\n",
              "      <script>\n",
              "        const buttonEl =\n",
              "          document.querySelector('#df-6c24822d-2d59-4f83-a5a4-5a2b288789d8 button.colab-df-convert');\n",
              "        buttonEl.style.display =\n",
              "          google.colab.kernel.accessAllowed ? 'block' : 'none';\n",
              "\n",
              "        async function convertToInteractive(key) {\n",
              "          const element = document.querySelector('#df-6c24822d-2d59-4f83-a5a4-5a2b288789d8');\n",
              "          const dataTable =\n",
              "            await google.colab.kernel.invokeFunction('convertToInteractive',\n",
              "                                                     [key], {});\n",
              "          if (!dataTable) return;\n",
              "\n",
              "          const docLinkHtml = 'Like what you see? Visit the ' +\n",
              "            '<a target=\"_blank\" href=https://colab.research.google.com/notebooks/data_table.ipynb>data table notebook</a>'\n",
              "            + ' to learn more about interactive tables.';\n",
              "          element.innerHTML = '';\n",
              "          dataTable['output_type'] = 'display_data';\n",
              "          await google.colab.output.renderOutput(dataTable, element);\n",
              "          const docLink = document.createElement('div');\n",
              "          docLink.innerHTML = docLinkHtml;\n",
              "          element.appendChild(docLink);\n",
              "        }\n",
              "      </script>\n",
              "    </div>\n",
              "  </div>\n",
              "  "
            ]
          },
          "metadata": {},
          "execution_count": 130
        }
      ]
    },
    {
      "cell_type": "code",
      "source": [
        "#Mengecek Ulang Tipe Data Setelah Pemrosesan\n",
        "df.info()"
      ],
      "metadata": {
        "colab": {
          "base_uri": "https://localhost:8080/"
        },
        "id": "0HxBlm5nyoPR",
        "outputId": "126d7154-b5f7-48a2-afd9-da4064a82884"
      },
      "id": "0HxBlm5nyoPR",
      "execution_count": 131,
      "outputs": [
        {
          "output_type": "stream",
          "name": "stdout",
          "text": [
            "<class 'pandas.core.frame.DataFrame'>\n",
            "RangeIndex: 8807 entries, 0 to 8806\n",
            "Data columns (total 12 columns):\n",
            " #   Column        Non-Null Count  Dtype \n",
            "---  ------        --------------  ----- \n",
            " 0   type          8807 non-null   object\n",
            " 1   title         8807 non-null   object\n",
            " 2   director      6173 non-null   object\n",
            " 3   cast          7982 non-null   object\n",
            " 4   country       7976 non-null   object\n",
            " 5   release_year  8807 non-null   int64 \n",
            " 6   rating        8803 non-null   object\n",
            " 7   duration      8804 non-null   object\n",
            " 8   listed_in     8807 non-null   object\n",
            " 9   description   8807 non-null   object\n",
            " 10  month_added   8797 non-null   Int64 \n",
            " 11  year_added    8797 non-null   Int64 \n",
            "dtypes: Int64(2), int64(1), object(9)\n",
            "memory usage: 843.0+ KB\n"
          ]
        }
      ]
    },
    {
      "cell_type": "markdown",
      "source": [
        "Observation:\n",
        "1. Data memiliki 12 kolom dengan 8807 baris\n",
        "2. Terdapat 10 kolom yang bertipe data Categorical, 2 kolom yang bertipe data Numerical\n",
        "3. Data terlihat memiliki tipe data yang sesuai dengan kolomnya\n",
        "4. Terdapat indikasi adanya missing value karena beberapa kolom memiliki jumlah data yang berbeda dengan jumlah total baris"
      ],
      "metadata": {
        "id": "e09Ww8PojX1c"
      },
      "id": "e09Ww8PojX1c"
    },
    {
      "cell_type": "markdown",
      "source": [
        "### **Perform Standard Data Cleaning**"
      ],
      "metadata": {
        "id": "HpeyX7Vw2J-M"
      },
      "id": "HpeyX7Vw2J-M"
    },
    {
      "cell_type": "markdown",
      "source": [
        "####**Missing Value**"
      ],
      "metadata": {
        "id": "bY1qWRmW2VXI"
      },
      "id": "bY1qWRmW2VXI"
    },
    {
      "cell_type": "code",
      "source": [
        "#Mengecek Adanya Missing Value\n",
        "df.isna().sum()"
      ],
      "metadata": {
        "id": "YCdpCGZN21p_",
        "colab": {
          "base_uri": "https://localhost:8080/"
        },
        "outputId": "27dda0a9-5b94-4f65-b899-15ff89063f95"
      },
      "id": "YCdpCGZN21p_",
      "execution_count": 132,
      "outputs": [
        {
          "output_type": "execute_result",
          "data": {
            "text/plain": [
              "type               0\n",
              "title              0\n",
              "director        2634\n",
              "cast             825\n",
              "country          831\n",
              "release_year       0\n",
              "rating             4\n",
              "duration           3\n",
              "listed_in          0\n",
              "description        0\n",
              "month_added       10\n",
              "year_added        10\n",
              "dtype: int64"
            ]
          },
          "metadata": {},
          "execution_count": 132
        }
      ]
    },
    {
      "cell_type": "code",
      "source": [
        "#Membuat Visualisasi untuk Missing Value\n",
        "color = [\"#292929\",\"#292929\",\"#B12025\",\"#E61E25\",\"#E61E25\",\"#292929\",\"indianred\",\"indianred\",\"#292929\",\"#292929\",\"indianred\",\"indianred\"]\n",
        "missingno.bar(df,fontsize =12, color = color, figsize = (10,4))\n",
        "plt.show()"
      ],
      "metadata": {
        "colab": {
          "base_uri": "https://localhost:8080/",
          "height": 361
        },
        "id": "8GVjaTlsrVfh",
        "outputId": "3795436a-ba9d-468f-b6d2-81dc4639e254"
      },
      "id": "8GVjaTlsrVfh",
      "execution_count": 133,
      "outputs": [
        {
          "output_type": "display_data",
          "data": {
            "text/plain": [
              "<Figure size 720x288 with 3 Axes>"
            ],
            "image/png": "[encoded data removed]"
          },
          "metadata": {
            "needs_background": "light"
          }
        }
      ]
    },
    {
      "cell_type": "markdown",
      "source": [
        "Observation:\n",
        "1. Sesuai dengan observation di atas, data memiliki missing value yang harus dihandle, sebagai berikut:\n",
        "   *   director : replace blank dengan \"No Director\"\n",
        "   *   cast : replace blank dengan \"No Cast\"\n",
        "   *   country : replace dengan \"United States\" karena kebanyakan film atau TV shows yang terdapat di Netflix berasal dari United States\n",
        "   *   rating : replace dengan modus\n",
        "   *   duration : replace dengan modus\n",
        "   *   month_added : replace dengan modus\n",
        "   *   year_added : replace dengan modus\n",
        "\n",
        "Sebagai tambahan, kita tidak dapat meremove row karena kita ingin untuk membuat recommendation system pada akhir project, sehingga tidak ingin kehilangan judul film atau TV shows apapun\n"
      ],
      "metadata": {
        "id": "uksXzTGL2uRg"
      },
      "id": "uksXzTGL2uRg"
    },
    {
      "cell_type": "code",
      "source": [
        "#Mereplace Blank pada director\n",
        "df[\"director\"]=df[\"director\"].fillna(\"No Director\")\n",
        "\n",
        "#Mereplace Blank pada cast\n",
        "df[\"cast\"]=df[\"cast\"].fillna(\"No Cast\")\n",
        "\n",
        "#Mereplace Blank pada country\n",
        "df[\"country\"]=df[\"country\"].fillna(\"No Country\")\n",
        "\n",
        "#Mereplace Blank pada rating\n",
        "df[\"rating\"]=df[\"rating\"].fillna(df[\"rating\"].mode()[0])\n",
        "\n",
        "#Mereplace Blank pada duration\n",
        "df[\"duration\"]=df[\"duration\"].fillna(df[\"duration\"].mode()[0])\n",
        "\n",
        "#Mereplace Blank pada month_added\n",
        "df[\"month_added\"]=df[\"month_added\"].fillna(df[\"month_added\"].mode()[0])\n",
        "\n",
        "#Mereplace Blank pada year_added\n",
        "df[\"year_added\"]=df[\"year_added\"].fillna(df[\"year_added\"].mode()[0])"
      ],
      "metadata": {
        "id": "px6W5vUA_SeY"
      },
      "id": "px6W5vUA_SeY",
      "execution_count": 134,
      "outputs": []
    },
    {
      "cell_type": "code",
      "source": [
        "#Mengecek Ulang Adanya Missing Value\n",
        "df.isna().sum()"
      ],
      "metadata": {
        "colab": {
          "base_uri": "https://localhost:8080/"
        },
        "id": "cAARZzDCCQVI",
        "outputId": "7f1d66bb-0ac7-49da-feef-eb967b83c1f0"
      },
      "id": "cAARZzDCCQVI",
      "execution_count": 135,
      "outputs": [
        {
          "output_type": "execute_result",
          "data": {
            "text/plain": [
              "type            0\n",
              "title           0\n",
              "director        0\n",
              "cast            0\n",
              "country         0\n",
              "release_year    0\n",
              "rating          0\n",
              "duration        0\n",
              "listed_in       0\n",
              "description     0\n",
              "month_added     0\n",
              "year_added      0\n",
              "dtype: int64"
            ]
          },
          "metadata": {},
          "execution_count": 135
        }
      ]
    },
    {
      "cell_type": "code",
      "source": [
        "#Mengecek Ulang Dimensi Data Setelah Mentreatment Missing Value\n",
        "df.shape"
      ],
      "metadata": {
        "colab": {
          "base_uri": "https://localhost:8080/"
        },
        "id": "SjGigkq0CU4Q",
        "outputId": "fb0dac02-49ad-495f-ec30-2a94f47c2979"
      },
      "id": "SjGigkq0CU4Q",
      "execution_count": 136,
      "outputs": [
        {
          "output_type": "execute_result",
          "data": {
            "text/plain": [
              "(8807, 12)"
            ]
          },
          "metadata": {},
          "execution_count": 136
        }
      ]
    },
    {
      "cell_type": "code",
      "source": [
        "#Mengecek Ulang Isi Data Setelah Mentreatment Missing Value\n",
        "df.head(3)"
      ],
      "metadata": {
        "colab": {
          "base_uri": "https://localhost:8080/",
          "height": 292
        },
        "id": "3lf-mmOmi0VL",
        "outputId": "28ecc73d-b50c-4f0b-d059-877fcc21b210"
      },
      "id": "3lf-mmOmi0VL",
      "execution_count": 137,
      "outputs": [
        {
          "output_type": "execute_result",
          "data": {
            "text/plain": [
              "      type                 title         director  \\\n",
              "0    Movie  Dick Johnson Is Dead  Kirsten Johnson   \n",
              "1  TV Show         Blood & Water      No Director   \n",
              "2  TV Show             Ganglands  Julien Leclercq   \n",
              "\n",
              "                                                cast        country  \\\n",
              "0                                            No Cast  United States   \n",
              "1  Ama Qamata, Khosi Ngema, Gail Mabalane, Thaban...   South Africa   \n",
              "2  Sami Bouajila, Tracy Gotoas, Samuel Jouy, Nabi...     No Country   \n",
              "\n",
              "   release_year rating   duration  \\\n",
              "0          2020  PG-13     90 min   \n",
              "1          2021  TV-MA  2 Seasons   \n",
              "2          2021  TV-MA   1 Season   \n",
              "\n",
              "                                           listed_in  \\\n",
              "0                                      Documentaries   \n",
              "1    International TV Shows, TV Dramas, TV Mysteries   \n",
              "2  Crime TV Shows, International TV Shows, TV Act...   \n",
              "\n",
              "                                         description  month_added  year_added  \n",
              "0  As her father nears the end of his life, filmm...            9        2021  \n",
              "1  After crossing paths at a party, a Cape Town t...            9        2021  \n",
              "2  To protect his family from a powerful drug lor...            9        2021  "
            ],
            "text/html": [
              "\n",
              "  <div id=\"df-752bd58d-2554-4141-b43b-3ec3945c02e6\">\n",
              "    <div class=\"colab-df-container\">\n",
              "      <div>\n",
              "<style scoped>\n",
              "    .dataframe tbody tr th:only-of-type {\n",
              "        vertical-align: middle;\n",
              "    }\n",
              "\n",
              "    .dataframe tbody tr th {\n",
              "        vertical-align: top;\n",
              "    }\n",
              "\n",
              "    .dataframe thead th {\n",
              "        text-align: right;\n",
              "    }\n",
              "</style>\n",
              "<table border=\"1\" class=\"dataframe\">\n",
              "  <thead>\n",
              "    <tr style=\"text-align: right;\">\n",
              "      <th></th>\n",
              "      <th>type</th>\n",
              "      <th>title</th>\n",
              "      <th>director</th>\n",
              "      <th>cast</th>\n",
              "      <th>country</th>\n",
              "      <th>release_year</th>\n",
              "      <th>rating</th>\n",
              "      <th>duration</th>\n",
              "      <th>listed_in</th>\n",
              "      <th>description</th>\n",
              "      <th>month_added</th>\n",
              "      <th>year_added</th>\n",
              "    </tr>\n",
              "  </thead>\n",
              "  <tbody>\n",
              "    <tr>\n",
              "      <th>0</th>\n",
              "      <td>Movie</td>\n",
              "      <td>Dick Johnson Is Dead</td>\n",
              "      <td>Kirsten Johnson</td>\n",
              "      <td>No Cast</td>\n",
              "      <td>United States</td>\n",
              "      <td>2020</td>\n",
              "      <td>PG-13</td>\n",
              "      <td>90 min</td>\n",
              "      <td>Documentaries</td>\n",
              "      <td>As her father nears the end of his life, filmm...</td>\n",
              "      <td>9</td>\n",
              "      <td>2021</td>\n",
              "    </tr>\n",
              "    <tr>\n",
              "      <th>1</th>\n",
              "      <td>TV Show</td>\n",
              "      <td>Blood &amp; Water</td>\n",
              "      <td>No Director</td>\n",
              "      <td>Ama Qamata, Khosi Ngema, Gail Mabalane, Thaban...</td>\n",
              "      <td>South Africa</td>\n",
              "      <td>2021</td>\n",
              "      <td>TV-MA</td>\n",
              "      <td>2 Seasons</td>\n",
              "      <td>International TV Shows, TV Dramas, TV Mysteries</td>\n",
              "      <td>After crossing paths at a party, a Cape Town t...</td>\n",
              "      <td>9</td>\n",
              "      <td>2021</td>\n",
              "    </tr>\n",
              "    <tr>\n",
              "      <th>2</th>\n",
              "      <td>TV Show</td>\n",
              "      <td>Ganglands</td>\n",
              "      <td>Julien Leclercq</td>\n",
              "      <td>Sami Bouajila, Tracy Gotoas, Samuel Jouy, Nabi...</td>\n",
              "      <td>No Country</td>\n",
              "      <td>2021</td>\n",
              "      <td>TV-MA</td>\n",
              "      <td>1 Season</td>\n",
              "      <td>Crime TV Shows, International TV Shows, TV Act...</td>\n",
              "      <td>To protect his family from a powerful drug lor...</td>\n",
              "      <td>9</td>\n",
              "      <td>2021</td>\n",
              "    </tr>\n",
              "  </tbody>\n",
              "</table>\n",
              "</div>\n",
              "      <button class=\"colab-df-convert\" onclick=\"convertToInteractive('df-752bd58d-2554-4141-b43b-3ec3945c02e6')\"\n",
              "              title=\"Convert this dataframe to an interactive table.\"\n",
              "              style=\"display:none;\">\n",
              "        \n",
              "  <svg xmlns=\"http://www.w3.org/2000/svg\" height=\"24px\"viewBox=\"0 0 24 24\"\n",
              "       width=\"24px\">\n",
              "    <path d=\"M0 0h24v24H0V0z\" fill=\"none\"/>\n",
              "    <path d=\"M18.56 5.44l.94 2.06.94-2.06 2.06-.94-2.06-.94-.94-2.06-.94 2.06-2.06.94zm-11 1L8.5 8.5l.94-2.06 2.06-.94-2.06-.94L8.5 2.5l-.94 2.06-2.06.94zm10 10l.94 2.06.94-2.06 2.06-.94-2.06-.94-.94-2.06-.94 2.06-2.06.94z\"/><path d=\"M17.41 7.96l-1.37-1.37c-.4-.4-.92-.59-1.43-.59-.52 0-1.04.2-1.43.59L10.3 9.45l-7.72 7.72c-.78.78-.78 2.05 0 2.83L4 21.41c.39.39.9.59 1.41.59.51 0 1.02-.2 1.41-.59l7.78-7.78 2.81-2.81c.8-.78.8-2.07 0-2.86zM5.41 20L4 18.59l7.72-7.72 1.47 1.35L5.41 20z\"/>\n",
              "  </svg>\n",
              "      </button>\n",
              "      \n",
              "  <style>\n",
              "    .colab-df-container {\n",
              "      display:flex;\n",
              "      flex-wrap:wrap;\n",
              "      gap: 12px;\n",
              "    }\n",
              "\n",
              "    .colab-df-convert {\n",
              "      background-color: #E8F0FE;\n",
              "      border: none;\n",
              "      border-radius: 50%;\n",
              "      cursor: pointer;\n",
              "      display: none;\n",
              "      fill: #1967D2;\n",
              "      height: 32px;\n",
              "      padding: 0 0 0 0;\n",
              "      width: 32px;\n",
              "    }\n",
              "\n",
              "    .colab-df-convert:hover {\n",
              "      background-color: #E2EBFA;\n",
              "      box-shadow: 0px 1px 2px rgba(60, 64, 67, 0.3), 0px 1px 3px 1px rgba(60, 64, 67, 0.15);\n",
              "      fill: #174EA6;\n",
              "    }\n",
              "\n",
              "    [theme=dark] .colab-df-convert {\n",
              "      background-color: #3B4455;\n",
              "      fill: #D2E3FC;\n",
              "    }\n",
              "\n",
              "    [theme=dark] .colab-df-convert:hover {\n",
              "      background-color: #434B5C;\n",
              "      box-shadow: 0px 1px 3px 1px rgba(0, 0, 0, 0.15);\n",
              "      filter: drop-shadow(0px 1px 2px rgba(0, 0, 0, 0.3));\n",
              "      fill: #FFFFFF;\n",
              "    }\n",
              "  </style>\n",
              "\n",
              "      <script>\n",
              "        const buttonEl =\n",
              "          document.querySelector('#df-752bd58d-2554-4141-b43b-3ec3945c02e6 button.colab-df-convert');\n",
              "        buttonEl.style.display =\n",
              "          google.colab.kernel.accessAllowed ? 'block' : 'none';\n",
              "\n",
              "        async function convertToInteractive(key) {\n",
              "          const element = document.querySelector('#df-752bd58d-2554-4141-b43b-3ec3945c02e6');\n",
              "          const dataTable =\n",
              "            await google.colab.kernel.invokeFunction('convertToInteractive',\n",
              "                                                     [key], {});\n",
              "          if (!dataTable) return;\n",
              "\n",
              "          const docLinkHtml = 'Like what you see? Visit the ' +\n",
              "            '<a target=\"_blank\" href=https://colab.research.google.com/notebooks/data_table.ipynb>data table notebook</a>'\n",
              "            + ' to learn more about interactive tables.';\n",
              "          element.innerHTML = '';\n",
              "          dataTable['output_type'] = 'display_data';\n",
              "          await google.colab.output.renderOutput(dataTable, element);\n",
              "          const docLink = document.createElement('div');\n",
              "          docLink.innerHTML = docLinkHtml;\n",
              "          element.appendChild(docLink);\n",
              "        }\n",
              "      </script>\n",
              "    </div>\n",
              "  </div>\n",
              "  "
            ]
          },
          "metadata": {},
          "execution_count": 137
        }
      ]
    },
    {
      "cell_type": "markdown",
      "source": [
        "Observation:\n",
        "1. Missing value telah dihandle, sehingga tidak terdapat lagi adanya missing value"
      ],
      "metadata": {
        "id": "vEWp1LVeGLIR"
      },
      "id": "vEWp1LVeGLIR"
    },
    {
      "cell_type": "markdown",
      "source": [
        "####**Duplicate**"
      ],
      "metadata": {
        "id": "i_qNIhpG2clJ"
      },
      "id": "i_qNIhpG2clJ"
    },
    {
      "cell_type": "code",
      "source": [
        "#Mengecek Adanya Duplikat Data\n",
        "df.duplicated().sum()"
      ],
      "metadata": {
        "id": "Uxw5YvVx3BO1",
        "colab": {
          "base_uri": "https://localhost:8080/"
        },
        "outputId": "61e081b6-0ab2-47f5-e6e6-d505022bfcf9"
      },
      "id": "Uxw5YvVx3BO1",
      "execution_count": 138,
      "outputs": [
        {
          "output_type": "execute_result",
          "data": {
            "text/plain": [
              "0"
            ]
          },
          "metadata": {},
          "execution_count": 138
        }
      ]
    },
    {
      "cell_type": "markdown",
      "source": [
        "Observation:\n",
        "1. Data tidak memiliki duplicate"
      ],
      "metadata": {
        "id": "o8dWrzjaneQb"
      },
      "id": "o8dWrzjaneQb"
    },
    {
      "cell_type": "markdown",
      "source": [
        "### **Perform Standard EDA with Rich Interpretations**"
      ],
      "metadata": {
        "id": "bwd3BBsN3Og-"
      },
      "id": "bwd3BBsN3Og-"
    },
    {
      "cell_type": "markdown",
      "source": [
        "#### **Univariate / Bivariate / Multivariate Analysis**"
      ],
      "metadata": {
        "id": "nuSdOBXi30GX"
      },
      "id": "nuSdOBXi30GX"
    },
    {
      "cell_type": "code",
      "source": [
        "#Mencari Unique dari Kolom type\n",
        "df.type.value_counts()"
      ],
      "metadata": {
        "colab": {
          "base_uri": "https://localhost:8080/"
        },
        "id": "cnQlC0OE8_12",
        "outputId": "58f4e5e3-d96b-4630-dd9a-cf0130960475"
      },
      "id": "cnQlC0OE8_12",
      "execution_count": 139,
      "outputs": [
        {
          "output_type": "execute_result",
          "data": {
            "text/plain": [
              "Movie      6131\n",
              "TV Show    2676\n",
              "Name: type, dtype: int64"
            ]
          },
          "metadata": {},
          "execution_count": 139
        }
      ]
    },
    {
      "cell_type": "code",
      "source": [
        "#Membuat Bar Plot untuk Melihat Jenis Tayangan\n",
        "color=[\"#292929\",\"#B12025\"]\n",
        "plt.figure(figsize=(8,6))\n",
        "pie = plt.pie(df.type.value_counts(), explode=(0.03,0.03), labels=df.type.value_counts().index, \n",
        "        colors=color, autopct=\"%1.1f%%\", startangle=180, textprops=dict(color=\"w\"))\n",
        "plt.show()"
      ],
      "metadata": {
        "colab": {
          "base_uri": "https://localhost:8080/",
          "height": 357
        },
        "id": "8tEkR6uWebzL",
        "outputId": "7a1dda58-cbf4-40a2-bf83-2aeec0616134"
      },
      "id": "8tEkR6uWebzL",
      "execution_count": 140,
      "outputs": [
        {
          "output_type": "display_data",
          "data": {
            "text/plain": [
              "<Figure size 576x432 with 1 Axes>"
            ],
            "image/png": "[encoded data removed]"
          },
          "metadata": {}
        }
      ]
    },
    {
      "cell_type": "markdown",
      "source": [
        "Observation:\n",
        "1. Sebanyak 69.6% tayangan pada Netflix adalah film, sedangkan 30.4% berupa TV show. Hal ini dikarenakan masih belum banyaknya tayangan original yang diproduksi sendiri oleh Netflix, sehingga Netflix lebih banyak bergantung pada tayangan yang diproduksi oleh kompetitor, dimana kompetitor tersebut mempunyai channel tersendiri untuk menayangkannya.\n",
        "2. Kolom type dapat digunakan untuk menggroupkan data, sehingga dapat membantu untuk menganalisa data lebih dalam\n"
      ],
      "metadata": {
        "id": "LWDDhnoqj3Zy"
      },
      "id": "LWDDhnoqj3Zy"
    },
    {
      "cell_type": "code",
      "source": [
        "#Menginput Gambar\n",
        "mask = np.array(Image.open(\"netflix-logo-icon-n.jpg\"))\n",
        "\n",
        "#Menentukan Warna\n",
        "color = matplotlib.colors.LinearSegmentedColormap.from_list(\"\", [\"#292929\",\"#B12025\"])\n",
        "\n",
        "#Membuat Wordcloud untuk Title\n",
        "plt.subplots(figsize=(5,8))\n",
        "wordcloud = WordCloud(mask=mask,\n",
        "                      max_words=150,\n",
        "                      colormap = color,\n",
        "                      background_color=\"White\",\n",
        "                      width=50,\n",
        "                      height=200).generate(\" \".join(df.title))\n",
        "plt.imshow(wordcloud)\n",
        "plt.axis(\"off\")\n",
        "#plt.savefig('cast.png')\n",
        "plt.show()"
      ],
      "metadata": {
        "colab": {
          "base_uri": "https://localhost:8080/",
          "height": 464
        },
        "id": "NRiGQ9f6D8gv",
        "outputId": "aed0ff27-e2b8-48dd-d872-5883349e287c"
      },
      "id": "NRiGQ9f6D8gv",
      "execution_count": 189,
      "outputs": [
        {
          "output_type": "display_data",
          "data": {
            "text/plain": [
              "<Figure size 360x576 with 1 Axes>"
            ],
            "image/png": "[encoded data removed]"
          },
          "metadata": {
            "needs_background": "light"
          }
        }
      ]
    },
    {
      "cell_type": "markdown",
      "source": [
        "Observation:\n",
        "1. Terlihat bahwa title terbanyak adalah yang mengandung kata Love, Girl, Man, World, dan Life, diikuti dengan kata-kata lainnya"
      ],
      "metadata": {
        "id": "FKNrOWKJ7sjD"
      },
      "id": "FKNrOWKJ7sjD"
    },
    {
      "cell_type": "code",
      "source": [
        "#Membuat dan Memfilter List untuk director\n",
        "director_df = pd.DataFrame()\n",
        "director_df = df[\"director\"].str.split(\",\",expand=True).stack()\n",
        "director_df = director_df.to_frame()\n",
        "director_df.columns = [\"director\"]\n",
        "\n",
        "#Mengkategorikan dan Memfilter director\n",
        "director_grp = (director_df\n",
        "                .groupby(\"director\")\n",
        "                .agg(director_count=(\"director\",\"count\"))\n",
        "                .reset_index()\n",
        "                .sort_values([\"director_count\"],ascending=False)\n",
        "                .head(10)\n",
        "                )\n",
        "director_grp = director_grp[director_grp[\"director\"]!= \"No Director\"]\n",
        "director_grp"
      ],
      "metadata": {
        "colab": {
          "base_uri": "https://localhost:8080/",
          "height": 332
        },
        "id": "E4B_l6d-1MAt",
        "outputId": "bc3a008c-ab3c-46c8-831f-1f663b07c4f1"
      },
      "id": "E4B_l6d-1MAt",
      "execution_count": 142,
      "outputs": [
        {
          "output_type": "execute_result",
          "data": {
            "text/plain": [
              "                 director  director_count\n",
              "4021        Rajiv Chilaka              22\n",
              "4068          Raúl Campos              18\n",
              "261             Jan Suter              18\n",
              "4652          Suhas Kadav              16\n",
              "3235         Marcus Raboy              16\n",
              "2450            Jay Karas              15\n",
              "1382  Cathy Garcia-Molina              13\n",
              "2447          Jay Chapman              12\n",
              "3306      Martin Scorsese              12"
            ],
            "text/html": [
              "\n",
              "  <div id=\"df-1e571474-8dfd-4a0c-aa7c-60ef43939fc0\">\n",
              "    <div class=\"colab-df-container\">\n",
              "      <div>\n",
              "<style scoped>\n",
              "    .dataframe tbody tr th:only-of-type {\n",
              "        vertical-align: middle;\n",
              "    }\n",
              "\n",
              "    .dataframe tbody tr th {\n",
              "        vertical-align: top;\n",
              "    }\n",
              "\n",
              "    .dataframe thead th {\n",
              "        text-align: right;\n",
              "    }\n",
              "</style>\n",
              "<table border=\"1\" class=\"dataframe\">\n",
              "  <thead>\n",
              "    <tr style=\"text-align: right;\">\n",
              "      <th></th>\n",
              "      <th>director</th>\n",
              "      <th>director_count</th>\n",
              "    </tr>\n",
              "  </thead>\n",
              "  <tbody>\n",
              "    <tr>\n",
              "      <th>4021</th>\n",
              "      <td>Rajiv Chilaka</td>\n",
              "      <td>22</td>\n",
              "    </tr>\n",
              "    <tr>\n",
              "      <th>4068</th>\n",
              "      <td>Raúl Campos</td>\n",
              "      <td>18</td>\n",
              "    </tr>\n",
              "    <tr>\n",
              "      <th>261</th>\n",
              "      <td>Jan Suter</td>\n",
              "      <td>18</td>\n",
              "    </tr>\n",
              "    <tr>\n",
              "      <th>4652</th>\n",
              "      <td>Suhas Kadav</td>\n",
              "      <td>16</td>\n",
              "    </tr>\n",
              "    <tr>\n",
              "      <th>3235</th>\n",
              "      <td>Marcus Raboy</td>\n",
              "      <td>16</td>\n",
              "    </tr>\n",
              "    <tr>\n",
              "      <th>2450</th>\n",
              "      <td>Jay Karas</td>\n",
              "      <td>15</td>\n",
              "    </tr>\n",
              "    <tr>\n",
              "      <th>1382</th>\n",
              "      <td>Cathy Garcia-Molina</td>\n",
              "      <td>13</td>\n",
              "    </tr>\n",
              "    <tr>\n",
              "      <th>2447</th>\n",
              "      <td>Jay Chapman</td>\n",
              "      <td>12</td>\n",
              "    </tr>\n",
              "    <tr>\n",
              "      <th>3306</th>\n",
              "      <td>Martin Scorsese</td>\n",
              "      <td>12</td>\n",
              "    </tr>\n",
              "  </tbody>\n",
              "</table>\n",
              "</div>\n",
              "      <button class=\"colab-df-convert\" onclick=\"convertToInteractive('df-1e571474-8dfd-4a0c-aa7c-60ef43939fc0')\"\n",
              "              title=\"Convert this dataframe to an interactive table.\"\n",
              "              style=\"display:none;\">\n",
              "        \n",
              "  <svg xmlns=\"http://www.w3.org/2000/svg\" height=\"24px\"viewBox=\"0 0 24 24\"\n",
              "       width=\"24px\">\n",
              "    <path d=\"M0 0h24v24H0V0z\" fill=\"none\"/>\n",
              "    <path d=\"M18.56 5.44l.94 2.06.94-2.06 2.06-.94-2.06-.94-.94-2.06-.94 2.06-2.06.94zm-11 1L8.5 8.5l.94-2.06 2.06-.94-2.06-.94L8.5 2.5l-.94 2.06-2.06.94zm10 10l.94 2.06.94-2.06 2.06-.94-2.06-.94-.94-2.06-.94 2.06-2.06.94z\"/><path d=\"M17.41 7.96l-1.37-1.37c-.4-.4-.92-.59-1.43-.59-.52 0-1.04.2-1.43.59L10.3 9.45l-7.72 7.72c-.78.78-.78 2.05 0 2.83L4 21.41c.39.39.9.59 1.41.59.51 0 1.02-.2 1.41-.59l7.78-7.78 2.81-2.81c.8-.78.8-2.07 0-2.86zM5.41 20L4 18.59l7.72-7.72 1.47 1.35L5.41 20z\"/>\n",
              "  </svg>\n",
              "      </button>\n",
              "      \n",
              "  <style>\n",
              "    .colab-df-container {\n",
              "      display:flex;\n",
              "      flex-wrap:wrap;\n",
              "      gap: 12px;\n",
              "    }\n",
              "\n",
              "    .colab-df-convert {\n",
              "      background-color: #E8F0FE;\n",
              "      border: none;\n",
              "      border-radius: 50%;\n",
              "      cursor: pointer;\n",
              "      display: none;\n",
              "      fill: #1967D2;\n",
              "      height: 32px;\n",
              "      padding: 0 0 0 0;\n",
              "      width: 32px;\n",
              "    }\n",
              "\n",
              "    .colab-df-convert:hover {\n",
              "      background-color: #E2EBFA;\n",
              "      box-shadow: 0px 1px 2px rgba(60, 64, 67, 0.3), 0px 1px 3px 1px rgba(60, 64, 67, 0.15);\n",
              "      fill: #174EA6;\n",
              "    }\n",
              "\n",
              "    [theme=dark] .colab-df-convert {\n",
              "      background-color: #3B4455;\n",
              "      fill: #D2E3FC;\n",
              "    }\n",
              "\n",
              "    [theme=dark] .colab-df-convert:hover {\n",
              "      background-color: #434B5C;\n",
              "      box-shadow: 0px 1px 3px 1px rgba(0, 0, 0, 0.15);\n",
              "      filter: drop-shadow(0px 1px 2px rgba(0, 0, 0, 0.3));\n",
              "      fill: #FFFFFF;\n",
              "    }\n",
              "  </style>\n",
              "\n",
              "      <script>\n",
              "        const buttonEl =\n",
              "          document.querySelector('#df-1e571474-8dfd-4a0c-aa7c-60ef43939fc0 button.colab-df-convert');\n",
              "        buttonEl.style.display =\n",
              "          google.colab.kernel.accessAllowed ? 'block' : 'none';\n",
              "\n",
              "        async function convertToInteractive(key) {\n",
              "          const element = document.querySelector('#df-1e571474-8dfd-4a0c-aa7c-60ef43939fc0');\n",
              "          const dataTable =\n",
              "            await google.colab.kernel.invokeFunction('convertToInteractive',\n",
              "                                                     [key], {});\n",
              "          if (!dataTable) return;\n",
              "\n",
              "          const docLinkHtml = 'Like what you see? Visit the ' +\n",
              "            '<a target=\"_blank\" href=https://colab.research.google.com/notebooks/data_table.ipynb>data table notebook</a>'\n",
              "            + ' to learn more about interactive tables.';\n",
              "          element.innerHTML = '';\n",
              "          dataTable['output_type'] = 'display_data';\n",
              "          await google.colab.output.renderOutput(dataTable, element);\n",
              "          const docLink = document.createElement('div');\n",
              "          docLink.innerHTML = docLinkHtml;\n",
              "          element.appendChild(docLink);\n",
              "        }\n",
              "      </script>\n",
              "    </div>\n",
              "  </div>\n",
              "  "
            ]
          },
          "metadata": {},
          "execution_count": 142
        }
      ]
    },
    {
      "cell_type": "code",
      "source": [
        "#Membuat dan Memfilter List untuk cast \n",
        "cast_df = pd.DataFrame()\n",
        "cast_df = df[\"cast\"].str.split(\",\",expand=True).stack()\n",
        "cast_df = cast_df.to_frame()\n",
        "cast_df.columns = [\"cast\"]\n",
        "\n",
        "#Mengkategorikan dan Memfilter cast\n",
        "cast_grp = (cast_df\n",
        "                .groupby(\"cast\")\n",
        "                .agg(cast_count=(\"cast\",\"count\"))\n",
        "                .reset_index()\n",
        "                .sort_values([\"cast_count\"],ascending=False)\n",
        "                .head(10)\n",
        "                )\n",
        "cast_grp = cast_grp[cast_grp[\"cast\"]!= \"No Cast\"]\n",
        "cast_grp"
      ],
      "metadata": {
        "colab": {
          "base_uri": "https://localhost:8080/",
          "height": 332
        },
        "id": "7Wyzs8J11H-H",
        "outputId": "4eb83668-13b5-493f-ffc4-3af013d0d770"
      },
      "id": "7Wyzs8J11H-H",
      "execution_count": 143,
      "outputs": [
        {
          "output_type": "execute_result",
          "data": {
            "text/plain": [
              "                    cast  cast_count\n",
              "2612         Anupam Kher          39\n",
              "26941       Rupa Bhimani          31\n",
              "30303   Takahiro Sakurai          30\n",
              "15541      Julie Tejwani          28\n",
              "23624            Om Puri          27\n",
              "38446     Shah Rukh Khan          26\n",
              "25410        Rajesh Kava          26\n",
              "33367          Yuki Kaji          25\n",
              "23956       Paresh Rawal          25"
            ],
            "text/html": [
              "\n",
              "  <div id=\"df-cc6c9f14-fc22-4195-8afa-f8463babaafd\">\n",
              "    <div class=\"colab-df-container\">\n",
              "      <div>\n",
              "<style scoped>\n",
              "    .dataframe tbody tr th:only-of-type {\n",
              "        vertical-align: middle;\n",
              "    }\n",
              "\n",
              "    .dataframe tbody tr th {\n",
              "        vertical-align: top;\n",
              "    }\n",
              "\n",
              "    .dataframe thead th {\n",
              "        text-align: right;\n",
              "    }\n",
              "</style>\n",
              "<table border=\"1\" class=\"dataframe\">\n",
              "  <thead>\n",
              "    <tr style=\"text-align: right;\">\n",
              "      <th></th>\n",
              "      <th>cast</th>\n",
              "      <th>cast_count</th>\n",
              "    </tr>\n",
              "  </thead>\n",
              "  <tbody>\n",
              "    <tr>\n",
              "      <th>2612</th>\n",
              "      <td>Anupam Kher</td>\n",
              "      <td>39</td>\n",
              "    </tr>\n",
              "    <tr>\n",
              "      <th>26941</th>\n",
              "      <td>Rupa Bhimani</td>\n",
              "      <td>31</td>\n",
              "    </tr>\n",
              "    <tr>\n",
              "      <th>30303</th>\n",
              "      <td>Takahiro Sakurai</td>\n",
              "      <td>30</td>\n",
              "    </tr>\n",
              "    <tr>\n",
              "      <th>15541</th>\n",
              "      <td>Julie Tejwani</td>\n",
              "      <td>28</td>\n",
              "    </tr>\n",
              "    <tr>\n",
              "      <th>23624</th>\n",
              "      <td>Om Puri</td>\n",
              "      <td>27</td>\n",
              "    </tr>\n",
              "    <tr>\n",
              "      <th>38446</th>\n",
              "      <td>Shah Rukh Khan</td>\n",
              "      <td>26</td>\n",
              "    </tr>\n",
              "    <tr>\n",
              "      <th>25410</th>\n",
              "      <td>Rajesh Kava</td>\n",
              "      <td>26</td>\n",
              "    </tr>\n",
              "    <tr>\n",
              "      <th>33367</th>\n",
              "      <td>Yuki Kaji</td>\n",
              "      <td>25</td>\n",
              "    </tr>\n",
              "    <tr>\n",
              "      <th>23956</th>\n",
              "      <td>Paresh Rawal</td>\n",
              "      <td>25</td>\n",
              "    </tr>\n",
              "  </tbody>\n",
              "</table>\n",
              "</div>\n",
              "      <button class=\"colab-df-convert\" onclick=\"convertToInteractive('df-cc6c9f14-fc22-4195-8afa-f8463babaafd')\"\n",
              "              title=\"Convert this dataframe to an interactive table.\"\n",
              "              style=\"display:none;\">\n",
              "        \n",
              "  <svg xmlns=\"http://www.w3.org/2000/svg\" height=\"24px\"viewBox=\"0 0 24 24\"\n",
              "       width=\"24px\">\n",
              "    <path d=\"M0 0h24v24H0V0z\" fill=\"none\"/>\n",
              "    <path d=\"M18.56 5.44l.94 2.06.94-2.06 2.06-.94-2.06-.94-.94-2.06-.94 2.06-2.06.94zm-11 1L8.5 8.5l.94-2.06 2.06-.94-2.06-.94L8.5 2.5l-.94 2.06-2.06.94zm10 10l.94 2.06.94-2.06 2.06-.94-2.06-.94-.94-2.06-.94 2.06-2.06.94z\"/><path d=\"M17.41 7.96l-1.37-1.37c-.4-.4-.92-.59-1.43-.59-.52 0-1.04.2-1.43.59L10.3 9.45l-7.72 7.72c-.78.78-.78 2.05 0 2.83L4 21.41c.39.39.9.59 1.41.59.51 0 1.02-.2 1.41-.59l7.78-7.78 2.81-2.81c.8-.78.8-2.07 0-2.86zM5.41 20L4 18.59l7.72-7.72 1.47 1.35L5.41 20z\"/>\n",
              "  </svg>\n",
              "      </button>\n",
              "      \n",
              "  <style>\n",
              "    .colab-df-container {\n",
              "      display:flex;\n",
              "      flex-wrap:wrap;\n",
              "      gap: 12px;\n",
              "    }\n",
              "\n",
              "    .colab-df-convert {\n",
              "      background-color: #E8F0FE;\n",
              "      border: none;\n",
              "      border-radius: 50%;\n",
              "      cursor: pointer;\n",
              "      display: none;\n",
              "      fill: #1967D2;\n",
              "      height: 32px;\n",
              "      padding: 0 0 0 0;\n",
              "      width: 32px;\n",
              "    }\n",
              "\n",
              "    .colab-df-convert:hover {\n",
              "      background-color: #E2EBFA;\n",
              "      box-shadow: 0px 1px 2px rgba(60, 64, 67, 0.3), 0px 1px 3px 1px rgba(60, 64, 67, 0.15);\n",
              "      fill: #174EA6;\n",
              "    }\n",
              "\n",
              "    [theme=dark] .colab-df-convert {\n",
              "      background-color: #3B4455;\n",
              "      fill: #D2E3FC;\n",
              "    }\n",
              "\n",
              "    [theme=dark] .colab-df-convert:hover {\n",
              "      background-color: #434B5C;\n",
              "      box-shadow: 0px 1px 3px 1px rgba(0, 0, 0, 0.15);\n",
              "      filter: drop-shadow(0px 1px 2px rgba(0, 0, 0, 0.3));\n",
              "      fill: #FFFFFF;\n",
              "    }\n",
              "  </style>\n",
              "\n",
              "      <script>\n",
              "        const buttonEl =\n",
              "          document.querySelector('#df-cc6c9f14-fc22-4195-8afa-f8463babaafd button.colab-df-convert');\n",
              "        buttonEl.style.display =\n",
              "          google.colab.kernel.accessAllowed ? 'block' : 'none';\n",
              "\n",
              "        async function convertToInteractive(key) {\n",
              "          const element = document.querySelector('#df-cc6c9f14-fc22-4195-8afa-f8463babaafd');\n",
              "          const dataTable =\n",
              "            await google.colab.kernel.invokeFunction('convertToInteractive',\n",
              "                                                     [key], {});\n",
              "          if (!dataTable) return;\n",
              "\n",
              "          const docLinkHtml = 'Like what you see? Visit the ' +\n",
              "            '<a target=\"_blank\" href=https://colab.research.google.com/notebooks/data_table.ipynb>data table notebook</a>'\n",
              "            + ' to learn more about interactive tables.';\n",
              "          element.innerHTML = '';\n",
              "          dataTable['output_type'] = 'display_data';\n",
              "          await google.colab.output.renderOutput(dataTable, element);\n",
              "          const docLink = document.createElement('div');\n",
              "          docLink.innerHTML = docLinkHtml;\n",
              "          element.appendChild(docLink);\n",
              "        }\n",
              "      </script>\n",
              "    </div>\n",
              "  </div>\n",
              "  "
            ]
          },
          "metadata": {},
          "execution_count": 143
        }
      ]
    },
    {
      "cell_type": "code",
      "source": [
        "#Menentukan Warna dan Label\n",
        "color =  [\"#292929\",\"#B12025\"]\n",
        "labelcast = cast_grp.cast\n",
        "labeldirector = director_grp.director\n",
        "\n",
        "#Membuat Subplot untuk Melihat Top 10 genre\n",
        "fig, ax = plt.subplots(1,2,figsize=(20,6))\n",
        "\n",
        "#Membuat Bar Plot untuk Melihat Top 10 director\n",
        "sq.plot(director_grp.director_count, color =color, label = labeldirector, pad = True, ax=ax[0])\n",
        "ax[0].title.set_text(\"Top 10 Director - Overall\")\n",
        "ax[0].axis(\"off\")\n",
        "\n",
        "#Membuat Bar Plot untuk Melihat Top 10 cast\n",
        "sq.plot(cast_grp.cast_count, color =color, label = labelcast, pad = True, ax=ax[1])\n",
        "ax[1].title.set_text(\"Top 10 Cast - Overall\")\n",
        "ax[1].axis(\"off\")\n",
        "\n",
        "plt.show()"
      ],
      "metadata": {
        "colab": {
          "base_uri": "https://localhost:8080/",
          "height": 373
        },
        "id": "CTj0W7QAyPAF",
        "outputId": "c19f81dd-e4d5-4107-a4fd-33f0f0c49d8b"
      },
      "id": "CTj0W7QAyPAF",
      "execution_count": 144,
      "outputs": [
        {
          "output_type": "display_data",
          "data": {
            "text/plain": [
              "<Figure size 1440x432 with 2 Axes>"
            ],
            "image/png": "[encoded data removed]"
          },
          "metadata": {
            "needs_background": "light"
          }
        }
      ]
    },
    {
      "cell_type": "markdown",
      "source": [
        "Observation:\n",
        "1. Director yang memproduksi film dan TV show terbanyak di Netflix adalah director yang berasal dari United States dan kebanyakan memproduksi film dan TV show dengan genre documentary \n",
        "2. Actor/actress yang membintangi film dan TV show terbanyak di Netflix adalah actor/actress yang berasal dari India"
      ],
      "metadata": {
        "id": "aIELRULl2YTq"
      },
      "id": "aIELRULl2YTq"
    },
    {
      "cell_type": "code",
      "source": [
        "#Menggroupkan Data Berdasarkan type\n",
        "Moviedf = df[df[\"type\"] == \"Movie\"]\n",
        "TVdf = df[df[\"type\"] == \"TV Show\"]"
      ],
      "metadata": {
        "id": "EGPkSZcPcRSZ"
      },
      "id": "EGPkSZcPcRSZ",
      "execution_count": 145,
      "outputs": []
    },
    {
      "cell_type": "code",
      "source": [
        "#Membuat Subplot untuk Melihat Top 10 genre\n",
        "fig, ax = plt.subplots(3,1,figsize=(11,18))\n",
        "\n",
        "#Membuat Bar Plot untuk Melihat Top 10 genre Secara Keseluruhan\n",
        "sns.countplot(data=df,y=\"listed_in\",order=df[\"listed_in\"].value_counts().index[0:10],color=\"#292929\",ax=ax[0])\n",
        "ax[0].title.set_text(\"Top 10 Genre - Overall\")\n",
        "\n",
        "#Membuat Bar Plot untuk Melihat Top 10 genre Berdasarkan Movie\n",
        "sns.countplot(data=Moviedf,y=\"listed_in\",order=Moviedf[\"listed_in\"].value_counts().index[0:10],color=\"#B12025\",ax=ax[1])\n",
        "ax[1].title.set_text(\"Top 10 Genre - Movie\")\n",
        "\n",
        "#Membuat Bar Plot untuk Melihat Top 10 genre Berdasarkan TV Show\n",
        "sns.countplot(data=TVdf,y=\"listed_in\",order=TVdf[\"listed_in\"].value_counts().index[0:10],color=\"#B12025\",ax=ax[2])\n",
        "ax[2].title.set_text(\"Top 10 Genre - TV Show\")"
      ],
      "metadata": {
        "colab": {
          "base_uri": "https://localhost:8080/",
          "height": 1000
        },
        "id": "Or2eSfSgOS3Q",
        "outputId": "e8a28d56-f35a-4f41-97e0-89f6671efe64"
      },
      "id": "Or2eSfSgOS3Q",
      "execution_count": 146,
      "outputs": [
        {
          "output_type": "display_data",
          "data": {
            "text/plain": [
              "<Figure size 792x1296 with 3 Axes>"
            ],
            "image/png": "[encoded data removed]"
          },
          "metadata": {
            "needs_background": "light"
          }
        }
      ]
    },
    {
      "cell_type": "markdown",
      "source": [
        "Observation:\n",
        "1. Top 3 genre yang terdapat pada Netflix secara keseluruhan adalah Dramas, International Movies dan Documentaries yang berjumlah hampir sama, yaitu 350 untuk masing-masing, serta Stand Up Comedy yang berjumlah tidak jauh berbeda dari top 1 dan 2. Sejalan dengan hal ini, director terbanyak yang memproduksi film dan TV show di Netflix adalah director yang memproduksi konten bergenre Documentaries\n",
        "2. Karena kebanyakan jenis tayangan yang terdapat pada Netflix adalah Movie, maka top 3 genre pada Movie sama persis dengan top 3 yang terdapat pada data secara keseluruhan\n",
        "3. Untuk TV show, lebih dari 200 tayangan adalah Kids TV\n",
        "4. Seperti yang telah disebutkan di atas, kebanyakan tayangan di Netflix bukan merupakan tayangan original yang diproduksi oleh Netflix. Sejalan dengan hal ini, berdasarkan genrenya, tayangan yang tersedia adalah tayangan dengan harga lisensi yang murah, seperti Dramas/Internasional Movies dan Documentaries ataupun Kids TV\n"
      ],
      "metadata": {
        "id": "lXt2jgmiUPRo"
      },
      "id": "lXt2jgmiUPRo"
    },
    {
      "cell_type": "code",
      "source": [
        "#Mengecek Value dari Rating karena Apabila Divisualisasikan terdapat Value yang Tidak Sesuai\n",
        "df[\"rating\"].value_counts()"
      ],
      "metadata": {
        "colab": {
          "base_uri": "https://localhost:8080/"
        },
        "id": "nxf1p0vjflBA",
        "outputId": "97ecfde6-3479-45b2-df22-c608b1529d74"
      },
      "id": "nxf1p0vjflBA",
      "execution_count": 147,
      "outputs": [
        {
          "output_type": "execute_result",
          "data": {
            "text/plain": [
              "TV-MA       3211\n",
              "TV-14       2160\n",
              "TV-PG        863\n",
              "R            799\n",
              "PG-13        490\n",
              "TV-Y7        334\n",
              "TV-Y         307\n",
              "PG           287\n",
              "TV-G         220\n",
              "NR            80\n",
              "G             41\n",
              "TV-Y7-FV       6\n",
              "NC-17          3\n",
              "UR             3\n",
              "74 min         1\n",
              "84 min         1\n",
              "66 min         1\n",
              "Name: rating, dtype: int64"
            ]
          },
          "metadata": {},
          "execution_count": 147
        }
      ]
    },
    {
      "cell_type": "code",
      "source": [
        "#Melihat Isi Data untuk rating yang Tidak Sesuai\n",
        "df.loc[((df[\"rating\"]==\"74 min\")|(df[\"rating\"]==\"84 min\")|(df[\"rating\"]==\"66 min\")),[\"rating\",\"type\",\"description\"]]"
      ],
      "metadata": {
        "colab": {
          "base_uri": "https://localhost:8080/",
          "height": 143
        },
        "id": "R6iSNx3Ks_ic",
        "outputId": "3fc06dbe-3a3b-4568-db11-a01037620489"
      },
      "id": "R6iSNx3Ks_ic",
      "execution_count": 148,
      "outputs": [
        {
          "output_type": "execute_result",
          "data": {
            "text/plain": [
              "      rating   type                                        description\n",
              "5541  74 min  Movie  Louis C.K. muses on religion, eternal love, gi...\n",
              "5794  84 min  Movie  Emmy-winning comedy writer Louis C.K. brings h...\n",
              "5813  66 min  Movie  The comic puts his trademark hilarious/thought..."
            ],
            "text/html": [
              "\n",
              "  <div id=\"df-ea54b7ca-42bf-4d2c-b1a1-d87429f767ec\">\n",
              "    <div class=\"colab-df-container\">\n",
              "      <div>\n",
              "<style scoped>\n",
              "    .dataframe tbody tr th:only-of-type {\n",
              "        vertical-align: middle;\n",
              "    }\n",
              "\n",
              "    .dataframe tbody tr th {\n",
              "        vertical-align: top;\n",
              "    }\n",
              "\n",
              "    .dataframe thead th {\n",
              "        text-align: right;\n",
              "    }\n",
              "</style>\n",
              "<table border=\"1\" class=\"dataframe\">\n",
              "  <thead>\n",
              "    <tr style=\"text-align: right;\">\n",
              "      <th></th>\n",
              "      <th>rating</th>\n",
              "      <th>type</th>\n",
              "      <th>description</th>\n",
              "    </tr>\n",
              "  </thead>\n",
              "  <tbody>\n",
              "    <tr>\n",
              "      <th>5541</th>\n",
              "      <td>74 min</td>\n",
              "      <td>Movie</td>\n",
              "      <td>Louis C.K. muses on religion, eternal love, gi...</td>\n",
              "    </tr>\n",
              "    <tr>\n",
              "      <th>5794</th>\n",
              "      <td>84 min</td>\n",
              "      <td>Movie</td>\n",
              "      <td>Emmy-winning comedy writer Louis C.K. brings h...</td>\n",
              "    </tr>\n",
              "    <tr>\n",
              "      <th>5813</th>\n",
              "      <td>66 min</td>\n",
              "      <td>Movie</td>\n",
              "      <td>The comic puts his trademark hilarious/thought...</td>\n",
              "    </tr>\n",
              "  </tbody>\n",
              "</table>\n",
              "</div>\n",
              "      <button class=\"colab-df-convert\" onclick=\"convertToInteractive('df-ea54b7ca-42bf-4d2c-b1a1-d87429f767ec')\"\n",
              "              title=\"Convert this dataframe to an interactive table.\"\n",
              "              style=\"display:none;\">\n",
              "        \n",
              "  <svg xmlns=\"http://www.w3.org/2000/svg\" height=\"24px\"viewBox=\"0 0 24 24\"\n",
              "       width=\"24px\">\n",
              "    <path d=\"M0 0h24v24H0V0z\" fill=\"none\"/>\n",
              "    <path d=\"M18.56 5.44l.94 2.06.94-2.06 2.06-.94-2.06-.94-.94-2.06-.94 2.06-2.06.94zm-11 1L8.5 8.5l.94-2.06 2.06-.94-2.06-.94L8.5 2.5l-.94 2.06-2.06.94zm10 10l.94 2.06.94-2.06 2.06-.94-2.06-.94-.94-2.06-.94 2.06-2.06.94z\"/><path d=\"M17.41 7.96l-1.37-1.37c-.4-.4-.92-.59-1.43-.59-.52 0-1.04.2-1.43.59L10.3 9.45l-7.72 7.72c-.78.78-.78 2.05 0 2.83L4 21.41c.39.39.9.59 1.41.59.51 0 1.02-.2 1.41-.59l7.78-7.78 2.81-2.81c.8-.78.8-2.07 0-2.86zM5.41 20L4 18.59l7.72-7.72 1.47 1.35L5.41 20z\"/>\n",
              "  </svg>\n",
              "      </button>\n",
              "      \n",
              "  <style>\n",
              "    .colab-df-container {\n",
              "      display:flex;\n",
              "      flex-wrap:wrap;\n",
              "      gap: 12px;\n",
              "    }\n",
              "\n",
              "    .colab-df-convert {\n",
              "      background-color: #E8F0FE;\n",
              "      border: none;\n",
              "      border-radius: 50%;\n",
              "      cursor: pointer;\n",
              "      display: none;\n",
              "      fill: #1967D2;\n",
              "      height: 32px;\n",
              "      padding: 0 0 0 0;\n",
              "      width: 32px;\n",
              "    }\n",
              "\n",
              "    .colab-df-convert:hover {\n",
              "      background-color: #E2EBFA;\n",
              "      box-shadow: 0px 1px 2px rgba(60, 64, 67, 0.3), 0px 1px 3px 1px rgba(60, 64, 67, 0.15);\n",
              "      fill: #174EA6;\n",
              "    }\n",
              "\n",
              "    [theme=dark] .colab-df-convert {\n",
              "      background-color: #3B4455;\n",
              "      fill: #D2E3FC;\n",
              "    }\n",
              "\n",
              "    [theme=dark] .colab-df-convert:hover {\n",
              "      background-color: #434B5C;\n",
              "      box-shadow: 0px 1px 3px 1px rgba(0, 0, 0, 0.15);\n",
              "      filter: drop-shadow(0px 1px 2px rgba(0, 0, 0, 0.3));\n",
              "      fill: #FFFFFF;\n",
              "    }\n",
              "  </style>\n",
              "\n",
              "      <script>\n",
              "        const buttonEl =\n",
              "          document.querySelector('#df-ea54b7ca-42bf-4d2c-b1a1-d87429f767ec button.colab-df-convert');\n",
              "        buttonEl.style.display =\n",
              "          google.colab.kernel.accessAllowed ? 'block' : 'none';\n",
              "\n",
              "        async function convertToInteractive(key) {\n",
              "          const element = document.querySelector('#df-ea54b7ca-42bf-4d2c-b1a1-d87429f767ec');\n",
              "          const dataTable =\n",
              "            await google.colab.kernel.invokeFunction('convertToInteractive',\n",
              "                                                     [key], {});\n",
              "          if (!dataTable) return;\n",
              "\n",
              "          const docLinkHtml = 'Like what you see? Visit the ' +\n",
              "            '<a target=\"_blank\" href=https://colab.research.google.com/notebooks/data_table.ipynb>data table notebook</a>'\n",
              "            + ' to learn more about interactive tables.';\n",
              "          element.innerHTML = '';\n",
              "          dataTable['output_type'] = 'display_data';\n",
              "          await google.colab.output.renderOutput(dataTable, element);\n",
              "          const docLink = document.createElement('div');\n",
              "          docLink.innerHTML = docLinkHtml;\n",
              "          element.appendChild(docLink);\n",
              "        }\n",
              "      </script>\n",
              "    </div>\n",
              "  </div>\n",
              "  "
            ]
          },
          "metadata": {},
          "execution_count": 148
        }
      ]
    },
    {
      "cell_type": "markdown",
      "source": [
        "Observation:\n",
        "1. Terdapat isi data yang tidak sesuai yang seharusnya berupa duration dan berdasarkan descriptionnya dapat dikategorikan sebagai:\n",
        "     *  74 min : NC-17\n",
        "     *  84 min : NC-17\n",
        "     *  66 min NC-17"
      ],
      "metadata": {
        "id": "kieE6RLj4bnv"
      },
      "id": "kieE6RLj4bnv"
    },
    {
      "cell_type": "code",
      "source": [
        "#Mereplace Value untuk rating yang Tidak Sesuai\n",
        "df[\"rating\"].replace(\"74 min\",\"NC-17\",inplace=True)\n",
        "df[\"rating\"].replace(\"84 min\",\"NC-17\",inplace=True)\n",
        "df[\"rating\"].replace(\"66 min\",\"NC-17\",inplace=True)\n",
        "\n",
        "Moviedf[\"rating\"].replace(\"74 min\",\"NC-17\",inplace=True)\n",
        "Moviedf[\"rating\"].replace(\"84 min\",\"NC-17\",inplace=True)\n",
        "Moviedf[\"rating\"].replace(\"66 min\",\"NC-17\",inplace=True)\n",
        "\n",
        "#Mengecek Ulang Value rating Setelah Direplace\n",
        "df[\"rating\"].value_counts()"
      ],
      "metadata": {
        "colab": {
          "base_uri": "https://localhost:8080/"
        },
        "id": "ownQIHx24lTO",
        "outputId": "6936ba62-f8ab-4bf4-9b19-ff8983f95766"
      },
      "id": "ownQIHx24lTO",
      "execution_count": 149,
      "outputs": [
        {
          "output_type": "execute_result",
          "data": {
            "text/plain": [
              "TV-MA       3211\n",
              "TV-14       2160\n",
              "TV-PG        863\n",
              "R            799\n",
              "PG-13        490\n",
              "TV-Y7        334\n",
              "TV-Y         307\n",
              "PG           287\n",
              "TV-G         220\n",
              "NR            80\n",
              "G             41\n",
              "NC-17          6\n",
              "TV-Y7-FV       6\n",
              "UR             3\n",
              "Name: rating, dtype: int64"
            ]
          },
          "metadata": {},
          "execution_count": 149
        }
      ]
    },
    {
      "cell_type": "code",
      "source": [
        "#Membuat Subplot untuk Melihat Top 10 rating\n",
        "fig, ax = plt.subplots(2,1,figsize=(11,12))\n",
        "\n",
        "#Membuat Bar Plot untuk Melihat rating Secara Keseluruhan\n",
        "sns.countplot(data=df,x=\"rating\",order=df[\"rating\"].value_counts().index[0:10],color=\"#292929\",ax=ax[0])\n",
        "ax[0].title.set_text(\"Top 10 Rating - Overall\")\n",
        "\n",
        "#Membuat Bar Plot untuk Melihat rating Berdasarkan Movie dan TV Show\n",
        "sns.countplot(data=df,x=\"rating\",order=df[\"rating\"].value_counts().index[0:10],hue=\"type\",palette=[\"#B12025\",\"salmon\"],ax=ax[1])\n",
        "ax[1].title.set_text(\"Top 10 Rating - Movie & TV Show\")"
      ],
      "metadata": {
        "colab": {
          "base_uri": "https://localhost:8080/",
          "height": 730
        },
        "id": "QHNaTejbpxzo",
        "outputId": "d1108a9b-240b-4c2c-baad-36660e29acdb"
      },
      "id": "QHNaTejbpxzo",
      "execution_count": 150,
      "outputs": [
        {
          "output_type": "display_data",
          "data": {
            "text/plain": [
              "<Figure size 792x864 with 2 Axes>"
            ],
            "image/png": "[encoded data removed]"
          },
          "metadata": {
            "needs_background": "light"
          }
        }
      ]
    },
    {
      "cell_type": "markdown",
      "source": [
        "Observation:\n",
        "1. Berdasarkan ratingnya, kebanyakan film Netflix merupakan tayangan dengan rating TV-MA, yaitu rating untuk TV show bagi dewasa atau berusia 17 tahun ke atas dan disusul dengan rating TV-14, yaitu rating untuk TV show bagi remaja berusia 14 tahun ke atas\n",
        "2. Sama halnya untuk Movie dan TV Show, dimana top 2 rating juga adalah TV-MA dan TV-14. Namun, untuk top 3 pada Movie adalah R, yaitu rating untuk dewasa, sedangkan pada TV show adalah TV-PG, yaitu untuk anak di bawah 13 tahun\n",
        "3. Dapat dilihat secara keseluruhan, rating untuk Movie banyak didominasi untuk dewasa, sedangkan TV show memiliki lebih banyak konten untuk semua umur, mulai dari anak hingga dewasa"
      ],
      "metadata": {
        "id": "Lb03-t2BgJHe"
      },
      "id": "Lb03-t2BgJHe"
    },
    {
      "cell_type": "code",
      "source": [
        "#Mengecek Value dari duration karena Apabila Divisualisasikan terdapat Kata Berarti Sama tetapi Ditulis Berbeda\n",
        "df[\"duration\"].value_counts()"
      ],
      "metadata": {
        "colab": {
          "base_uri": "https://localhost:8080/"
        },
        "id": "px4qcnC9qWEQ",
        "outputId": "81f8e76f-e16c-492b-e17a-6fdc9c12bea6"
      },
      "id": "px4qcnC9qWEQ",
      "execution_count": 151,
      "outputs": [
        {
          "output_type": "execute_result",
          "data": {
            "text/plain": [
              "1 Season     1796\n",
              "2 Seasons     425\n",
              "3 Seasons     199\n",
              "90 min        152\n",
              "94 min        146\n",
              "             ... \n",
              "16 min          1\n",
              "186 min         1\n",
              "193 min         1\n",
              "189 min         1\n",
              "191 min         1\n",
              "Name: duration, Length: 220, dtype: int64"
            ]
          },
          "metadata": {},
          "execution_count": 151
        }
      ]
    },
    {
      "cell_type": "code",
      "source": [
        "#Mereplace Value untuk duration yang Tidak Sesuai\n",
        "df[\"duration\"]=df[\"duration\"].str.replace(\"Seasons\",\"season\")\n",
        "df[\"duration\"]=df[\"duration\"].str.replace(\"Season\",\"season\")\n",
        "TVdf[\"duration\"]=TVdf[\"duration\"].str.replace(\"Seasons\",\"season\")\n",
        "TVdf[\"duration\"]=TVdf[\"duration\"].str.replace(\"Season\",\"season\")\n",
        "\n",
        "#Mengecek Ulang Value rating Setelah Direplace\n",
        "df[\"duration\"].value_counts()\n",
        "TVdf[\"duration\"].value_counts()"
      ],
      "metadata": {
        "colab": {
          "base_uri": "https://localhost:8080/"
        },
        "id": "lLI3moiiqqOH",
        "outputId": "613099aa-3472-493b-9225-d4dc2a443a85"
      },
      "id": "lLI3moiiqqOH",
      "execution_count": 152,
      "outputs": [
        {
          "output_type": "execute_result",
          "data": {
            "text/plain": [
              "1 season     1793\n",
              "2 season      425\n",
              "3 season      199\n",
              "4 season       95\n",
              "5 season       65\n",
              "6 season       33\n",
              "7 season       23\n",
              "8 season       17\n",
              "9 season        9\n",
              "10 season       7\n",
              "13 season       3\n",
              "15 season       2\n",
              "12 season       2\n",
              "11 season       2\n",
              "17 season       1\n",
              "Name: duration, dtype: int64"
            ]
          },
          "metadata": {},
          "execution_count": 152
        }
      ]
    },
    {
      "cell_type": "code",
      "source": [
        "#Membuat Subplot untuk Melihat Top 10 duration\n",
        "fig, ax = plt.subplots(3,1,figsize=(11,18))\n",
        "\n",
        "#Membuat Bar Plot untuk Melihat duration Secara Keseluruhan\n",
        "sns.countplot(data=df,x=\"duration\",order=df[\"duration\"].value_counts().index[0:10],color=\"#292929\",ax=ax[0])\n",
        "ax[0].title.set_text(\"Top 10 Duration - Overall\")\n",
        "\n",
        "#Membuat Bar Plot untuk Melihat duration Berdasarkan Movie\n",
        "sns.countplot(data=Moviedf,x=\"duration\",order=Moviedf[\"duration\"].value_counts().index[0:10],color=\"#B12025\",ax=ax[1])\n",
        "ax[1].title.set_text(\"Top 10 Duration - Movie\")\n",
        "\n",
        "#Membuat Bar Plot untuk Melihat duration Berdasarkan TV Show\n",
        "sns.countplot(data=TVdf,x=\"duration\",order=TVdf[\"duration\"].value_counts().index[0:10],color=\"#B12025\",ax=ax[2])\n",
        "ax[2].title.set_text(\"Top 10 Duration - TV Show\")"
      ],
      "metadata": {
        "colab": {
          "base_uri": "https://localhost:8080/",
          "height": 1000
        },
        "id": "AkZ1_w9XWWFM",
        "outputId": "31a945cf-7cb3-4db1-8b2b-b8469f765b7d"
      },
      "id": "AkZ1_w9XWWFM",
      "execution_count": 153,
      "outputs": [
        {
          "output_type": "display_data",
          "data": {
            "text/plain": [
              "<Figure size 792x1296 with 3 Axes>"
            ],
            "image/png": "[encoded data removed]"
          },
          "metadata": {
            "needs_background": "light"
          }
        }
      ]
    },
    {
      "cell_type": "markdown",
      "source": [
        "Observation:\n",
        "1. Berdasarkan durasinya, secara keseluruhan, terdapat kurang lebih 1750 merupakan TV show berdurasi 1 season dan rata-rata film berdurasi 90 an menit\n",
        "2. Apabila fokus pada Movie saja, rata-rata film benar berdurasi kurang lebih 90 menit - 102 menit. \n",
        "3. Untuk TV show, juga didominasi oleh TV show berdurasi 1 season dan sangat jarang ada TV show yang berdurasi di atas 5 season. Hal ini kemungkinan disebabkan oleh Netflix yang mencoba untuk menayangkan berbagai macam TV show untuk melihat respon pelanggan terlebih dahulu. Namun, TV show tersebut kurang diminati oleh pelanggannya atau kurangnya biaya untuk memproduksi TV show lanjutan, sehingga dihentikan penayangannya"
      ],
      "metadata": {
        "id": "O25JMFUKlZau"
      },
      "id": "O25JMFUKlZau"
    },
    {
      "cell_type": "code",
      "source": [
        "#Membuat Subplot untuk Melihat Top 10 country\n",
        "fig, ax = plt.subplots(3,1,figsize=(11,18))\n",
        "\n",
        "#Membuat Bar Plot untuk Melihat country Secara Keseluruhan\n",
        "sns.countplot(data=df,x=\"country\",order=df[\"country\"].value_counts().index[0:10],color=\"#292929\",ax=ax[0])\n",
        "ax[0].title.set_text(\"Top 10 Country - Overall\")\n",
        "\n",
        "#Membuat Bar Plot untuk Melihat country Berdasarkan Movie\n",
        "sns.countplot(data=Moviedf,x=\"country\",order=Moviedf[\"country\"].value_counts().index[0:10],color=\"#B12025\",ax=ax[1])\n",
        "ax[1].title.set_text(\"Top 10 Country - Movie\")\n",
        "\n",
        "#Membuat Bar Plot untuk Melihat country Berdasarkan TV Show\n",
        "sns.countplot(data=TVdf,x=\"country\",order=TVdf[\"country\"].value_counts().index[0:10],color=\"#B12025\",ax=ax[2])\n",
        "ax[2].title.set_text(\"Top 10 Country - TV Show\")"
      ],
      "metadata": {
        "colab": {
          "base_uri": "https://localhost:8080/",
          "height": 1000
        },
        "id": "x5AEwo697w7w",
        "outputId": "08f04a29-59bc-4147-e159-550ec1cf1fc5"
      },
      "id": "x5AEwo697w7w",
      "execution_count": 154,
      "outputs": [
        {
          "output_type": "display_data",
          "data": {
            "text/plain": [
              "<Figure size 792x1296 with 3 Axes>"
            ],
            "image/png": "[encoded data removed]"
          },
          "metadata": {
            "needs_background": "light"
          }
        }
      ]
    },
    {
      "cell_type": "markdown",
      "source": [
        "Observation:\n",
        "1. Terlihat bahwa kebanyakan film ataupun TV show merupakan produksi dari United States, yang memang terkenal untuk dunia perfilman dan pertelevisiannya.\n",
        "2. Jika melihat lebih dalam, India terkenal dalam dunia perfilman Bollywood, sehingga menjadi top 2 untuk kategori film. Namun, India masih kurang dalam dunia TV show bila dibandingkan dengan United Kingdom yang merupakan top 2 dalam kategori TV show."
      ],
      "metadata": {
        "id": "PKEys8bi99AR"
      },
      "id": "PKEys8bi99AR"
    },
    {
      "cell_type": "code",
      "source": [
        "#Mendefinisikan Nilai release_year pada Masing-Masing Dataframe yang Sudah Dipisah\n",
        "release_df = df[\"release_year\"].value_counts()\n",
        "release_movie = Moviedf[\"release_year\"].value_counts()\n",
        "release_tv = TVdf[\"release_year\"].value_counts()\n",
        "\n",
        "#Membuat Subplot untuk Melihat release_year\n",
        "fig, ax = plt.subplots(figsize=(11, 8))\n",
        "\n",
        "#Membuat Line Plot untuk Melihat release_year Secara Keseluruhan\n",
        "sns.lineplot(release_df.index, release_df,color=\"#292929\")\n",
        "\n",
        "#Membuat Line Plot untuk Melihat release_year Berdasarkan Movie\n",
        "sns.lineplot(release_movie.index, release_movie,color=\"#B12025\")\n",
        "\n",
        "#Membuat Line Plot untuk Melihat release_year Berdasarkan TV Show\n",
        "sns.lineplot(release_tv.index, release_tv,color=\"salmon\")\n",
        "\n",
        "#Mengatur Detail\n",
        "ax.set_xticks(np.arange(1925, 2035, 10))\n",
        "plt.title(\"Content Release Year\")\n",
        "plt.legend([\"Total\",\"Movie\",\"TV Show\"])\n",
        "\n",
        "plt.show()"
      ],
      "metadata": {
        "colab": {
          "base_uri": "https://localhost:8080/",
          "height": 499
        },
        "id": "1BQGZtXTNaAz",
        "outputId": "3e03f0d9-21a4-409d-ed26-5f7f05541dfb"
      },
      "id": "1BQGZtXTNaAz",
      "execution_count": 155,
      "outputs": [
        {
          "output_type": "display_data",
          "data": {
            "text/plain": [
              "<Figure size 792x576 with 1 Axes>"
            ],
            "image/png": "[encoded data removed]"
          },
          "metadata": {
            "needs_background": "light"
          }
        }
      ]
    },
    {
      "cell_type": "markdown",
      "source": [
        "Observation:\n",
        "1. TV show tertua yang ditayangkan di Netflix adalah TV show yang dirilis tahun 1925, sedangkan film tertua yang ditayangkan di Netflix adalah film yang dirilis sejak tahun 1940 an\n",
        "2. Dunia perfilman dan TV show mulai meningkat tahun 2000 an dan semakin pesat sejak tahun 2015. Puncak dunia film berada di tahun 2017 - 2018 dan kemudian mulai menurun sejak tahun 2019 hingga 2021, sedangkan pada dunia TV show masih terus merangkat naik hingga tahun 2020 sebagai puncaknya dan menurun pada tahun 2021. Hal ini kemungkinan disebabkan oleh pandemi Covid-19 yang membatasi aktivitas manusia, sehingga kemungkinan lebih sulit untuk memproduksi film yang berskala besar dibandingkan dengan TV show yang berskala lebih kecil"
      ],
      "metadata": {
        "id": "TzYYCZFDSh-J"
      },
      "id": "TzYYCZFDSh-J"
    },
    {
      "cell_type": "code",
      "source": [
        "#Mendefinisikan Nilai year_added pada Masing-Masing Dataframe yang Sudah Dipisah\n",
        "year_df = df[\"year_added\"].value_counts()\n",
        "year_movie = Moviedf[\"year_added\"].value_counts()\n",
        "year_tv = TVdf[\"year_added\"].value_counts()\n",
        "\n",
        "#Membuat Subplot untuk Melihat year_added\n",
        "fig, ax = plt.subplots(figsize=(11, 8))\n",
        "\n",
        "#Membuat Line Plot untuk Melihat year_added Secara Keseluruhan\n",
        "sns.lineplot(year_df.index, year_df,color=\"#292929\")\n",
        "\n",
        "#Membuat Line Plot untuk Melihat year_added Berdasarkan Movie\n",
        "sns.lineplot(year_movie.index, year_movie,color=\"#B12025\")\n",
        "\n",
        "#Membuat Line Plot untuk Melihat year_added Berdasarkan TV Show\n",
        "sns.lineplot(year_tv.index, year_tv,color=\"salmon\")\n",
        "\n",
        "#Mengatur Detail\n",
        "ax.set_xticks(np.arange(2008, 2022, 1))\n",
        "plt.title(\"Content Added Year\")\n",
        "plt.legend([\"Total\",\"Movie\",\"TV Show\"])\n",
        "\n",
        "plt.show()"
      ],
      "metadata": {
        "colab": {
          "base_uri": "https://localhost:8080/",
          "height": 499
        },
        "id": "d6lqq3pX4gle",
        "outputId": "9637af35-4df0-45bd-c618-311a2f42611c"
      },
      "id": "d6lqq3pX4gle",
      "execution_count": 156,
      "outputs": [
        {
          "output_type": "display_data",
          "data": {
            "text/plain": [
              "<Figure size 792x576 with 1 Axes>"
            ],
            "image/png": "[encoded data removed]"
          },
          "metadata": {
            "needs_background": "light"
          }
        }
      ]
    },
    {
      "cell_type": "markdown",
      "source": [
        "Observation:\n",
        "1. Netflix mulai merelease film atau TV show pada platformnya sejak tahun 2008, yang mana merupakan tahun berdirinya Netflix, dan sejalan dengan semakin majunya dunia film dan TV show yang mulai merangkak naik di tahun 2015, Netflix pun terus menambahkan film dan TV show pada platformnya hingga tahun 2019 sebagai puncaknya, kemudian menurun akibat pandemi Covid-19 pada tahun 2020 dan 2021\n",
        "2. Selain itu, juga dapat disebabkan adanya competitor Netflix yang mulai bermunculan semenjak adanya pandemi Covid-19, seperti DisneyPlus dan Four Marvel yang menghentikan penayangannya di Netflix"
      ],
      "metadata": {
        "id": "QoncdJSdsgSi"
      },
      "id": "QoncdJSdsgSi"
    },
    {
      "cell_type": "code",
      "source": [
        "#Mendefinisikan Nilai month_added pada Masing-Masing Dataframe yang Sudah Dipisah\n",
        "month_df = df[\"month_added\"].value_counts()\n",
        "month_movie = Moviedf[\"month_added\"].value_counts()\n",
        "month_tv = TVdf[\"month_added\"].value_counts()\n",
        "\n",
        "#Membuat Subplot untuk Melihat month_added\n",
        "fig, ax = plt.subplots(figsize=(11, 8))\n",
        "\n",
        "#Membuat Line Plot untuk Melihat month_added Secara Keseluruhan\n",
        "sns.lineplot(month_df.index, month_df,color=\"#292929\")\n",
        "\n",
        "#Membuat Line Plot untuk Melihat month_added Berdasarkan Movie\n",
        "sns.lineplot(month_movie.index, month_movie,color=\"#B12025\")\n",
        "\n",
        "#Membuat Line Plot untuk Melihat month_added Berdasarkan TV Show\n",
        "sns.lineplot(month_tv.index, month_tv,color=\"salmon\")\n",
        "\n",
        "#Mengatur Detail\n",
        "ax.set_xticks(np.arange(1, 13, 1))\n",
        "plt.title(\"Month Content Added\")\n",
        "plt.legend([\"Total\",\"Movie\",\"TV Show\"])\n",
        "\n",
        "plt.show()"
      ],
      "metadata": {
        "colab": {
          "base_uri": "https://localhost:8080/",
          "height": 499
        },
        "id": "8OS9-5JUONwR",
        "outputId": "929a603c-4e13-42e5-cd4e-b235a4562675"
      },
      "id": "8OS9-5JUONwR",
      "execution_count": 157,
      "outputs": [
        {
          "output_type": "display_data",
          "data": {
            "text/plain": [
              "<Figure size 792x576 with 1 Axes>"
            ],
            "image/png": "[encoded data removed]"
          },
          "metadata": {
            "needs_background": "light"
          }
        }
      ]
    },
    {
      "cell_type": "markdown",
      "source": [
        "Observation:\n",
        "1. Jika melihat pada grafik tersebut, Netflix merilis film atau TV show dengan menyesuaikan pada jadwal holiday yang ada di US. Bulan July merupakan bulan dimana Netflix banyak merilis film atau TV show baru. Hal ini sejalan dengan puncak dari school holiday, yaitu summer break, dimana secara bervariasi, student akan libur selama 10 - 11 minggu mulai dari May atau June hingga August atau September. Selain itu, pada bulan December, yang juga merupakan school holiday, yaitu winter break, dan termasuk public holiday untuk orang yang bekerja, Netflix juga banyak merilis film atau TV show. Terlihat juga peningkatan pada bulan Maret, yang merupakan spring break untuk student selama 1 minggu. Sebaliknya, pada bulan di luar hari libur tersebut, Netflix lebih sedikit merilis film atau TV show baru"
      ],
      "metadata": {
        "id": "IXxmHOA6T56E"
      },
      "id": "IXxmHOA6T56E"
    },
    {
      "cell_type": "code",
      "source": [
        "#Menginput Gambar\n",
        "mask = np.array(Image.open(\"Netflix Title.jpg\"))\n",
        "\n",
        "#Menentukan Warna\n",
        "color = matplotlib.colors.LinearSegmentedColormap.from_list(\"\", [\"#292929\",\"#B12025\"])\n",
        "\n",
        "#Membuat Wordcloud untuk Description\n",
        "plt.subplots(figsize=(15,20))\n",
        "wordcloud = WordCloud(mask=mask,\n",
        "                      max_words=150,\n",
        "                      colormap = color,\n",
        "                      background_color=\"White\",\n",
        "                      width=1200,\n",
        "                      height=1000).generate(\" \".join(df.description))\n",
        "plt.imshow(wordcloud)\n",
        "plt.axis(\"off\")\n",
        "#plt.savefig('cast.png')\n",
        "plt.show()"
      ],
      "metadata": {
        "colab": {
          "base_uri": "https://localhost:8080/",
          "height": 310
        },
        "id": "EC4enfb9SS-M",
        "outputId": "f863b6e8-e266-4862-e3c8-1b64caff4a5d"
      },
      "id": "EC4enfb9SS-M",
      "execution_count": 158,
      "outputs": [
        {
          "output_type": "display_data",
          "data": {
            "text/plain": [
              "<Figure size 1080x1440 with 1 Axes>"
            ],
            "image/png": "[encoded data removed]"
          },
          "metadata": {
            "needs_background": "light"
          }
        }
      ]
    },
    {
      "cell_type": "markdown",
      "source": [
        "Observation:\n",
        "1. Terlihat bahwa film dan TV shows di Netflix kebanyakan mengangkat tema family, world, life, find, friend, new, take, live, woman, young, dan banyak kata-kata lainnya"
      ],
      "metadata": {
        "id": "NA16-d8q8ApM"
      },
      "id": "NA16-d8q8ApM"
    },
    {
      "cell_type": "markdown",
      "source": [
        "###Deep Dive Exploration"
      ],
      "metadata": {
        "id": "6lOJFsDI4JTp"
      },
      "id": "6lOJFsDI4JTp"
    },
    {
      "cell_type": "markdown",
      "source": [
        "#####**Seberapa updatekah film dan TV show yang terdapat pada Netflix?**"
      ],
      "metadata": {
        "id": "uAzYcafA4UoL"
      },
      "id": "uAzYcafA4UoL"
    },
    {
      "cell_type": "code",
      "source": [
        "#Menambahkan Kolom Baru untuk Melihat Selisih Tahun pada Movie\n",
        "Moviedf[\"different\"] = Moviedf[\"year_added\"]-Moviedf[\"release_year\"]\n",
        "Moviedf[[\"release_year\",\"year_added\",\"different\"]].head(5)"
      ],
      "metadata": {
        "colab": {
          "base_uri": "https://localhost:8080/",
          "height": 206
        },
        "id": "c1IiPF6lc4gr",
        "outputId": "5dd5994d-10f5-4bc5-f765-0b2827f1f0f5"
      },
      "id": "c1IiPF6lc4gr",
      "execution_count": 159,
      "outputs": [
        {
          "output_type": "execute_result",
          "data": {
            "text/plain": [
              "    release_year  year_added  different\n",
              "0           2020        2021          1\n",
              "6           2021        2021          0\n",
              "7           1993        2021         28\n",
              "9           2021        2021          0\n",
              "12          2021        2021          0"
            ],
            "text/html": [
              "\n",
              "  <div id=\"df-2a24e50d-be3f-4fe2-889b-fd35e30a4e77\">\n",
              "    <div class=\"colab-df-container\">\n",
              "      <div>\n",
              "<style scoped>\n",
              "    .dataframe tbody tr th:only-of-type {\n",
              "        vertical-align: middle;\n",
              "    }\n",
              "\n",
              "    .dataframe tbody tr th {\n",
              "        vertical-align: top;\n",
              "    }\n",
              "\n",
              "    .dataframe thead th {\n",
              "        text-align: right;\n",
              "    }\n",
              "</style>\n",
              "<table border=\"1\" class=\"dataframe\">\n",
              "  <thead>\n",
              "    <tr style=\"text-align: right;\">\n",
              "      <th></th>\n",
              "      <th>release_year</th>\n",
              "      <th>year_added</th>\n",
              "      <th>different</th>\n",
              "    </tr>\n",
              "  </thead>\n",
              "  <tbody>\n",
              "    <tr>\n",
              "      <th>0</th>\n",
              "      <td>2020</td>\n",
              "      <td>2021</td>\n",
              "      <td>1</td>\n",
              "    </tr>\n",
              "    <tr>\n",
              "      <th>6</th>\n",
              "      <td>2021</td>\n",
              "      <td>2021</td>\n",
              "      <td>0</td>\n",
              "    </tr>\n",
              "    <tr>\n",
              "      <th>7</th>\n",
              "      <td>1993</td>\n",
              "      <td>2021</td>\n",
              "      <td>28</td>\n",
              "    </tr>\n",
              "    <tr>\n",
              "      <th>9</th>\n",
              "      <td>2021</td>\n",
              "      <td>2021</td>\n",
              "      <td>0</td>\n",
              "    </tr>\n",
              "    <tr>\n",
              "      <th>12</th>\n",
              "      <td>2021</td>\n",
              "      <td>2021</td>\n",
              "      <td>0</td>\n",
              "    </tr>\n",
              "  </tbody>\n",
              "</table>\n",
              "</div>\n",
              "      <button class=\"colab-df-convert\" onclick=\"convertToInteractive('df-2a24e50d-be3f-4fe2-889b-fd35e30a4e77')\"\n",
              "              title=\"Convert this dataframe to an interactive table.\"\n",
              "              style=\"display:none;\">\n",
              "        \n",
              "  <svg xmlns=\"http://www.w3.org/2000/svg\" height=\"24px\"viewBox=\"0 0 24 24\"\n",
              "       width=\"24px\">\n",
              "    <path d=\"M0 0h24v24H0V0z\" fill=\"none\"/>\n",
              "    <path d=\"M18.56 5.44l.94 2.06.94-2.06 2.06-.94-2.06-.94-.94-2.06-.94 2.06-2.06.94zm-11 1L8.5 8.5l.94-2.06 2.06-.94-2.06-.94L8.5 2.5l-.94 2.06-2.06.94zm10 10l.94 2.06.94-2.06 2.06-.94-2.06-.94-.94-2.06-.94 2.06-2.06.94z\"/><path d=\"M17.41 7.96l-1.37-1.37c-.4-.4-.92-.59-1.43-.59-.52 0-1.04.2-1.43.59L10.3 9.45l-7.72 7.72c-.78.78-.78 2.05 0 2.83L4 21.41c.39.39.9.59 1.41.59.51 0 1.02-.2 1.41-.59l7.78-7.78 2.81-2.81c.8-.78.8-2.07 0-2.86zM5.41 20L4 18.59l7.72-7.72 1.47 1.35L5.41 20z\"/>\n",
              "  </svg>\n",
              "      </button>\n",
              "      \n",
              "  <style>\n",
              "    .colab-df-container {\n",
              "      display:flex;\n",
              "      flex-wrap:wrap;\n",
              "      gap: 12px;\n",
              "    }\n",
              "\n",
              "    .colab-df-convert {\n",
              "      background-color: #E8F0FE;\n",
              "      border: none;\n",
              "      border-radius: 50%;\n",
              "      cursor: pointer;\n",
              "      display: none;\n",
              "      fill: #1967D2;\n",
              "      height: 32px;\n",
              "      padding: 0 0 0 0;\n",
              "      width: 32px;\n",
              "    }\n",
              "\n",
              "    .colab-df-convert:hover {\n",
              "      background-color: #E2EBFA;\n",
              "      box-shadow: 0px 1px 2px rgba(60, 64, 67, 0.3), 0px 1px 3px 1px rgba(60, 64, 67, 0.15);\n",
              "      fill: #174EA6;\n",
              "    }\n",
              "\n",
              "    [theme=dark] .colab-df-convert {\n",
              "      background-color: #3B4455;\n",
              "      fill: #D2E3FC;\n",
              "    }\n",
              "\n",
              "    [theme=dark] .colab-df-convert:hover {\n",
              "      background-color: #434B5C;\n",
              "      box-shadow: 0px 1px 3px 1px rgba(0, 0, 0, 0.15);\n",
              "      filter: drop-shadow(0px 1px 2px rgba(0, 0, 0, 0.3));\n",
              "      fill: #FFFFFF;\n",
              "    }\n",
              "  </style>\n",
              "\n",
              "      <script>\n",
              "        const buttonEl =\n",
              "          document.querySelector('#df-2a24e50d-be3f-4fe2-889b-fd35e30a4e77 button.colab-df-convert');\n",
              "        buttonEl.style.display =\n",
              "          google.colab.kernel.accessAllowed ? 'block' : 'none';\n",
              "\n",
              "        async function convertToInteractive(key) {\n",
              "          const element = document.querySelector('#df-2a24e50d-be3f-4fe2-889b-fd35e30a4e77');\n",
              "          const dataTable =\n",
              "            await google.colab.kernel.invokeFunction('convertToInteractive',\n",
              "                                                     [key], {});\n",
              "          if (!dataTable) return;\n",
              "\n",
              "          const docLinkHtml = 'Like what you see? Visit the ' +\n",
              "            '<a target=\"_blank\" href=https://colab.research.google.com/notebooks/data_table.ipynb>data table notebook</a>'\n",
              "            + ' to learn more about interactive tables.';\n",
              "          element.innerHTML = '';\n",
              "          dataTable['output_type'] = 'display_data';\n",
              "          await google.colab.output.renderOutput(dataTable, element);\n",
              "          const docLink = document.createElement('div');\n",
              "          docLink.innerHTML = docLinkHtml;\n",
              "          element.appendChild(docLink);\n",
              "        }\n",
              "      </script>\n",
              "    </div>\n",
              "  </div>\n",
              "  "
            ]
          },
          "metadata": {},
          "execution_count": 159
        }
      ]
    },
    {
      "cell_type": "code",
      "source": [
        "#Menambahkan Kolom Baru untuk Melihat Selisih Tahun pada TV Show\n",
        "TVdf[\"different\"] = TVdf[\"year_added\"]-TVdf[\"release_year\"]\n",
        "TVdf[[\"release_year\",\"year_added\",\"different\"]].head(5)"
      ],
      "metadata": {
        "colab": {
          "base_uri": "https://localhost:8080/",
          "height": 206
        },
        "id": "y_lPq_7OUvcx",
        "outputId": "8bdba622-155a-4aea-b305-8b8191ce6c53"
      },
      "id": "y_lPq_7OUvcx",
      "execution_count": 160,
      "outputs": [
        {
          "output_type": "execute_result",
          "data": {
            "text/plain": [
              "   release_year  year_added  different\n",
              "1          2021        2021          0\n",
              "2          2021        2021          0\n",
              "3          2021        2021          0\n",
              "4          2021        2021          0\n",
              "5          2021        2021          0"
            ],
            "text/html": [
              "\n",
              "  <div id=\"df-2a53d7e6-5f92-42b9-bb57-66126e71b9d5\">\n",
              "    <div class=\"colab-df-container\">\n",
              "      <div>\n",
              "<style scoped>\n",
              "    .dataframe tbody tr th:only-of-type {\n",
              "        vertical-align: middle;\n",
              "    }\n",
              "\n",
              "    .dataframe tbody tr th {\n",
              "        vertical-align: top;\n",
              "    }\n",
              "\n",
              "    .dataframe thead th {\n",
              "        text-align: right;\n",
              "    }\n",
              "</style>\n",
              "<table border=\"1\" class=\"dataframe\">\n",
              "  <thead>\n",
              "    <tr style=\"text-align: right;\">\n",
              "      <th></th>\n",
              "      <th>release_year</th>\n",
              "      <th>year_added</th>\n",
              "      <th>different</th>\n",
              "    </tr>\n",
              "  </thead>\n",
              "  <tbody>\n",
              "    <tr>\n",
              "      <th>1</th>\n",
              "      <td>2021</td>\n",
              "      <td>2021</td>\n",
              "      <td>0</td>\n",
              "    </tr>\n",
              "    <tr>\n",
              "      <th>2</th>\n",
              "      <td>2021</td>\n",
              "      <td>2021</td>\n",
              "      <td>0</td>\n",
              "    </tr>\n",
              "    <tr>\n",
              "      <th>3</th>\n",
              "      <td>2021</td>\n",
              "      <td>2021</td>\n",
              "      <td>0</td>\n",
              "    </tr>\n",
              "    <tr>\n",
              "      <th>4</th>\n",
              "      <td>2021</td>\n",
              "      <td>2021</td>\n",
              "      <td>0</td>\n",
              "    </tr>\n",
              "    <tr>\n",
              "      <th>5</th>\n",
              "      <td>2021</td>\n",
              "      <td>2021</td>\n",
              "      <td>0</td>\n",
              "    </tr>\n",
              "  </tbody>\n",
              "</table>\n",
              "</div>\n",
              "      <button class=\"colab-df-convert\" onclick=\"convertToInteractive('df-2a53d7e6-5f92-42b9-bb57-66126e71b9d5')\"\n",
              "              title=\"Convert this dataframe to an interactive table.\"\n",
              "              style=\"display:none;\">\n",
              "        \n",
              "  <svg xmlns=\"http://www.w3.org/2000/svg\" height=\"24px\"viewBox=\"0 0 24 24\"\n",
              "       width=\"24px\">\n",
              "    <path d=\"M0 0h24v24H0V0z\" fill=\"none\"/>\n",
              "    <path d=\"M18.56 5.44l.94 2.06.94-2.06 2.06-.94-2.06-.94-.94-2.06-.94 2.06-2.06.94zm-11 1L8.5 8.5l.94-2.06 2.06-.94-2.06-.94L8.5 2.5l-.94 2.06-2.06.94zm10 10l.94 2.06.94-2.06 2.06-.94-2.06-.94-.94-2.06-.94 2.06-2.06.94z\"/><path d=\"M17.41 7.96l-1.37-1.37c-.4-.4-.92-.59-1.43-.59-.52 0-1.04.2-1.43.59L10.3 9.45l-7.72 7.72c-.78.78-.78 2.05 0 2.83L4 21.41c.39.39.9.59 1.41.59.51 0 1.02-.2 1.41-.59l7.78-7.78 2.81-2.81c.8-.78.8-2.07 0-2.86zM5.41 20L4 18.59l7.72-7.72 1.47 1.35L5.41 20z\"/>\n",
              "  </svg>\n",
              "      </button>\n",
              "      \n",
              "  <style>\n",
              "    .colab-df-container {\n",
              "      display:flex;\n",
              "      flex-wrap:wrap;\n",
              "      gap: 12px;\n",
              "    }\n",
              "\n",
              "    .colab-df-convert {\n",
              "      background-color: #E8F0FE;\n",
              "      border: none;\n",
              "      border-radius: 50%;\n",
              "      cursor: pointer;\n",
              "      display: none;\n",
              "      fill: #1967D2;\n",
              "      height: 32px;\n",
              "      padding: 0 0 0 0;\n",
              "      width: 32px;\n",
              "    }\n",
              "\n",
              "    .colab-df-convert:hover {\n",
              "      background-color: #E2EBFA;\n",
              "      box-shadow: 0px 1px 2px rgba(60, 64, 67, 0.3), 0px 1px 3px 1px rgba(60, 64, 67, 0.15);\n",
              "      fill: #174EA6;\n",
              "    }\n",
              "\n",
              "    [theme=dark] .colab-df-convert {\n",
              "      background-color: #3B4455;\n",
              "      fill: #D2E3FC;\n",
              "    }\n",
              "\n",
              "    [theme=dark] .colab-df-convert:hover {\n",
              "      background-color: #434B5C;\n",
              "      box-shadow: 0px 1px 3px 1px rgba(0, 0, 0, 0.15);\n",
              "      filter: drop-shadow(0px 1px 2px rgba(0, 0, 0, 0.3));\n",
              "      fill: #FFFFFF;\n",
              "    }\n",
              "  </style>\n",
              "\n",
              "      <script>\n",
              "        const buttonEl =\n",
              "          document.querySelector('#df-2a53d7e6-5f92-42b9-bb57-66126e71b9d5 button.colab-df-convert');\n",
              "        buttonEl.style.display =\n",
              "          google.colab.kernel.accessAllowed ? 'block' : 'none';\n",
              "\n",
              "        async function convertToInteractive(key) {\n",
              "          const element = document.querySelector('#df-2a53d7e6-5f92-42b9-bb57-66126e71b9d5');\n",
              "          const dataTable =\n",
              "            await google.colab.kernel.invokeFunction('convertToInteractive',\n",
              "                                                     [key], {});\n",
              "          if (!dataTable) return;\n",
              "\n",
              "          const docLinkHtml = 'Like what you see? Visit the ' +\n",
              "            '<a target=\"_blank\" href=https://colab.research.google.com/notebooks/data_table.ipynb>data table notebook</a>'\n",
              "            + ' to learn more about interactive tables.';\n",
              "          element.innerHTML = '';\n",
              "          dataTable['output_type'] = 'display_data';\n",
              "          await google.colab.output.renderOutput(dataTable, element);\n",
              "          const docLink = document.createElement('div');\n",
              "          docLink.innerHTML = docLinkHtml;\n",
              "          element.appendChild(docLink);\n",
              "        }\n",
              "      </script>\n",
              "    </div>\n",
              "  </div>\n",
              "  "
            ]
          },
          "metadata": {},
          "execution_count": 160
        }
      ]
    },
    {
      "cell_type": "code",
      "source": [
        "#Mendefinisikan Nilai year_added pada Masing-Masing Dataframe yang Sudah Dipisah\n",
        "different_movie = Moviedf[\"different\"].value_counts()\n",
        "different_tv = TVdf[\"different\"].value_counts()\n",
        "\n",
        "#Membuat Subplot untuk Melihat year_added\n",
        "fig, ax = plt.subplots(2,1,figsize=(11,12))\n",
        "\n",
        "#Membuat Line Plot untuk Melihat different Berdasarkan Movie\n",
        "sns.lineplot(different_movie.index, different_movie,color=\"#B12025\",ax=ax[0])\n",
        "ax[0].title.set_text(\"Content Year Gap - Movie\")\n",
        "\n",
        "#Membuat Line Plot untuk Melihat different Berdasarkan Movie\n",
        "sns.lineplot(different_tv.index, different_tv,color=\"salmon\",ax=ax[1])\n",
        "ax[1].title.set_text(\"Content Year Gap - TV Show\")"
      ],
      "metadata": {
        "colab": {
          "base_uri": "https://localhost:8080/",
          "height": 716
        },
        "id": "X86zoq6XdJAl",
        "outputId": "d9455e30-44b8-4af9-feca-988a0d6bfe90"
      },
      "id": "X86zoq6XdJAl",
      "execution_count": 161,
      "outputs": [
        {
          "output_type": "display_data",
          "data": {
            "text/plain": [
              "<Figure size 792x864 with 2 Axes>"
            ],
            "image/png": "[encoded data removed]"
          },
          "metadata": {
            "needs_background": "light"
          }
        }
      ]
    },
    {
      "cell_type": "markdown",
      "source": [
        "Observation:\n",
        "1. Jika melihat pada selisih tahun release film dan TV show yang aktual dibandingkan dengan tahun release di Netflix, kebanyakan adalah 0, yang berarti film dan TV show yang terdapat pada Netflix direlease pada tahun yang sama dengan tahun release aslinya. Dengan demikian, dapat disimpulkan bahwa film dan TV show Netflix cukup update, meski demikian karena keterbatasan data, tidak dapat melihat hingga ke dalam bulannya "
      ],
      "metadata": {
        "id": "c4436lWkdod2"
      },
      "id": "c4436lWkdod2"
    },
    {
      "cell_type": "markdown",
      "source": [
        "#####**Genre film dan TV show apa yang dirilis di Netflix pada 3 tahun terakhir?**"
      ],
      "metadata": {
        "id": "5tHecDsS-oPY"
      },
      "id": "5tHecDsS-oPY"
    },
    {
      "cell_type": "code",
      "source": [
        "#Memfilter year_added Movie untuk 3 Tahun Terakhir\n",
        "year3_movie=Moviedf.loc[((Moviedf[\"year_added\"]==2019)|(Moviedf[\"year_added\"]==2020)|(Moviedf[\"year_added\"]==2021)),]\n",
        "year3_movie.head(3)"
      ],
      "metadata": {
        "colab": {
          "base_uri": "https://localhost:8080/",
          "height": 396
        },
        "id": "X_JKEJ5lKV98",
        "outputId": "733b9a7f-e9bb-4cf3-f12a-064fded2cf83"
      },
      "id": "X_JKEJ5lKV98",
      "execution_count": 162,
      "outputs": [
        {
          "output_type": "execute_result",
          "data": {
            "text/plain": [
              "    type                             title                       director  \\\n",
              "0  Movie              Dick Johnson Is Dead                Kirsten Johnson   \n",
              "6  Movie  My Little Pony: A New Generation  Robert Cullen, José Luis Ucha   \n",
              "7  Movie                           Sankofa                   Haile Gerima   \n",
              "\n",
              "                                                cast  \\\n",
              "0                                            No Cast   \n",
              "6  Vanessa Hudgens, Kimiko Glenn, James Marsden, ...   \n",
              "7  Kofi Ghanaba, Oyafunmike Ogunlano, Alexandra D...   \n",
              "\n",
              "                                             country  release_year rating  \\\n",
              "0                                      United States          2020  PG-13   \n",
              "6                                         No Country          2021     PG   \n",
              "7  United States, Ghana, Burkina Faso, United Kin...          1993  TV-MA   \n",
              "\n",
              "  duration                                         listed_in  \\\n",
              "0   90 min                                     Documentaries   \n",
              "6   91 min                          Children & Family Movies   \n",
              "7  125 min  Dramas, Independent Movies, International Movies   \n",
              "\n",
              "                                         description  month_added  year_added  \\\n",
              "0  As her father nears the end of his life, filmm...            9        2021   \n",
              "6  Equestria's divided. But a bright-eyed hero be...            9        2021   \n",
              "7  On a photo shoot in Ghana, an American model s...            9        2021   \n",
              "\n",
              "   different  \n",
              "0          1  \n",
              "6          0  \n",
              "7         28  "
            ],
            "text/html": [
              "\n",
              "  <div id=\"df-e84ee13e-13df-4c01-9cb8-584b7229e6e0\">\n",
              "    <div class=\"colab-df-container\">\n",
              "      <div>\n",
              "<style scoped>\n",
              "    .dataframe tbody tr th:only-of-type {\n",
              "        vertical-align: middle;\n",
              "    }\n",
              "\n",
              "    .dataframe tbody tr th {\n",
              "        vertical-align: top;\n",
              "    }\n",
              "\n",
              "    .dataframe thead th {\n",
              "        text-align: right;\n",
              "    }\n",
              "</style>\n",
              "<table border=\"1\" class=\"dataframe\">\n",
              "  <thead>\n",
              "    <tr style=\"text-align: right;\">\n",
              "      <th></th>\n",
              "      <th>type</th>\n",
              "      <th>title</th>\n",
              "      <th>director</th>\n",
              "      <th>cast</th>\n",
              "      <th>country</th>\n",
              "      <th>release_year</th>\n",
              "      <th>rating</th>\n",
              "      <th>duration</th>\n",
              "      <th>listed_in</th>\n",
              "      <th>description</th>\n",
              "      <th>month_added</th>\n",
              "      <th>year_added</th>\n",
              "      <th>different</th>\n",
              "    </tr>\n",
              "  </thead>\n",
              "  <tbody>\n",
              "    <tr>\n",
              "      <th>0</th>\n",
              "      <td>Movie</td>\n",
              "      <td>Dick Johnson Is Dead</td>\n",
              "      <td>Kirsten Johnson</td>\n",
              "      <td>No Cast</td>\n",
              "      <td>United States</td>\n",
              "      <td>2020</td>\n",
              "      <td>PG-13</td>\n",
              "      <td>90 min</td>\n",
              "      <td>Documentaries</td>\n",
              "      <td>As her father nears the end of his life, filmm...</td>\n",
              "      <td>9</td>\n",
              "      <td>2021</td>\n",
              "      <td>1</td>\n",
              "    </tr>\n",
              "    <tr>\n",
              "      <th>6</th>\n",
              "      <td>Movie</td>\n",
              "      <td>My Little Pony: A New Generation</td>\n",
              "      <td>Robert Cullen, José Luis Ucha</td>\n",
              "      <td>Vanessa Hudgens, Kimiko Glenn, James Marsden, ...</td>\n",
              "      <td>No Country</td>\n",
              "      <td>2021</td>\n",
              "      <td>PG</td>\n",
              "      <td>91 min</td>\n",
              "      <td>Children &amp; Family Movies</td>\n",
              "      <td>Equestria's divided. But a bright-eyed hero be...</td>\n",
              "      <td>9</td>\n",
              "      <td>2021</td>\n",
              "      <td>0</td>\n",
              "    </tr>\n",
              "    <tr>\n",
              "      <th>7</th>\n",
              "      <td>Movie</td>\n",
              "      <td>Sankofa</td>\n",
              "      <td>Haile Gerima</td>\n",
              "      <td>Kofi Ghanaba, Oyafunmike Ogunlano, Alexandra D...</td>\n",
              "      <td>United States, Ghana, Burkina Faso, United Kin...</td>\n",
              "      <td>1993</td>\n",
              "      <td>TV-MA</td>\n",
              "      <td>125 min</td>\n",
              "      <td>Dramas, Independent Movies, International Movies</td>\n",
              "      <td>On a photo shoot in Ghana, an American model s...</td>\n",
              "      <td>9</td>\n",
              "      <td>2021</td>\n",
              "      <td>28</td>\n",
              "    </tr>\n",
              "  </tbody>\n",
              "</table>\n",
              "</div>\n",
              "      <button class=\"colab-df-convert\" onclick=\"convertToInteractive('df-e84ee13e-13df-4c01-9cb8-584b7229e6e0')\"\n",
              "              title=\"Convert this dataframe to an interactive table.\"\n",
              "              style=\"display:none;\">\n",
              "        \n",
              "  <svg xmlns=\"http://www.w3.org/2000/svg\" height=\"24px\"viewBox=\"0 0 24 24\"\n",
              "       width=\"24px\">\n",
              "    <path d=\"M0 0h24v24H0V0z\" fill=\"none\"/>\n",
              "    <path d=\"M18.56 5.44l.94 2.06.94-2.06 2.06-.94-2.06-.94-.94-2.06-.94 2.06-2.06.94zm-11 1L8.5 8.5l.94-2.06 2.06-.94-2.06-.94L8.5 2.5l-.94 2.06-2.06.94zm10 10l.94 2.06.94-2.06 2.06-.94-2.06-.94-.94-2.06-.94 2.06-2.06.94z\"/><path d=\"M17.41 7.96l-1.37-1.37c-.4-.4-.92-.59-1.43-.59-.52 0-1.04.2-1.43.59L10.3 9.45l-7.72 7.72c-.78.78-.78 2.05 0 2.83L4 21.41c.39.39.9.59 1.41.59.51 0 1.02-.2 1.41-.59l7.78-7.78 2.81-2.81c.8-.78.8-2.07 0-2.86zM5.41 20L4 18.59l7.72-7.72 1.47 1.35L5.41 20z\"/>\n",
              "  </svg>\n",
              "      </button>\n",
              "      \n",
              "  <style>\n",
              "    .colab-df-container {\n",
              "      display:flex;\n",
              "      flex-wrap:wrap;\n",
              "      gap: 12px;\n",
              "    }\n",
              "\n",
              "    .colab-df-convert {\n",
              "      background-color: #E8F0FE;\n",
              "      border: none;\n",
              "      border-radius: 50%;\n",
              "      cursor: pointer;\n",
              "      display: none;\n",
              "      fill: #1967D2;\n",
              "      height: 32px;\n",
              "      padding: 0 0 0 0;\n",
              "      width: 32px;\n",
              "    }\n",
              "\n",
              "    .colab-df-convert:hover {\n",
              "      background-color: #E2EBFA;\n",
              "      box-shadow: 0px 1px 2px rgba(60, 64, 67, 0.3), 0px 1px 3px 1px rgba(60, 64, 67, 0.15);\n",
              "      fill: #174EA6;\n",
              "    }\n",
              "\n",
              "    [theme=dark] .colab-df-convert {\n",
              "      background-color: #3B4455;\n",
              "      fill: #D2E3FC;\n",
              "    }\n",
              "\n",
              "    [theme=dark] .colab-df-convert:hover {\n",
              "      background-color: #434B5C;\n",
              "      box-shadow: 0px 1px 3px 1px rgba(0, 0, 0, 0.15);\n",
              "      filter: drop-shadow(0px 1px 2px rgba(0, 0, 0, 0.3));\n",
              "      fill: #FFFFFF;\n",
              "    }\n",
              "  </style>\n",
              "\n",
              "      <script>\n",
              "        const buttonEl =\n",
              "          document.querySelector('#df-e84ee13e-13df-4c01-9cb8-584b7229e6e0 button.colab-df-convert');\n",
              "        buttonEl.style.display =\n",
              "          google.colab.kernel.accessAllowed ? 'block' : 'none';\n",
              "\n",
              "        async function convertToInteractive(key) {\n",
              "          const element = document.querySelector('#df-e84ee13e-13df-4c01-9cb8-584b7229e6e0');\n",
              "          const dataTable =\n",
              "            await google.colab.kernel.invokeFunction('convertToInteractive',\n",
              "                                                     [key], {});\n",
              "          if (!dataTable) return;\n",
              "\n",
              "          const docLinkHtml = 'Like what you see? Visit the ' +\n",
              "            '<a target=\"_blank\" href=https://colab.research.google.com/notebooks/data_table.ipynb>data table notebook</a>'\n",
              "            + ' to learn more about interactive tables.';\n",
              "          element.innerHTML = '';\n",
              "          dataTable['output_type'] = 'display_data';\n",
              "          await google.colab.output.renderOutput(dataTable, element);\n",
              "          const docLink = document.createElement('div');\n",
              "          docLink.innerHTML = docLinkHtml;\n",
              "          element.appendChild(docLink);\n",
              "        }\n",
              "      </script>\n",
              "    </div>\n",
              "  </div>\n",
              "  "
            ]
          },
          "metadata": {},
          "execution_count": 162
        }
      ]
    },
    {
      "cell_type": "code",
      "source": [
        "#Memfilter year_added Movie untuk 3 Tahun Terakhir\n",
        "year3_tv=TVdf.loc[((TVdf[\"year_added\"]==2019)|(TVdf[\"year_added\"]==2020)|(TVdf[\"year_added\"]==2021)),]\n",
        "year3_tv.head(3)"
      ],
      "metadata": {
        "colab": {
          "base_uri": "https://localhost:8080/",
          "height": 326
        },
        "id": "9pxSu1IfbYBK",
        "outputId": "c38eb60a-724d-44e9-e458-3ac6e0b2fe80"
      },
      "id": "9pxSu1IfbYBK",
      "execution_count": 163,
      "outputs": [
        {
          "output_type": "execute_result",
          "data": {
            "text/plain": [
              "      type                  title         director  \\\n",
              "1  TV Show          Blood & Water      No Director   \n",
              "2  TV Show              Ganglands  Julien Leclercq   \n",
              "3  TV Show  Jailbirds New Orleans      No Director   \n",
              "\n",
              "                                                cast       country  \\\n",
              "1  Ama Qamata, Khosi Ngema, Gail Mabalane, Thaban...  South Africa   \n",
              "2  Sami Bouajila, Tracy Gotoas, Samuel Jouy, Nabi...    No Country   \n",
              "3                                            No Cast    No Country   \n",
              "\n",
              "   release_year rating  duration  \\\n",
              "1          2021  TV-MA  2 season   \n",
              "2          2021  TV-MA  1 season   \n",
              "3          2021  TV-MA  1 season   \n",
              "\n",
              "                                           listed_in  \\\n",
              "1    International TV Shows, TV Dramas, TV Mysteries   \n",
              "2  Crime TV Shows, International TV Shows, TV Act...   \n",
              "3                             Docuseries, Reality TV   \n",
              "\n",
              "                                         description  month_added  year_added  \\\n",
              "1  After crossing paths at a party, a Cape Town t...            9        2021   \n",
              "2  To protect his family from a powerful drug lor...            9        2021   \n",
              "3  Feuds, flirtations and toilet talk go down amo...            9        2021   \n",
              "\n",
              "   different  \n",
              "1          0  \n",
              "2          0  \n",
              "3          0  "
            ],
            "text/html": [
              "\n",
              "  <div id=\"df-d1c8cf01-e809-4307-8d00-154529b9df8f\">\n",
              "    <div class=\"colab-df-container\">\n",
              "      <div>\n",
              "<style scoped>\n",
              "    .dataframe tbody tr th:only-of-type {\n",
              "        vertical-align: middle;\n",
              "    }\n",
              "\n",
              "    .dataframe tbody tr th {\n",
              "        vertical-align: top;\n",
              "    }\n",
              "\n",
              "    .dataframe thead th {\n",
              "        text-align: right;\n",
              "    }\n",
              "</style>\n",
              "<table border=\"1\" class=\"dataframe\">\n",
              "  <thead>\n",
              "    <tr style=\"text-align: right;\">\n",
              "      <th></th>\n",
              "      <th>type</th>\n",
              "      <th>title</th>\n",
              "      <th>director</th>\n",
              "      <th>cast</th>\n",
              "      <th>country</th>\n",
              "      <th>release_year</th>\n",
              "      <th>rating</th>\n",
              "      <th>duration</th>\n",
              "      <th>listed_in</th>\n",
              "      <th>description</th>\n",
              "      <th>month_added</th>\n",
              "      <th>year_added</th>\n",
              "      <th>different</th>\n",
              "    </tr>\n",
              "  </thead>\n",
              "  <tbody>\n",
              "    <tr>\n",
              "      <th>1</th>\n",
              "      <td>TV Show</td>\n",
              "      <td>Blood &amp; Water</td>\n",
              "      <td>No Director</td>\n",
              "      <td>Ama Qamata, Khosi Ngema, Gail Mabalane, Thaban...</td>\n",
              "      <td>South Africa</td>\n",
              "      <td>2021</td>\n",
              "      <td>TV-MA</td>\n",
              "      <td>2 season</td>\n",
              "      <td>International TV Shows, TV Dramas, TV Mysteries</td>\n",
              "      <td>After crossing paths at a party, a Cape Town t...</td>\n",
              "      <td>9</td>\n",
              "      <td>2021</td>\n",
              "      <td>0</td>\n",
              "    </tr>\n",
              "    <tr>\n",
              "      <th>2</th>\n",
              "      <td>TV Show</td>\n",
              "      <td>Ganglands</td>\n",
              "      <td>Julien Leclercq</td>\n",
              "      <td>Sami Bouajila, Tracy Gotoas, Samuel Jouy, Nabi...</td>\n",
              "      <td>No Country</td>\n",
              "      <td>2021</td>\n",
              "      <td>TV-MA</td>\n",
              "      <td>1 season</td>\n",
              "      <td>Crime TV Shows, International TV Shows, TV Act...</td>\n",
              "      <td>To protect his family from a powerful drug lor...</td>\n",
              "      <td>9</td>\n",
              "      <td>2021</td>\n",
              "      <td>0</td>\n",
              "    </tr>\n",
              "    <tr>\n",
              "      <th>3</th>\n",
              "      <td>TV Show</td>\n",
              "      <td>Jailbirds New Orleans</td>\n",
              "      <td>No Director</td>\n",
              "      <td>No Cast</td>\n",
              "      <td>No Country</td>\n",
              "      <td>2021</td>\n",
              "      <td>TV-MA</td>\n",
              "      <td>1 season</td>\n",
              "      <td>Docuseries, Reality TV</td>\n",
              "      <td>Feuds, flirtations and toilet talk go down amo...</td>\n",
              "      <td>9</td>\n",
              "      <td>2021</td>\n",
              "      <td>0</td>\n",
              "    </tr>\n",
              "  </tbody>\n",
              "</table>\n",
              "</div>\n",
              "      <button class=\"colab-df-convert\" onclick=\"convertToInteractive('df-d1c8cf01-e809-4307-8d00-154529b9df8f')\"\n",
              "              title=\"Convert this dataframe to an interactive table.\"\n",
              "              style=\"display:none;\">\n",
              "        \n",
              "  <svg xmlns=\"http://www.w3.org/2000/svg\" height=\"24px\"viewBox=\"0 0 24 24\"\n",
              "       width=\"24px\">\n",
              "    <path d=\"M0 0h24v24H0V0z\" fill=\"none\"/>\n",
              "    <path d=\"M18.56 5.44l.94 2.06.94-2.06 2.06-.94-2.06-.94-.94-2.06-.94 2.06-2.06.94zm-11 1L8.5 8.5l.94-2.06 2.06-.94-2.06-.94L8.5 2.5l-.94 2.06-2.06.94zm10 10l.94 2.06.94-2.06 2.06-.94-2.06-.94-.94-2.06-.94 2.06-2.06.94z\"/><path d=\"M17.41 7.96l-1.37-1.37c-.4-.4-.92-.59-1.43-.59-.52 0-1.04.2-1.43.59L10.3 9.45l-7.72 7.72c-.78.78-.78 2.05 0 2.83L4 21.41c.39.39.9.59 1.41.59.51 0 1.02-.2 1.41-.59l7.78-7.78 2.81-2.81c.8-.78.8-2.07 0-2.86zM5.41 20L4 18.59l7.72-7.72 1.47 1.35L5.41 20z\"/>\n",
              "  </svg>\n",
              "      </button>\n",
              "      \n",
              "  <style>\n",
              "    .colab-df-container {\n",
              "      display:flex;\n",
              "      flex-wrap:wrap;\n",
              "      gap: 12px;\n",
              "    }\n",
              "\n",
              "    .colab-df-convert {\n",
              "      background-color: #E8F0FE;\n",
              "      border: none;\n",
              "      border-radius: 50%;\n",
              "      cursor: pointer;\n",
              "      display: none;\n",
              "      fill: #1967D2;\n",
              "      height: 32px;\n",
              "      padding: 0 0 0 0;\n",
              "      width: 32px;\n",
              "    }\n",
              "\n",
              "    .colab-df-convert:hover {\n",
              "      background-color: #E2EBFA;\n",
              "      box-shadow: 0px 1px 2px rgba(60, 64, 67, 0.3), 0px 1px 3px 1px rgba(60, 64, 67, 0.15);\n",
              "      fill: #174EA6;\n",
              "    }\n",
              "\n",
              "    [theme=dark] .colab-df-convert {\n",
              "      background-color: #3B4455;\n",
              "      fill: #D2E3FC;\n",
              "    }\n",
              "\n",
              "    [theme=dark] .colab-df-convert:hover {\n",
              "      background-color: #434B5C;\n",
              "      box-shadow: 0px 1px 3px 1px rgba(0, 0, 0, 0.15);\n",
              "      filter: drop-shadow(0px 1px 2px rgba(0, 0, 0, 0.3));\n",
              "      fill: #FFFFFF;\n",
              "    }\n",
              "  </style>\n",
              "\n",
              "      <script>\n",
              "        const buttonEl =\n",
              "          document.querySelector('#df-d1c8cf01-e809-4307-8d00-154529b9df8f button.colab-df-convert');\n",
              "        buttonEl.style.display =\n",
              "          google.colab.kernel.accessAllowed ? 'block' : 'none';\n",
              "\n",
              "        async function convertToInteractive(key) {\n",
              "          const element = document.querySelector('#df-d1c8cf01-e809-4307-8d00-154529b9df8f');\n",
              "          const dataTable =\n",
              "            await google.colab.kernel.invokeFunction('convertToInteractive',\n",
              "                                                     [key], {});\n",
              "          if (!dataTable) return;\n",
              "\n",
              "          const docLinkHtml = 'Like what you see? Visit the ' +\n",
              "            '<a target=\"_blank\" href=https://colab.research.google.com/notebooks/data_table.ipynb>data table notebook</a>'\n",
              "            + ' to learn more about interactive tables.';\n",
              "          element.innerHTML = '';\n",
              "          dataTable['output_type'] = 'display_data';\n",
              "          await google.colab.output.renderOutput(dataTable, element);\n",
              "          const docLink = document.createElement('div');\n",
              "          docLink.innerHTML = docLinkHtml;\n",
              "          element.appendChild(docLink);\n",
              "        }\n",
              "      </script>\n",
              "    </div>\n",
              "  </div>\n",
              "  "
            ]
          },
          "metadata": {},
          "execution_count": 163
        }
      ]
    },
    {
      "cell_type": "code",
      "source": [
        "#Menampilkan Movie Genre\n",
        "genre_movie = (year3_movie\n",
        "                .groupby([\"year_added\",\"listed_in\"])\n",
        "                .agg(genre_mcount=(\"listed_in\",\"count\"))\n",
        "                .reset_index()\n",
        "                .sort_values([\"year_added\",\"genre_mcount\"],ascending=False).groupby(\"year_added\").head(5)\n",
        "                .head(15)\n",
        "                )\n",
        "genre_movie"
      ],
      "metadata": {
        "colab": {
          "base_uri": "https://localhost:8080/",
          "height": 519
        },
        "id": "BEWbM17EaJTh",
        "outputId": "8b3e3324-05d0-4f54-8bbd-8439db8f1483"
      },
      "id": "BEWbM17EaJTh",
      "execution_count": 190,
      "outputs": [
        {
          "output_type": "execute_result",
          "data": {
            "text/plain": [
              "     year_added                                         listed_in  \\\n",
              "459        2021                      Dramas, International Movies   \n",
              "417        2021            Comedies, Dramas, International Movies   \n",
              "387        2021                          Children & Family Movies   \n",
              "388        2021                Children & Family Movies, Comedies   \n",
              "344        2021                                Action & Adventure   \n",
              "300        2020                      Dramas, International Movies   \n",
              "254        2020            Comedies, Dramas, International Movies   \n",
              "214        2020                          Children & Family Movies   \n",
              "217        2020                Children & Family Movies, Comedies   \n",
              "303        2020     Dramas, International Movies, Romantic Movies   \n",
              "112        2019                                     Documentaries   \n",
              "127        2019  Dramas, Independent Movies, International Movies   \n",
              "175        2019                                   Stand-Up Comedy   \n",
              "134        2019                      Dramas, International Movies   \n",
              "48         2019                Children & Family Movies, Comedies   \n",
              "\n",
              "     genre_mcount  \n",
              "459            60  \n",
              "417            43  \n",
              "387            40  \n",
              "388            40  \n",
              "344            39  \n",
              "300            76  \n",
              "254            72  \n",
              "214            55  \n",
              "217            54  \n",
              "303            51  \n",
              "112            80  \n",
              "127            76  \n",
              "175            65  \n",
              "134            62  \n",
              "48             55  "
            ],
            "text/html": [
              "\n",
              "  <div id=\"df-fd4a5a4b-52ee-4af1-abe1-33ecfdae9f60\">\n",
              "    <div class=\"colab-df-container\">\n",
              "      <div>\n",
              "<style scoped>\n",
              "    .dataframe tbody tr th:only-of-type {\n",
              "        vertical-align: middle;\n",
              "    }\n",
              "\n",
              "    .dataframe tbody tr th {\n",
              "        vertical-align: top;\n",
              "    }\n",
              "\n",
              "    .dataframe thead th {\n",
              "        text-align: right;\n",
              "    }\n",
              "</style>\n",
              "<table border=\"1\" class=\"dataframe\">\n",
              "  <thead>\n",
              "    <tr style=\"text-align: right;\">\n",
              "      <th></th>\n",
              "      <th>year_added</th>\n",
              "      <th>listed_in</th>\n",
              "      <th>genre_mcount</th>\n",
              "    </tr>\n",
              "  </thead>\n",
              "  <tbody>\n",
              "    <tr>\n",
              "      <th>459</th>\n",
              "      <td>2021</td>\n",
              "      <td>Dramas, International Movies</td>\n",
              "      <td>60</td>\n",
              "    </tr>\n",
              "    <tr>\n",
              "      <th>417</th>\n",
              "      <td>2021</td>\n",
              "      <td>Comedies, Dramas, International Movies</td>\n",
              "      <td>43</td>\n",
              "    </tr>\n",
              "    <tr>\n",
              "      <th>387</th>\n",
              "      <td>2021</td>\n",
              "      <td>Children &amp; Family Movies</td>\n",
              "      <td>40</td>\n",
              "    </tr>\n",
              "    <tr>\n",
              "      <th>388</th>\n",
              "      <td>2021</td>\n",
              "      <td>Children &amp; Family Movies, Comedies</td>\n",
              "      <td>40</td>\n",
              "    </tr>\n",
              "    <tr>\n",
              "      <th>344</th>\n",
              "      <td>2021</td>\n",
              "      <td>Action &amp; Adventure</td>\n",
              "      <td>39</td>\n",
              "    </tr>\n",
              "    <tr>\n",
              "      <th>300</th>\n",
              "      <td>2020</td>\n",
              "      <td>Dramas, International Movies</td>\n",
              "      <td>76</td>\n",
              "    </tr>\n",
              "    <tr>\n",
              "      <th>254</th>\n",
              "      <td>2020</td>\n",
              "      <td>Comedies, Dramas, International Movies</td>\n",
              "      <td>72</td>\n",
              "    </tr>\n",
              "    <tr>\n",
              "      <th>214</th>\n",
              "      <td>2020</td>\n",
              "      <td>Children &amp; Family Movies</td>\n",
              "      <td>55</td>\n",
              "    </tr>\n",
              "    <tr>\n",
              "      <th>217</th>\n",
              "      <td>2020</td>\n",
              "      <td>Children &amp; Family Movies, Comedies</td>\n",
              "      <td>54</td>\n",
              "    </tr>\n",
              "    <tr>\n",
              "      <th>303</th>\n",
              "      <td>2020</td>\n",
              "      <td>Dramas, International Movies, Romantic Movies</td>\n",
              "      <td>51</td>\n",
              "    </tr>\n",
              "    <tr>\n",
              "      <th>112</th>\n",
              "      <td>2019</td>\n",
              "      <td>Documentaries</td>\n",
              "      <td>80</td>\n",
              "    </tr>\n",
              "    <tr>\n",
              "      <th>127</th>\n",
              "      <td>2019</td>\n",
              "      <td>Dramas, Independent Movies, International Movies</td>\n",
              "      <td>76</td>\n",
              "    </tr>\n",
              "    <tr>\n",
              "      <th>175</th>\n",
              "      <td>2019</td>\n",
              "      <td>Stand-Up Comedy</td>\n",
              "      <td>65</td>\n",
              "    </tr>\n",
              "    <tr>\n",
              "      <th>134</th>\n",
              "      <td>2019</td>\n",
              "      <td>Dramas, International Movies</td>\n",
              "      <td>62</td>\n",
              "    </tr>\n",
              "    <tr>\n",
              "      <th>48</th>\n",
              "      <td>2019</td>\n",
              "      <td>Children &amp; Family Movies, Comedies</td>\n",
              "      <td>55</td>\n",
              "    </tr>\n",
              "  </tbody>\n",
              "</table>\n",
              "</div>\n",
              "      <button class=\"colab-df-convert\" onclick=\"convertToInteractive('df-fd4a5a4b-52ee-4af1-abe1-33ecfdae9f60')\"\n",
              "              title=\"Convert this dataframe to an interactive table.\"\n",
              "              style=\"display:none;\">\n",
              "        \n",
              "  <svg xmlns=\"http://www.w3.org/2000/svg\" height=\"24px\"viewBox=\"0 0 24 24\"\n",
              "       width=\"24px\">\n",
              "    <path d=\"M0 0h24v24H0V0z\" fill=\"none\"/>\n",
              "    <path d=\"M18.56 5.44l.94 2.06.94-2.06 2.06-.94-2.06-.94-.94-2.06-.94 2.06-2.06.94zm-11 1L8.5 8.5l.94-2.06 2.06-.94-2.06-.94L8.5 2.5l-.94 2.06-2.06.94zm10 10l.94 2.06.94-2.06 2.06-.94-2.06-.94-.94-2.06-.94 2.06-2.06.94z\"/><path d=\"M17.41 7.96l-1.37-1.37c-.4-.4-.92-.59-1.43-.59-.52 0-1.04.2-1.43.59L10.3 9.45l-7.72 7.72c-.78.78-.78 2.05 0 2.83L4 21.41c.39.39.9.59 1.41.59.51 0 1.02-.2 1.41-.59l7.78-7.78 2.81-2.81c.8-.78.8-2.07 0-2.86zM5.41 20L4 18.59l7.72-7.72 1.47 1.35L5.41 20z\"/>\n",
              "  </svg>\n",
              "      </button>\n",
              "      \n",
              "  <style>\n",
              "    .colab-df-container {\n",
              "      display:flex;\n",
              "      flex-wrap:wrap;\n",
              "      gap: 12px;\n",
              "    }\n",
              "\n",
              "    .colab-df-convert {\n",
              "      background-color: #E8F0FE;\n",
              "      border: none;\n",
              "      border-radius: 50%;\n",
              "      cursor: pointer;\n",
              "      display: none;\n",
              "      fill: #1967D2;\n",
              "      height: 32px;\n",
              "      padding: 0 0 0 0;\n",
              "      width: 32px;\n",
              "    }\n",
              "\n",
              "    .colab-df-convert:hover {\n",
              "      background-color: #E2EBFA;\n",
              "      box-shadow: 0px 1px 2px rgba(60, 64, 67, 0.3), 0px 1px 3px 1px rgba(60, 64, 67, 0.15);\n",
              "      fill: #174EA6;\n",
              "    }\n",
              "\n",
              "    [theme=dark] .colab-df-convert {\n",
              "      background-color: #3B4455;\n",
              "      fill: #D2E3FC;\n",
              "    }\n",
              "\n",
              "    [theme=dark] .colab-df-convert:hover {\n",
              "      background-color: #434B5C;\n",
              "      box-shadow: 0px 1px 3px 1px rgba(0, 0, 0, 0.15);\n",
              "      filter: drop-shadow(0px 1px 2px rgba(0, 0, 0, 0.3));\n",
              "      fill: #FFFFFF;\n",
              "    }\n",
              "  </style>\n",
              "\n",
              "      <script>\n",
              "        const buttonEl =\n",
              "          document.querySelector('#df-fd4a5a4b-52ee-4af1-abe1-33ecfdae9f60 button.colab-df-convert');\n",
              "        buttonEl.style.display =\n",
              "          google.colab.kernel.accessAllowed ? 'block' : 'none';\n",
              "\n",
              "        async function convertToInteractive(key) {\n",
              "          const element = document.querySelector('#df-fd4a5a4b-52ee-4af1-abe1-33ecfdae9f60');\n",
              "          const dataTable =\n",
              "            await google.colab.kernel.invokeFunction('convertToInteractive',\n",
              "                                                     [key], {});\n",
              "          if (!dataTable) return;\n",
              "\n",
              "          const docLinkHtml = 'Like what you see? Visit the ' +\n",
              "            '<a target=\"_blank\" href=https://colab.research.google.com/notebooks/data_table.ipynb>data table notebook</a>'\n",
              "            + ' to learn more about interactive tables.';\n",
              "          element.innerHTML = '';\n",
              "          dataTable['output_type'] = 'display_data';\n",
              "          await google.colab.output.renderOutput(dataTable, element);\n",
              "          const docLink = document.createElement('div');\n",
              "          docLink.innerHTML = docLinkHtml;\n",
              "          element.appendChild(docLink);\n",
              "        }\n",
              "      </script>\n",
              "    </div>\n",
              "  </div>\n",
              "  "
            ]
          },
          "metadata": {},
          "execution_count": 190
        }
      ]
    },
    {
      "cell_type": "markdown",
      "source": [
        "Observation:\n",
        "1. Terdapat perubahan film yang ditayangkan di Netflix pada tahun 2019 dengan tahun 2020 dan 2021. Tahun 2019, Netflix banyak memasukkan film documentaries yang kemungkinan disebabkan karena film tersebut memiliki biaya lisensi yang murah. Tahun 2020 dan 2021, ketika pandemi Covid-19 berdampak di seluruh dunia, Netflix banyak meraih pelanggan internasional, sehingga semakin banyak pula film-film international yang ditambahkan"
      ],
      "metadata": {
        "id": "wz4F3sTbFhXO"
      },
      "id": "wz4F3sTbFhXO"
    },
    {
      "cell_type": "code",
      "source": [
        "#Menampilkan TV Show Genre\n",
        "genre_tv = (year3_tv\n",
        "                .groupby([\"year_added\",\"listed_in\"])\n",
        "                .agg(genre_mcount=(\"listed_in\",\"count\"))\n",
        "                .reset_index()\n",
        "                .sort_values([\"year_added\",\"genre_mcount\"],ascending=False).groupby(\"year_added\").head(5)\n",
        "                .head(15)\n",
        "                )\n",
        "genre_tv"
      ],
      "metadata": {
        "colab": {
          "base_uri": "https://localhost:8080/",
          "height": 519
        },
        "id": "gZUE82HUfVeT",
        "outputId": "51d89e46-00ef-45db-97c4-03a87bf74194"
      },
      "id": "gZUE82HUfVeT",
      "execution_count": 165,
      "outputs": [
        {
          "output_type": "execute_result",
          "data": {
            "text/plain": [
              "     year_added                                          listed_in  \\\n",
              "346        2021                                           Kids' TV   \n",
              "350        2021                              Kids' TV, TV Comedies   \n",
              "355        2021                                         Reality TV   \n",
              "329        2021  International TV Shows, Romantic TV Shows, TV ...   \n",
              "340        2021                  International TV Shows, TV Dramas   \n",
              "222        2020                                           Kids' TV   \n",
              "234        2020                                         Reality TV   \n",
              "228        2020                              Kids' TV, TV Comedies   \n",
              "166        2020  Crime TV Shows, International TV Shows, TV Dramas   \n",
              "133        2020               Anime Series, International TV Shows   \n",
              "92         2019                                           Kids' TV   \n",
              "39         2019  Crime TV Shows, International TV Shows, TV Dramas   \n",
              "57         2019  International TV Shows, Korean TV Shows, Roman...   \n",
              "69         2019  International TV Shows, Romantic TV Shows, TV ...   \n",
              "84         2019                  International TV Shows, TV Dramas   \n",
              "\n",
              "     genre_mcount  \n",
              "346            49  \n",
              "350            24  \n",
              "355            22  \n",
              "329            21  \n",
              "340            19  \n",
              "222            44  \n",
              "234            33  \n",
              "228            28  \n",
              "166            26  \n",
              "133            23  \n",
              "92             34  \n",
              "39             26  \n",
              "57             26  \n",
              "69             26  \n",
              "84             26  "
            ],
            "text/html": [
              "\n",
              "  <div id=\"df-4e916534-383e-4729-b3d0-24b25846f783\">\n",
              "    <div class=\"colab-df-container\">\n",
              "      <div>\n",
              "<style scoped>\n",
              "    .dataframe tbody tr th:only-of-type {\n",
              "        vertical-align: middle;\n",
              "    }\n",
              "\n",
              "    .dataframe tbody tr th {\n",
              "        vertical-align: top;\n",
              "    }\n",
              "\n",
              "    .dataframe thead th {\n",
              "        text-align: right;\n",
              "    }\n",
              "</style>\n",
              "<table border=\"1\" class=\"dataframe\">\n",
              "  <thead>\n",
              "    <tr style=\"text-align: right;\">\n",
              "      <th></th>\n",
              "      <th>year_added</th>\n",
              "      <th>listed_in</th>\n",
              "      <th>genre_mcount</th>\n",
              "    </tr>\n",
              "  </thead>\n",
              "  <tbody>\n",
              "    <tr>\n",
              "      <th>346</th>\n",
              "      <td>2021</td>\n",
              "      <td>Kids' TV</td>\n",
              "      <td>49</td>\n",
              "    </tr>\n",
              "    <tr>\n",
              "      <th>350</th>\n",
              "      <td>2021</td>\n",
              "      <td>Kids' TV, TV Comedies</td>\n",
              "      <td>24</td>\n",
              "    </tr>\n",
              "    <tr>\n",
              "      <th>355</th>\n",
              "      <td>2021</td>\n",
              "      <td>Reality TV</td>\n",
              "      <td>22</td>\n",
              "    </tr>\n",
              "    <tr>\n",
              "      <th>329</th>\n",
              "      <td>2021</td>\n",
              "      <td>International TV Shows, Romantic TV Shows, TV ...</td>\n",
              "      <td>21</td>\n",
              "    </tr>\n",
              "    <tr>\n",
              "      <th>340</th>\n",
              "      <td>2021</td>\n",
              "      <td>International TV Shows, TV Dramas</td>\n",
              "      <td>19</td>\n",
              "    </tr>\n",
              "    <tr>\n",
              "      <th>222</th>\n",
              "      <td>2020</td>\n",
              "      <td>Kids' TV</td>\n",
              "      <td>44</td>\n",
              "    </tr>\n",
              "    <tr>\n",
              "      <th>234</th>\n",
              "      <td>2020</td>\n",
              "      <td>Reality TV</td>\n",
              "      <td>33</td>\n",
              "    </tr>\n",
              "    <tr>\n",
              "      <th>228</th>\n",
              "      <td>2020</td>\n",
              "      <td>Kids' TV, TV Comedies</td>\n",
              "      <td>28</td>\n",
              "    </tr>\n",
              "    <tr>\n",
              "      <th>166</th>\n",
              "      <td>2020</td>\n",
              "      <td>Crime TV Shows, International TV Shows, TV Dramas</td>\n",
              "      <td>26</td>\n",
              "    </tr>\n",
              "    <tr>\n",
              "      <th>133</th>\n",
              "      <td>2020</td>\n",
              "      <td>Anime Series, International TV Shows</td>\n",
              "      <td>23</td>\n",
              "    </tr>\n",
              "    <tr>\n",
              "      <th>92</th>\n",
              "      <td>2019</td>\n",
              "      <td>Kids' TV</td>\n",
              "      <td>34</td>\n",
              "    </tr>\n",
              "    <tr>\n",
              "      <th>39</th>\n",
              "      <td>2019</td>\n",
              "      <td>Crime TV Shows, International TV Shows, TV Dramas</td>\n",
              "      <td>26</td>\n",
              "    </tr>\n",
              "    <tr>\n",
              "      <th>57</th>\n",
              "      <td>2019</td>\n",
              "      <td>International TV Shows, Korean TV Shows, Roman...</td>\n",
              "      <td>26</td>\n",
              "    </tr>\n",
              "    <tr>\n",
              "      <th>69</th>\n",
              "      <td>2019</td>\n",
              "      <td>International TV Shows, Romantic TV Shows, TV ...</td>\n",
              "      <td>26</td>\n",
              "    </tr>\n",
              "    <tr>\n",
              "      <th>84</th>\n",
              "      <td>2019</td>\n",
              "      <td>International TV Shows, TV Dramas</td>\n",
              "      <td>26</td>\n",
              "    </tr>\n",
              "  </tbody>\n",
              "</table>\n",
              "</div>\n",
              "      <button class=\"colab-df-convert\" onclick=\"convertToInteractive('df-4e916534-383e-4729-b3d0-24b25846f783')\"\n",
              "              title=\"Convert this dataframe to an interactive table.\"\n",
              "              style=\"display:none;\">\n",
              "        \n",
              "  <svg xmlns=\"http://www.w3.org/2000/svg\" height=\"24px\"viewBox=\"0 0 24 24\"\n",
              "       width=\"24px\">\n",
              "    <path d=\"M0 0h24v24H0V0z\" fill=\"none\"/>\n",
              "    <path d=\"M18.56 5.44l.94 2.06.94-2.06 2.06-.94-2.06-.94-.94-2.06-.94 2.06-2.06.94zm-11 1L8.5 8.5l.94-2.06 2.06-.94-2.06-.94L8.5 2.5l-.94 2.06-2.06.94zm10 10l.94 2.06.94-2.06 2.06-.94-2.06-.94-.94-2.06-.94 2.06-2.06.94z\"/><path d=\"M17.41 7.96l-1.37-1.37c-.4-.4-.92-.59-1.43-.59-.52 0-1.04.2-1.43.59L10.3 9.45l-7.72 7.72c-.78.78-.78 2.05 0 2.83L4 21.41c.39.39.9.59 1.41.59.51 0 1.02-.2 1.41-.59l7.78-7.78 2.81-2.81c.8-.78.8-2.07 0-2.86zM5.41 20L4 18.59l7.72-7.72 1.47 1.35L5.41 20z\"/>\n",
              "  </svg>\n",
              "      </button>\n",
              "      \n",
              "  <style>\n",
              "    .colab-df-container {\n",
              "      display:flex;\n",
              "      flex-wrap:wrap;\n",
              "      gap: 12px;\n",
              "    }\n",
              "\n",
              "    .colab-df-convert {\n",
              "      background-color: #E8F0FE;\n",
              "      border: none;\n",
              "      border-radius: 50%;\n",
              "      cursor: pointer;\n",
              "      display: none;\n",
              "      fill: #1967D2;\n",
              "      height: 32px;\n",
              "      padding: 0 0 0 0;\n",
              "      width: 32px;\n",
              "    }\n",
              "\n",
              "    .colab-df-convert:hover {\n",
              "      background-color: #E2EBFA;\n",
              "      box-shadow: 0px 1px 2px rgba(60, 64, 67, 0.3), 0px 1px 3px 1px rgba(60, 64, 67, 0.15);\n",
              "      fill: #174EA6;\n",
              "    }\n",
              "\n",
              "    [theme=dark] .colab-df-convert {\n",
              "      background-color: #3B4455;\n",
              "      fill: #D2E3FC;\n",
              "    }\n",
              "\n",
              "    [theme=dark] .colab-df-convert:hover {\n",
              "      background-color: #434B5C;\n",
              "      box-shadow: 0px 1px 3px 1px rgba(0, 0, 0, 0.15);\n",
              "      filter: drop-shadow(0px 1px 2px rgba(0, 0, 0, 0.3));\n",
              "      fill: #FFFFFF;\n",
              "    }\n",
              "  </style>\n",
              "\n",
              "      <script>\n",
              "        const buttonEl =\n",
              "          document.querySelector('#df-4e916534-383e-4729-b3d0-24b25846f783 button.colab-df-convert');\n",
              "        buttonEl.style.display =\n",
              "          google.colab.kernel.accessAllowed ? 'block' : 'none';\n",
              "\n",
              "        async function convertToInteractive(key) {\n",
              "          const element = document.querySelector('#df-4e916534-383e-4729-b3d0-24b25846f783');\n",
              "          const dataTable =\n",
              "            await google.colab.kernel.invokeFunction('convertToInteractive',\n",
              "                                                     [key], {});\n",
              "          if (!dataTable) return;\n",
              "\n",
              "          const docLinkHtml = 'Like what you see? Visit the ' +\n",
              "            '<a target=\"_blank\" href=https://colab.research.google.com/notebooks/data_table.ipynb>data table notebook</a>'\n",
              "            + ' to learn more about interactive tables.';\n",
              "          element.innerHTML = '';\n",
              "          dataTable['output_type'] = 'display_data';\n",
              "          await google.colab.output.renderOutput(dataTable, element);\n",
              "          const docLink = document.createElement('div');\n",
              "          docLink.innerHTML = docLinkHtml;\n",
              "          element.appendChild(docLink);\n",
              "        }\n",
              "      </script>\n",
              "    </div>\n",
              "  </div>\n",
              "  "
            ]
          },
          "metadata": {},
          "execution_count": 165
        }
      ]
    },
    {
      "cell_type": "markdown",
      "source": [
        "Observation:\n",
        "1. Penambahan TV show pada Netflix masih didominasi oleh Kids TV, dimana tayangan untuk anak memang berlisensi lebih murah bila dibandingkan dengan tayangan berbau komedi misalnya"
      ],
      "metadata": {
        "id": "yFmHOyQG32YG"
      },
      "id": "yFmHOyQG32YG"
    },
    {
      "cell_type": "markdown",
      "source": [
        "#####**Bagaimanakah sentiment atas konten (berdasarkan description) yang terdapat pada Netflix selama 10 tahun terakhir?**"
      ],
      "metadata": {
        "id": "kHnWZquEfW8Z"
      },
      "id": "kHnWZquEfW8Z"
    },
    {
      "cell_type": "code",
      "source": [
        "#Memfilter Kolom yang Dibutuhkan\n",
        "sentiment_df = df[[\"release_year\", \"description\"]]\n",
        "sentiment_df = sentiment_df[sentiment_df[\"release_year\"]>2011]"
      ],
      "metadata": {
        "id": "pwUoeISSfi39"
      },
      "id": "pwUoeISSfi39",
      "execution_count": 166,
      "outputs": []
    },
    {
      "cell_type": "code",
      "source": [
        "#Menghitung dan Mengkategorikan Polar\n",
        "for index, row in sentiment_df.iterrows():\n",
        "  rowdescription = row[\"description\"]\n",
        "  text = TextBlob(rowdescription)\n",
        "  polar = text.sentiment.polarity\n",
        "  if polar == 0:\n",
        "    sent = \"Neutral\"\n",
        "  elif polar > 0:\n",
        "    sent = \"Positive\"\n",
        "  else:\n",
        "    sent = \"Negative\"\n",
        "  sentiment_df.loc[[index,2],\"Sentiment\"]=sent"
      ],
      "metadata": {
        "id": "TWFp46Cnpv5-"
      },
      "id": "TWFp46Cnpv5-",
      "execution_count": 167,
      "outputs": []
    },
    {
      "cell_type": "code",
      "source": [
        "#Menampilkan Sentiment Count atas Konten pada Netflix\n",
        "sentiment_count = (sentiment_df\n",
        "                .groupby([\"release_year\",\"Sentiment\"])\n",
        "                .agg(sent_count=(\"Sentiment\",\"count\"))\n",
        "                .reset_index()\n",
        "                .sort_values([\"release_year\",\"Sentiment\"],ascending=False)\n",
        "                )\n",
        "sentiment_count_pivot = sentiment_count.pivot(index=\"Sentiment\", columns=\"release_year\", values=\"sent_count\")\n",
        "sentiment_count_pivot"
      ],
      "metadata": {
        "colab": {
          "base_uri": "https://localhost:8080/",
          "height": 175
        },
        "id": "KfimYyXZp3Uf",
        "outputId": "4035bdb5-b608-456e-f0f8-1900f4abeeac"
      },
      "id": "KfimYyXZp3Uf",
      "execution_count": 168,
      "outputs": [
        {
          "output_type": "execute_result",
          "data": {
            "text/plain": [
              "release_year  2012  2013  2014  2015  2016  2017  2018  2019  2020  2021\n",
              "Sentiment                                                               \n",
              "Negative        73    93   117   167   283   323   355   308   273   164\n",
              "Neutral         39    44    67    96   152   210   212   170   161    85\n",
              "Positive       125   151   168   297   467   499   580   552   519   343"
            ],
            "text/html": [
              "\n",
              "  <div id=\"df-9aaeb750-b1c0-40a9-bea2-3b91594596d0\">\n",
              "    <div class=\"colab-df-container\">\n",
              "      <div>\n",
              "<style scoped>\n",
              "    .dataframe tbody tr th:only-of-type {\n",
              "        vertical-align: middle;\n",
              "    }\n",
              "\n",
              "    .dataframe tbody tr th {\n",
              "        vertical-align: top;\n",
              "    }\n",
              "\n",
              "    .dataframe thead th {\n",
              "        text-align: right;\n",
              "    }\n",
              "</style>\n",
              "<table border=\"1\" class=\"dataframe\">\n",
              "  <thead>\n",
              "    <tr style=\"text-align: right;\">\n",
              "      <th>release_year</th>\n",
              "      <th>2012</th>\n",
              "      <th>2013</th>\n",
              "      <th>2014</th>\n",
              "      <th>2015</th>\n",
              "      <th>2016</th>\n",
              "      <th>2017</th>\n",
              "      <th>2018</th>\n",
              "      <th>2019</th>\n",
              "      <th>2020</th>\n",
              "      <th>2021</th>\n",
              "    </tr>\n",
              "    <tr>\n",
              "      <th>Sentiment</th>\n",
              "      <th></th>\n",
              "      <th></th>\n",
              "      <th></th>\n",
              "      <th></th>\n",
              "      <th></th>\n",
              "      <th></th>\n",
              "      <th></th>\n",
              "      <th></th>\n",
              "      <th></th>\n",
              "      <th></th>\n",
              "    </tr>\n",
              "  </thead>\n",
              "  <tbody>\n",
              "    <tr>\n",
              "      <th>Negative</th>\n",
              "      <td>73</td>\n",
              "      <td>93</td>\n",
              "      <td>117</td>\n",
              "      <td>167</td>\n",
              "      <td>283</td>\n",
              "      <td>323</td>\n",
              "      <td>355</td>\n",
              "      <td>308</td>\n",
              "      <td>273</td>\n",
              "      <td>164</td>\n",
              "    </tr>\n",
              "    <tr>\n",
              "      <th>Neutral</th>\n",
              "      <td>39</td>\n",
              "      <td>44</td>\n",
              "      <td>67</td>\n",
              "      <td>96</td>\n",
              "      <td>152</td>\n",
              "      <td>210</td>\n",
              "      <td>212</td>\n",
              "      <td>170</td>\n",
              "      <td>161</td>\n",
              "      <td>85</td>\n",
              "    </tr>\n",
              "    <tr>\n",
              "      <th>Positive</th>\n",
              "      <td>125</td>\n",
              "      <td>151</td>\n",
              "      <td>168</td>\n",
              "      <td>297</td>\n",
              "      <td>467</td>\n",
              "      <td>499</td>\n",
              "      <td>580</td>\n",
              "      <td>552</td>\n",
              "      <td>519</td>\n",
              "      <td>343</td>\n",
              "    </tr>\n",
              "  </tbody>\n",
              "</table>\n",
              "</div>\n",
              "      <button class=\"colab-df-convert\" onclick=\"convertToInteractive('df-9aaeb750-b1c0-40a9-bea2-3b91594596d0')\"\n",
              "              title=\"Convert this dataframe to an interactive table.\"\n",
              "              style=\"display:none;\">\n",
              "        \n",
              "  <svg xmlns=\"http://www.w3.org/2000/svg\" height=\"24px\"viewBox=\"0 0 24 24\"\n",
              "       width=\"24px\">\n",
              "    <path d=\"M0 0h24v24H0V0z\" fill=\"none\"/>\n",
              "    <path d=\"M18.56 5.44l.94 2.06.94-2.06 2.06-.94-2.06-.94-.94-2.06-.94 2.06-2.06.94zm-11 1L8.5 8.5l.94-2.06 2.06-.94-2.06-.94L8.5 2.5l-.94 2.06-2.06.94zm10 10l.94 2.06.94-2.06 2.06-.94-2.06-.94-.94-2.06-.94 2.06-2.06.94z\"/><path d=\"M17.41 7.96l-1.37-1.37c-.4-.4-.92-.59-1.43-.59-.52 0-1.04.2-1.43.59L10.3 9.45l-7.72 7.72c-.78.78-.78 2.05 0 2.83L4 21.41c.39.39.9.59 1.41.59.51 0 1.02-.2 1.41-.59l7.78-7.78 2.81-2.81c.8-.78.8-2.07 0-2.86zM5.41 20L4 18.59l7.72-7.72 1.47 1.35L5.41 20z\"/>\n",
              "  </svg>\n",
              "      </button>\n",
              "      \n",
              "  <style>\n",
              "    .colab-df-container {\n",
              "      display:flex;\n",
              "      flex-wrap:wrap;\n",
              "      gap: 12px;\n",
              "    }\n",
              "\n",
              "    .colab-df-convert {\n",
              "      background-color: #E8F0FE;\n",
              "      border: none;\n",
              "      border-radius: 50%;\n",
              "      cursor: pointer;\n",
              "      display: none;\n",
              "      fill: #1967D2;\n",
              "      height: 32px;\n",
              "      padding: 0 0 0 0;\n",
              "      width: 32px;\n",
              "    }\n",
              "\n",
              "    .colab-df-convert:hover {\n",
              "      background-color: #E2EBFA;\n",
              "      box-shadow: 0px 1px 2px rgba(60, 64, 67, 0.3), 0px 1px 3px 1px rgba(60, 64, 67, 0.15);\n",
              "      fill: #174EA6;\n",
              "    }\n",
              "\n",
              "    [theme=dark] .colab-df-convert {\n",
              "      background-color: #3B4455;\n",
              "      fill: #D2E3FC;\n",
              "    }\n",
              "\n",
              "    [theme=dark] .colab-df-convert:hover {\n",
              "      background-color: #434B5C;\n",
              "      box-shadow: 0px 1px 3px 1px rgba(0, 0, 0, 0.15);\n",
              "      filter: drop-shadow(0px 1px 2px rgba(0, 0, 0, 0.3));\n",
              "      fill: #FFFFFF;\n",
              "    }\n",
              "  </style>\n",
              "\n",
              "      <script>\n",
              "        const buttonEl =\n",
              "          document.querySelector('#df-9aaeb750-b1c0-40a9-bea2-3b91594596d0 button.colab-df-convert');\n",
              "        buttonEl.style.display =\n",
              "          google.colab.kernel.accessAllowed ? 'block' : 'none';\n",
              "\n",
              "        async function convertToInteractive(key) {\n",
              "          const element = document.querySelector('#df-9aaeb750-b1c0-40a9-bea2-3b91594596d0');\n",
              "          const dataTable =\n",
              "            await google.colab.kernel.invokeFunction('convertToInteractive',\n",
              "                                                     [key], {});\n",
              "          if (!dataTable) return;\n",
              "\n",
              "          const docLinkHtml = 'Like what you see? Visit the ' +\n",
              "            '<a target=\"_blank\" href=https://colab.research.google.com/notebooks/data_table.ipynb>data table notebook</a>'\n",
              "            + ' to learn more about interactive tables.';\n",
              "          element.innerHTML = '';\n",
              "          dataTable['output_type'] = 'display_data';\n",
              "          await google.colab.output.renderOutput(dataTable, element);\n",
              "          const docLink = document.createElement('div');\n",
              "          docLink.innerHTML = docLinkHtml;\n",
              "          element.appendChild(docLink);\n",
              "        }\n",
              "      </script>\n",
              "    </div>\n",
              "  </div>\n",
              "  "
            ]
          },
          "metadata": {},
          "execution_count": 168
        }
      ]
    },
    {
      "cell_type": "code",
      "source": [
        "#Menentukan x dan y\n",
        "x = sentiment_count[\"release_year\"].unique()\n",
        "y1 = np.array(sentiment_count.loc[sentiment_count[\"Sentiment\"] == \"Positive\",\"sent_count\"])\n",
        "y2 = np.array(sentiment_count.loc[sentiment_count[\"Sentiment\"] == \"Neutral\",\"sent_count\"])\n",
        "y3 = np.array(sentiment_count.loc[sentiment_count[\"Sentiment\"] == \"Negative\",\"sent_count\"])\n",
        "\n",
        "#Membuat Visualisasi\n",
        "fig, ax = plt.subplots(figsize=(11, 6))\n",
        "plt.bar(x, y1, color = \"#B12025\")\n",
        "plt.bar(x, y2, bottom = y1, color = \"salmon\")\n",
        "plt.bar(x, y3, bottom = y1 + y2, color = \"#292929\")\n",
        "plt.title(\"Sentiment Analysis of Content Description\")\n",
        "plt.legend([\"Positive\",\"Neutral\",\"Negative\"])\n",
        "plt.show()"
      ],
      "metadata": {
        "colab": {
          "base_uri": "https://localhost:8080/",
          "height": 390
        },
        "id": "xOGFXegyr2mc",
        "outputId": "25a4d95c-b899-48db-e322-f22a13a7d87b"
      },
      "id": "xOGFXegyr2mc",
      "execution_count": 169,
      "outputs": [
        {
          "output_type": "display_data",
          "data": {
            "text/plain": [
              "<Figure size 792x432 with 1 Axes>"
            ],
            "image/png": "[encoded data removed]"
          },
          "metadata": {
            "needs_background": "light"
          }
        }
      ]
    },
    {
      "cell_type": "markdown",
      "source": [
        "###**Recommendation System**"
      ],
      "metadata": {
        "id": "gAZ5n98Tf-0u"
      },
      "id": "gAZ5n98Tf-0u"
    },
    {
      "cell_type": "markdown",
      "source": [
        "Recommendation system dapat dibedakan menjadi 2, yaitu:\n",
        "\n",
        "1. Content-based filtering, yang berarti memberikan rekomendasi berdasarkan feature/tag/atribut tertentu yang memiliki kesamaan dengan yang diinput oleh user. \n",
        "\n",
        "2. Collaborative-based filtering, yang berarti memberikan rekomendasi berdasarkan user atau item tertentu yang dibeli bersamaan.\n",
        "\n",
        "Berdasarkan penjelasan tersebut, dapat dilihat bahwa terdapat keterbasan data pada dataset yang digunakan, yaitu tidak terdapat data mengenai user ataupun rating(penilaian) terhadap masing-masing film. Dengan demikian, pada project ini hanya dapat dilakukan content-based filtering."
      ],
      "metadata": {
        "id": "kQdNfcM6AIjy"
      },
      "id": "kQdNfcM6AIjy"
    },
    {
      "cell_type": "markdown",
      "source": [
        "#####**Recommendation System Berdasarkan description**"
      ],
      "metadata": {
        "id": "XZuAonCzjv7v"
      },
      "id": "XZuAonCzjv7v"
    },
    {
      "cell_type": "markdown",
      "source": [
        "Menggunakan TF-IDF untuk memberikan bobot pada masing-masing film dan TV shows dan mencari kesamaan dengan cosine similarity berdasarkan description sebagai feature utama. Memilih description dikarenakan description merupakan summary dari film dan TV shows, sehingga relevan untuk memberikan rekomendasi berdasarkan kesamaan summary "
      ],
      "metadata": {
        "id": "senoNJbF-wgq"
      },
      "id": "senoNJbF-wgq"
    },
    {
      "cell_type": "code",
      "source": [
        "#Memfilter description dengan TFIDF Vector - Stopword untuk Menyisakan Kata yang Penting saja\n",
        "TFstop = TfidfVectorizer(stop_words = \"english\", lowercase = True)\n",
        "TFmodel = TFstop.fit_transform(df[\"description\"])\n",
        "\n",
        "#Melihat Dimensi Data\n",
        "TFmodel.shape"
      ],
      "metadata": {
        "colab": {
          "base_uri": "https://localhost:8080/"
        },
        "id": "NoVaNb54yv0o",
        "outputId": "60c5164f-cda7-4b89-cf52-f29c891bad3d"
      },
      "id": "NoVaNb54yv0o",
      "execution_count": 170,
      "outputs": [
        {
          "output_type": "execute_result",
          "data": {
            "text/plain": [
              "(8807, 18895)"
            ]
          },
          "metadata": {},
          "execution_count": 170
        }
      ]
    },
    {
      "cell_type": "code",
      "source": [
        "#Membuat Cosine Similarity untuk Mengecek Kesamaan\n",
        "Cosine = linear_kernel(TFmodel, TFmodel)\n",
        "\n",
        "#Mengidentifikasi Index dari Judul yang Diberikan\n",
        "ReturnIndex = pd.Series(df.index, index=df[\"title\"]).drop_duplicates()"
      ],
      "metadata": {
        "id": "cXFzMNoPH3he"
      },
      "id": "cXFzMNoPH3he",
      "execution_count": 171,
      "outputs": []
    },
    {
      "cell_type": "code",
      "source": [
        "#Membuat Fungsi untuk Rekomendasi\n",
        "def Recommendation1(Title, Cosine=Cosine):\n",
        "    Index = ReturnIndex[Title]\n",
        "\n",
        "    #Mencari Nilai Pairwise Similarity berdasarkan Title yang Diiput \n",
        "    Similarity = list(enumerate(Cosine[Index]))\n",
        "\n",
        "    #Mengurutkan Title berdasarkan Nilai Cosine Similarity\n",
        "    Similarity = sorted(Similarity, key=lambda x: x[1], reverse=True)\n",
        "\n",
        "    #Memfilter untuk Mendapatkan Top 5 Movie\n",
        "    Similarity = Similarity[1:6]\n",
        "    ReturnMovie = [i[0] for i in Similarity]\n",
        "    SimilarityMovie = [i[1] for i in Similarity]\n",
        "    \n",
        "    #Mereturn Fungsi\n",
        "    return pd.DataFrame(zip(df[\"title\"].iloc[ReturnMovie], SimilarityMovie), columns=[\"title\",\"Similarity\"])"
      ],
      "metadata": {
        "id": "U39Mu2CcC9ts"
      },
      "id": "U39Mu2CcC9ts",
      "execution_count": 172,
      "outputs": []
    },
    {
      "cell_type": "code",
      "source": [
        "Recommendation1(\"Naruto\")"
      ],
      "metadata": {
        "colab": {
          "base_uri": "https://localhost:8080/",
          "height": 206
        },
        "id": "VDjkHGb-DFJ_",
        "outputId": "b7f1907b-d7c0-4642-d032-cebe86ed4b44"
      },
      "id": "VDjkHGb-DFJ_",
      "execution_count": 173,
      "outputs": [
        {
          "output_type": "execute_result",
          "data": {
            "text/plain": [
              "                                      title  Similarity\n",
              "0               Naruto Shippuden: The Movie    0.258153\n",
              "1  Naruto Shippuden the Movie: Blood Prison    0.229762\n",
              "2           Naruto Shippuden : Blood Prison    0.229762\n",
              "3                                   Sabrina    0.195734\n",
              "4                    Beyblade: Metal Fusion    0.187850"
            ],
            "text/html": [
              "\n",
              "  <div id=\"df-0e279092-a346-44b1-a47e-e995d5bbb5e1\">\n",
              "    <div class=\"colab-df-container\">\n",
              "      <div>\n",
              "<style scoped>\n",
              "    .dataframe tbody tr th:only-of-type {\n",
              "        vertical-align: middle;\n",
              "    }\n",
              "\n",
              "    .dataframe tbody tr th {\n",
              "        vertical-align: top;\n",
              "    }\n",
              "\n",
              "    .dataframe thead th {\n",
              "        text-align: right;\n",
              "    }\n",
              "</style>\n",
              "<table border=\"1\" class=\"dataframe\">\n",
              "  <thead>\n",
              "    <tr style=\"text-align: right;\">\n",
              "      <th></th>\n",
              "      <th>title</th>\n",
              "      <th>Similarity</th>\n",
              "    </tr>\n",
              "  </thead>\n",
              "  <tbody>\n",
              "    <tr>\n",
              "      <th>0</th>\n",
              "      <td>Naruto Shippuden: The Movie</td>\n",
              "      <td>0.258153</td>\n",
              "    </tr>\n",
              "    <tr>\n",
              "      <th>1</th>\n",
              "      <td>Naruto Shippuden the Movie: Blood Prison</td>\n",
              "      <td>0.229762</td>\n",
              "    </tr>\n",
              "    <tr>\n",
              "      <th>2</th>\n",
              "      <td>Naruto Shippuden : Blood Prison</td>\n",
              "      <td>0.229762</td>\n",
              "    </tr>\n",
              "    <tr>\n",
              "      <th>3</th>\n",
              "      <td>Sabrina</td>\n",
              "      <td>0.195734</td>\n",
              "    </tr>\n",
              "    <tr>\n",
              "      <th>4</th>\n",
              "      <td>Beyblade: Metal Fusion</td>\n",
              "      <td>0.187850</td>\n",
              "    </tr>\n",
              "  </tbody>\n",
              "</table>\n",
              "</div>\n",
              "      <button class=\"colab-df-convert\" onclick=\"convertToInteractive('df-0e279092-a346-44b1-a47e-e995d5bbb5e1')\"\n",
              "              title=\"Convert this dataframe to an interactive table.\"\n",
              "              style=\"display:none;\">\n",
              "        \n",
              "  <svg xmlns=\"http://www.w3.org/2000/svg\" height=\"24px\"viewBox=\"0 0 24 24\"\n",
              "       width=\"24px\">\n",
              "    <path d=\"M0 0h24v24H0V0z\" fill=\"none\"/>\n",
              "    <path d=\"M18.56 5.44l.94 2.06.94-2.06 2.06-.94-2.06-.94-.94-2.06-.94 2.06-2.06.94zm-11 1L8.5 8.5l.94-2.06 2.06-.94-2.06-.94L8.5 2.5l-.94 2.06-2.06.94zm10 10l.94 2.06.94-2.06 2.06-.94-2.06-.94-.94-2.06-.94 2.06-2.06.94z\"/><path d=\"M17.41 7.96l-1.37-1.37c-.4-.4-.92-.59-1.43-.59-.52 0-1.04.2-1.43.59L10.3 9.45l-7.72 7.72c-.78.78-.78 2.05 0 2.83L4 21.41c.39.39.9.59 1.41.59.51 0 1.02-.2 1.41-.59l7.78-7.78 2.81-2.81c.8-.78.8-2.07 0-2.86zM5.41 20L4 18.59l7.72-7.72 1.47 1.35L5.41 20z\"/>\n",
              "  </svg>\n",
              "      </button>\n",
              "      \n",
              "  <style>\n",
              "    .colab-df-container {\n",
              "      display:flex;\n",
              "      flex-wrap:wrap;\n",
              "      gap: 12px;\n",
              "    }\n",
              "\n",
              "    .colab-df-convert {\n",
              "      background-color: #E8F0FE;\n",
              "      border: none;\n",
              "      border-radius: 50%;\n",
              "      cursor: pointer;\n",
              "      display: none;\n",
              "      fill: #1967D2;\n",
              "      height: 32px;\n",
              "      padding: 0 0 0 0;\n",
              "      width: 32px;\n",
              "    }\n",
              "\n",
              "    .colab-df-convert:hover {\n",
              "      background-color: #E2EBFA;\n",
              "      box-shadow: 0px 1px 2px rgba(60, 64, 67, 0.3), 0px 1px 3px 1px rgba(60, 64, 67, 0.15);\n",
              "      fill: #174EA6;\n",
              "    }\n",
              "\n",
              "    [theme=dark] .colab-df-convert {\n",
              "      background-color: #3B4455;\n",
              "      fill: #D2E3FC;\n",
              "    }\n",
              "\n",
              "    [theme=dark] .colab-df-convert:hover {\n",
              "      background-color: #434B5C;\n",
              "      box-shadow: 0px 1px 3px 1px rgba(0, 0, 0, 0.15);\n",
              "      filter: drop-shadow(0px 1px 2px rgba(0, 0, 0, 0.3));\n",
              "      fill: #FFFFFF;\n",
              "    }\n",
              "  </style>\n",
              "\n",
              "      <script>\n",
              "        const buttonEl =\n",
              "          document.querySelector('#df-0e279092-a346-44b1-a47e-e995d5bbb5e1 button.colab-df-convert');\n",
              "        buttonEl.style.display =\n",
              "          google.colab.kernel.accessAllowed ? 'block' : 'none';\n",
              "\n",
              "        async function convertToInteractive(key) {\n",
              "          const element = document.querySelector('#df-0e279092-a346-44b1-a47e-e995d5bbb5e1');\n",
              "          const dataTable =\n",
              "            await google.colab.kernel.invokeFunction('convertToInteractive',\n",
              "                                                     [key], {});\n",
              "          if (!dataTable) return;\n",
              "\n",
              "          const docLinkHtml = 'Like what you see? Visit the ' +\n",
              "            '<a target=\"_blank\" href=https://colab.research.google.com/notebooks/data_table.ipynb>data table notebook</a>'\n",
              "            + ' to learn more about interactive tables.';\n",
              "          element.innerHTML = '';\n",
              "          dataTable['output_type'] = 'display_data';\n",
              "          await google.colab.output.renderOutput(dataTable, element);\n",
              "          const docLink = document.createElement('div');\n",
              "          docLink.innerHTML = docLinkHtml;\n",
              "          element.appendChild(docLink);\n",
              "        }\n",
              "      </script>\n",
              "    </div>\n",
              "  </div>\n",
              "  "
            ]
          },
          "metadata": {},
          "execution_count": 173
        }
      ]
    },
    {
      "cell_type": "markdown",
      "source": [
        "Observation:\n",
        "1. Jika melihat pada rekomendasi yang dihasilkan berdasarkan description, terdapat 2 film yang kurang related dengan film yang diinputkan, sehingga kurang akurat. Oleh karena itu, akan dicoba untuk membuat model rekomendasi dengan menambahkan feature lainnya"
      ],
      "metadata": {
        "id": "tuSP6b19yr1O"
      },
      "id": "tuSP6b19yr1O"
    },
    {
      "cell_type": "markdown",
      "source": [
        "#####**Recommendation System dengan Tambahan Feature Lainnya**"
      ],
      "metadata": {
        "id": "I_0ydg6hj0gM"
      },
      "id": "I_0ydg6hj0gM"
    },
    {
      "cell_type": "markdown",
      "source": [
        "Menambahkan feature listed in (genre), director, dan cast pada description, sehingga rekomendasi yang diberikan lebih akurat karena melihat ke lebih banyak kesamaan"
      ],
      "metadata": {
        "id": "aIQ_wjOA_jPf"
      },
      "id": "aIQ_wjOA_jPf"
    },
    {
      "cell_type": "code",
      "source": [
        "#Membuat Fungsi untuk Membersihkan Data\n",
        "def Clean(text):\n",
        "    #Mencocokkan Tipe Data dan Merapikan Data\n",
        "    if isinstance(text, str):\n",
        "        return str.lower(text.replace(\" \", \"\"))\n",
        "    else:\n",
        "        return \"\""
      ],
      "metadata": {
        "id": "91FZlCvW9CEh"
      },
      "id": "91FZlCvW9CEh",
      "execution_count": 174,
      "outputs": []
    },
    {
      "cell_type": "code",
      "source": [
        "#Memfilter Kolom Sesuai yang Dibutuhkan\n",
        "filter=[\"title\",\"director\",\"cast\",\"listed_in\",\"description\"]\n",
        "Filterdf = df[filter]"
      ],
      "metadata": {
        "id": "yJU8JW7m9Ie2"
      },
      "id": "yJU8JW7m9Ie2",
      "execution_count": 175,
      "outputs": []
    },
    {
      "cell_type": "code",
      "source": [
        "#Mengaplikasikan Fungsi Clean pada Masing-Masing Kolom\n",
        "Filterdf[\"title\"]=Filterdf[\"title\"].apply(Clean)\n",
        "Filterdf[\"director\"]=Filterdf[\"director\"].apply(Clean)\n",
        "Filterdf[\"cast\"]=Filterdf[\"cast\"].apply(Clean)\n",
        "Filterdf[\"listed_in\"]=Filterdf[\"listed_in\"].apply(Clean)\n",
        "Filterdf[\"description\"]=Filterdf[\"description\"].apply(Clean)"
      ],
      "metadata": {
        "id": "bW0hxp1U9Mf0"
      },
      "id": "bW0hxp1U9Mf0",
      "execution_count": 176,
      "outputs": []
    },
    {
      "cell_type": "code",
      "source": [
        "#Membuat Fungsi untuk Join Semua Feature Kecuali Title\n",
        "features=[\"listed_in\",\"description\",\"director\",\"cast\"]\n",
        "def Join(feature):\n",
        "    #Menggabungkan Semua Feature\n",
        "    return \" \".join(str(feature[f]) for f in features)"
      ],
      "metadata": {
        "id": "O5Lk7RzlMx1m"
      },
      "id": "O5Lk7RzlMx1m",
      "execution_count": 177,
      "outputs": []
    },
    {
      "cell_type": "code",
      "source": [
        "#Mengaplikasikan Fungsi Join pada Feature yang Dipilih\n",
        "Filterdf[\"Join\"] = Filterdf.apply(Join, axis=1)"
      ],
      "metadata": {
        "id": "DRG28niLp4oC"
      },
      "id": "DRG28niLp4oC",
      "execution_count": 178,
      "outputs": []
    },
    {
      "cell_type": "code",
      "source": [
        "#Memfilter Feature dengan Count Vector - Stopword untuk Menyisakan Kata yang Penting saja\n",
        "CVstop = CountVectorizer(stop_words = \"english\", lowercase = True)\n",
        "CVmodel = CVstop.fit_transform(Filterdf[\"Join\"])\n",
        "\n",
        "#Melihat Dimensi Data\n",
        "CVmodel.shape"
      ],
      "metadata": {
        "colab": {
          "base_uri": "https://localhost:8080/"
        },
        "id": "Cw5i9ngMMx-K",
        "outputId": "14204295-5342-4d09-cebf-66eba224fa5e"
      },
      "id": "Cw5i9ngMMx-K",
      "execution_count": 179,
      "outputs": [
        {
          "output_type": "execute_result",
          "data": {
            "text/plain": [
              "(8807, 66746)"
            ]
          },
          "metadata": {},
          "execution_count": 179
        }
      ]
    },
    {
      "cell_type": "code",
      "source": [
        "#Membuat Ulang Cosine Similarity untuk Mengecek Kesamaan\n",
        "Cosine2 = cosine_similarity(CVmodel, CVmodel)\n",
        "Filterdf.head(3)"
      ],
      "metadata": {
        "colab": {
          "base_uri": "https://localhost:8080/",
          "height": 207
        },
        "id": "VbBK4uu2r0y-",
        "outputId": "88c63b82-9495-46a9-9ca2-76f515999367"
      },
      "id": "VbBK4uu2r0y-",
      "execution_count": 180,
      "outputs": [
        {
          "output_type": "execute_result",
          "data": {
            "text/plain": [
              "               title        director  \\\n",
              "0  dickjohnsonisdead  kirstenjohnson   \n",
              "1        blood&water      nodirector   \n",
              "2          ganglands  julienleclercq   \n",
              "\n",
              "                                                cast  \\\n",
              "0                                             nocast   \n",
              "1  amaqamata,khosingema,gailmabalane,thabangmolab...   \n",
              "2  samibouajila,tracygotoas,samueljouy,nabihaakka...   \n",
              "\n",
              "                                           listed_in  \\\n",
              "0                                      documentaries   \n",
              "1          internationaltvshows,tvdramas,tvmysteries   \n",
              "2  crimetvshows,internationaltvshows,tvaction&adv...   \n",
              "\n",
              "                                         description  \\\n",
              "0  asherfathernearstheendofhislife,filmmakerkirst...   \n",
              "1  aftercrossingpathsataparty,acapetownteensetsou...   \n",
              "2  toprotecthisfamilyfromapowerfuldruglord,skille...   \n",
              "\n",
              "                                                Join  \n",
              "0  documentaries asherfathernearstheendofhislife,...  \n",
              "1  internationaltvshows,tvdramas,tvmysteries afte...  \n",
              "2  crimetvshows,internationaltvshows,tvaction&adv...  "
            ],
            "text/html": [
              "\n",
              "  <div id=\"df-a64e08bf-5566-4424-9584-bbe269a245b2\">\n",
              "    <div class=\"colab-df-container\">\n",
              "      <div>\n",
              "<style scoped>\n",
              "    .dataframe tbody tr th:only-of-type {\n",
              "        vertical-align: middle;\n",
              "    }\n",
              "\n",
              "    .dataframe tbody tr th {\n",
              "        vertical-align: top;\n",
              "    }\n",
              "\n",
              "    .dataframe thead th {\n",
              "        text-align: right;\n",
              "    }\n",
              "</style>\n",
              "<table border=\"1\" class=\"dataframe\">\n",
              "  <thead>\n",
              "    <tr style=\"text-align: right;\">\n",
              "      <th></th>\n",
              "      <th>title</th>\n",
              "      <th>director</th>\n",
              "      <th>cast</th>\n",
              "      <th>listed_in</th>\n",
              "      <th>description</th>\n",
              "      <th>Join</th>\n",
              "    </tr>\n",
              "  </thead>\n",
              "  <tbody>\n",
              "    <tr>\n",
              "      <th>0</th>\n",
              "      <td>dickjohnsonisdead</td>\n",
              "      <td>kirstenjohnson</td>\n",
              "      <td>nocast</td>\n",
              "      <td>documentaries</td>\n",
              "      <td>asherfathernearstheendofhislife,filmmakerkirst...</td>\n",
              "      <td>documentaries asherfathernearstheendofhislife,...</td>\n",
              "    </tr>\n",
              "    <tr>\n",
              "      <th>1</th>\n",
              "      <td>blood&amp;water</td>\n",
              "      <td>nodirector</td>\n",
              "      <td>amaqamata,khosingema,gailmabalane,thabangmolab...</td>\n",
              "      <td>internationaltvshows,tvdramas,tvmysteries</td>\n",
              "      <td>aftercrossingpathsataparty,acapetownteensetsou...</td>\n",
              "      <td>internationaltvshows,tvdramas,tvmysteries afte...</td>\n",
              "    </tr>\n",
              "    <tr>\n",
              "      <th>2</th>\n",
              "      <td>ganglands</td>\n",
              "      <td>julienleclercq</td>\n",
              "      <td>samibouajila,tracygotoas,samueljouy,nabihaakka...</td>\n",
              "      <td>crimetvshows,internationaltvshows,tvaction&amp;adv...</td>\n",
              "      <td>toprotecthisfamilyfromapowerfuldruglord,skille...</td>\n",
              "      <td>crimetvshows,internationaltvshows,tvaction&amp;adv...</td>\n",
              "    </tr>\n",
              "  </tbody>\n",
              "</table>\n",
              "</div>\n",
              "      <button class=\"colab-df-convert\" onclick=\"convertToInteractive('df-a64e08bf-5566-4424-9584-bbe269a245b2')\"\n",
              "              title=\"Convert this dataframe to an interactive table.\"\n",
              "              style=\"display:none;\">\n",
              "        \n",
              "  <svg xmlns=\"http://www.w3.org/2000/svg\" height=\"24px\"viewBox=\"0 0 24 24\"\n",
              "       width=\"24px\">\n",
              "    <path d=\"M0 0h24v24H0V0z\" fill=\"none\"/>\n",
              "    <path d=\"M18.56 5.44l.94 2.06.94-2.06 2.06-.94-2.06-.94-.94-2.06-.94 2.06-2.06.94zm-11 1L8.5 8.5l.94-2.06 2.06-.94-2.06-.94L8.5 2.5l-.94 2.06-2.06.94zm10 10l.94 2.06.94-2.06 2.06-.94-2.06-.94-.94-2.06-.94 2.06-2.06.94z\"/><path d=\"M17.41 7.96l-1.37-1.37c-.4-.4-.92-.59-1.43-.59-.52 0-1.04.2-1.43.59L10.3 9.45l-7.72 7.72c-.78.78-.78 2.05 0 2.83L4 21.41c.39.39.9.59 1.41.59.51 0 1.02-.2 1.41-.59l7.78-7.78 2.81-2.81c.8-.78.8-2.07 0-2.86zM5.41 20L4 18.59l7.72-7.72 1.47 1.35L5.41 20z\"/>\n",
              "  </svg>\n",
              "      </button>\n",
              "      \n",
              "  <style>\n",
              "    .colab-df-container {\n",
              "      display:flex;\n",
              "      flex-wrap:wrap;\n",
              "      gap: 12px;\n",
              "    }\n",
              "\n",
              "    .colab-df-convert {\n",
              "      background-color: #E8F0FE;\n",
              "      border: none;\n",
              "      border-radius: 50%;\n",
              "      cursor: pointer;\n",
              "      display: none;\n",
              "      fill: #1967D2;\n",
              "      height: 32px;\n",
              "      padding: 0 0 0 0;\n",
              "      width: 32px;\n",
              "    }\n",
              "\n",
              "    .colab-df-convert:hover {\n",
              "      background-color: #E2EBFA;\n",
              "      box-shadow: 0px 1px 2px rgba(60, 64, 67, 0.3), 0px 1px 3px 1px rgba(60, 64, 67, 0.15);\n",
              "      fill: #174EA6;\n",
              "    }\n",
              "\n",
              "    [theme=dark] .colab-df-convert {\n",
              "      background-color: #3B4455;\n",
              "      fill: #D2E3FC;\n",
              "    }\n",
              "\n",
              "    [theme=dark] .colab-df-convert:hover {\n",
              "      background-color: #434B5C;\n",
              "      box-shadow: 0px 1px 3px 1px rgba(0, 0, 0, 0.15);\n",
              "      filter: drop-shadow(0px 1px 2px rgba(0, 0, 0, 0.3));\n",
              "      fill: #FFFFFF;\n",
              "    }\n",
              "  </style>\n",
              "\n",
              "      <script>\n",
              "        const buttonEl =\n",
              "          document.querySelector('#df-a64e08bf-5566-4424-9584-bbe269a245b2 button.colab-df-convert');\n",
              "        buttonEl.style.display =\n",
              "          google.colab.kernel.accessAllowed ? 'block' : 'none';\n",
              "\n",
              "        async function convertToInteractive(key) {\n",
              "          const element = document.querySelector('#df-a64e08bf-5566-4424-9584-bbe269a245b2');\n",
              "          const dataTable =\n",
              "            await google.colab.kernel.invokeFunction('convertToInteractive',\n",
              "                                                     [key], {});\n",
              "          if (!dataTable) return;\n",
              "\n",
              "          const docLinkHtml = 'Like what you see? Visit the ' +\n",
              "            '<a target=\"_blank\" href=https://colab.research.google.com/notebooks/data_table.ipynb>data table notebook</a>'\n",
              "            + ' to learn more about interactive tables.';\n",
              "          element.innerHTML = '';\n",
              "          dataTable['output_type'] = 'display_data';\n",
              "          await google.colab.output.renderOutput(dataTable, element);\n",
              "          const docLink = document.createElement('div');\n",
              "          docLink.innerHTML = docLinkHtml;\n",
              "          element.appendChild(docLink);\n",
              "        }\n",
              "      </script>\n",
              "    </div>\n",
              "  </div>\n",
              "  "
            ]
          },
          "metadata": {},
          "execution_count": 180
        }
      ]
    },
    {
      "cell_type": "code",
      "source": [
        "#Mengidentifikasi Index dari Judul yang Diberikan\n",
        "Filterdf = Filterdf.reset_index()\n",
        "ReturnIndex = pd.Series(Filterdf.index, index=Filterdf[\"title\"])"
      ],
      "metadata": {
        "id": "uMN6YrNq_bke"
      },
      "id": "uMN6YrNq_bke",
      "execution_count": 181,
      "outputs": []
    },
    {
      "cell_type": "code",
      "source": [
        "#Membuat Fungsi untuk Rekomendasi\n",
        "def Recommendation2(Title, Cosine):\n",
        "    Title=Title.lower().replace(\" \",\"\")\n",
        "    Index = ReturnIndex[Title]\n",
        "\n",
        "    #Mencari Nilai Pairwise Similarity berdasarkan Title yang Diiput \n",
        "    Similarity = list(enumerate(Cosine[Index]))\n",
        "\n",
        "    #Mengurutkan Title berdasarkan Nilai Cosine Similarity\n",
        "    Similarity = sorted(Similarity, key=lambda x: x[1], reverse=True)\n",
        "\n",
        "    #Memfilter untuk Mendapatkan Top 5 Movie\n",
        "    Similarity = Similarity[1:6]\n",
        "    ReturnMovie = [i[0] for i in Similarity]\n",
        "    SimilarityMovie = [i[1] for i in Similarity]\n",
        "    \n",
        "    #Mereturn Fungsi\n",
        "    return pd.DataFrame(zip(df[\"title\"].iloc[ReturnMovie], SimilarityMovie), columns=[\"title\",\"Similarity\"])"
      ],
      "metadata": {
        "id": "1s72O_Sg6Tp9"
      },
      "id": "1s72O_Sg6Tp9",
      "execution_count": 182,
      "outputs": []
    },
    {
      "cell_type": "code",
      "source": [
        "Recommendation2(\"Naruto\", Cosine2)"
      ],
      "metadata": {
        "colab": {
          "base_uri": "https://localhost:8080/",
          "height": 206
        },
        "id": "vFjIruBEMyGQ",
        "outputId": "5ad9eecb-9cf7-4435-f436-63fce1f2155e"
      },
      "id": "vFjIruBEMyGQ",
      "execution_count": 183,
      "outputs": [
        {
          "output_type": "execute_result",
          "data": {
            "text/plain": [
              "                                               title  Similarity\n",
              "0                  Naruto Shippûden the Movie: Bonds    0.302614\n",
              "1           Naruto Shippuden the Movie: Blood Prison    0.269069\n",
              "2                    Naruto Shippuden : Blood Prison    0.269069\n",
              "3       Naruto Shippûden the Movie: The Will of Fire    0.248069\n",
              "4  Naruto the Movie: Ninja Clash in the Land of Snow    0.248069"
            ],
            "text/html": [
              "\n",
              "  <div id=\"df-5bd6b387-c9bd-4951-a99d-da6fa396b287\">\n",
              "    <div class=\"colab-df-container\">\n",
              "      <div>\n",
              "<style scoped>\n",
              "    .dataframe tbody tr th:only-of-type {\n",
              "        vertical-align: middle;\n",
              "    }\n",
              "\n",
              "    .dataframe tbody tr th {\n",
              "        vertical-align: top;\n",
              "    }\n",
              "\n",
              "    .dataframe thead th {\n",
              "        text-align: right;\n",
              "    }\n",
              "</style>\n",
              "<table border=\"1\" class=\"dataframe\">\n",
              "  <thead>\n",
              "    <tr style=\"text-align: right;\">\n",
              "      <th></th>\n",
              "      <th>title</th>\n",
              "      <th>Similarity</th>\n",
              "    </tr>\n",
              "  </thead>\n",
              "  <tbody>\n",
              "    <tr>\n",
              "      <th>0</th>\n",
              "      <td>Naruto Shippûden the Movie: Bonds</td>\n",
              "      <td>0.302614</td>\n",
              "    </tr>\n",
              "    <tr>\n",
              "      <th>1</th>\n",
              "      <td>Naruto Shippuden the Movie: Blood Prison</td>\n",
              "      <td>0.269069</td>\n",
              "    </tr>\n",
              "    <tr>\n",
              "      <th>2</th>\n",
              "      <td>Naruto Shippuden : Blood Prison</td>\n",
              "      <td>0.269069</td>\n",
              "    </tr>\n",
              "    <tr>\n",
              "      <th>3</th>\n",
              "      <td>Naruto Shippûden the Movie: The Will of Fire</td>\n",
              "      <td>0.248069</td>\n",
              "    </tr>\n",
              "    <tr>\n",
              "      <th>4</th>\n",
              "      <td>Naruto the Movie: Ninja Clash in the Land of Snow</td>\n",
              "      <td>0.248069</td>\n",
              "    </tr>\n",
              "  </tbody>\n",
              "</table>\n",
              "</div>\n",
              "      <button class=\"colab-df-convert\" onclick=\"convertToInteractive('df-5bd6b387-c9bd-4951-a99d-da6fa396b287')\"\n",
              "              title=\"Convert this dataframe to an interactive table.\"\n",
              "              style=\"display:none;\">\n",
              "        \n",
              "  <svg xmlns=\"http://www.w3.org/2000/svg\" height=\"24px\"viewBox=\"0 0 24 24\"\n",
              "       width=\"24px\">\n",
              "    <path d=\"M0 0h24v24H0V0z\" fill=\"none\"/>\n",
              "    <path d=\"M18.56 5.44l.94 2.06.94-2.06 2.06-.94-2.06-.94-.94-2.06-.94 2.06-2.06.94zm-11 1L8.5 8.5l.94-2.06 2.06-.94-2.06-.94L8.5 2.5l-.94 2.06-2.06.94zm10 10l.94 2.06.94-2.06 2.06-.94-2.06-.94-.94-2.06-.94 2.06-2.06.94z\"/><path d=\"M17.41 7.96l-1.37-1.37c-.4-.4-.92-.59-1.43-.59-.52 0-1.04.2-1.43.59L10.3 9.45l-7.72 7.72c-.78.78-.78 2.05 0 2.83L4 21.41c.39.39.9.59 1.41.59.51 0 1.02-.2 1.41-.59l7.78-7.78 2.81-2.81c.8-.78.8-2.07 0-2.86zM5.41 20L4 18.59l7.72-7.72 1.47 1.35L5.41 20z\"/>\n",
              "  </svg>\n",
              "      </button>\n",
              "      \n",
              "  <style>\n",
              "    .colab-df-container {\n",
              "      display:flex;\n",
              "      flex-wrap:wrap;\n",
              "      gap: 12px;\n",
              "    }\n",
              "\n",
              "    .colab-df-convert {\n",
              "      background-color: #E8F0FE;\n",
              "      border: none;\n",
              "      border-radius: 50%;\n",
              "      cursor: pointer;\n",
              "      display: none;\n",
              "      fill: #1967D2;\n",
              "      height: 32px;\n",
              "      padding: 0 0 0 0;\n",
              "      width: 32px;\n",
              "    }\n",
              "\n",
              "    .colab-df-convert:hover {\n",
              "      background-color: #E2EBFA;\n",
              "      box-shadow: 0px 1px 2px rgba(60, 64, 67, 0.3), 0px 1px 3px 1px rgba(60, 64, 67, 0.15);\n",
              "      fill: #174EA6;\n",
              "    }\n",
              "\n",
              "    [theme=dark] .colab-df-convert {\n",
              "      background-color: #3B4455;\n",
              "      fill: #D2E3FC;\n",
              "    }\n",
              "\n",
              "    [theme=dark] .colab-df-convert:hover {\n",
              "      background-color: #434B5C;\n",
              "      box-shadow: 0px 1px 3px 1px rgba(0, 0, 0, 0.15);\n",
              "      filter: drop-shadow(0px 1px 2px rgba(0, 0, 0, 0.3));\n",
              "      fill: #FFFFFF;\n",
              "    }\n",
              "  </style>\n",
              "\n",
              "      <script>\n",
              "        const buttonEl =\n",
              "          document.querySelector('#df-5bd6b387-c9bd-4951-a99d-da6fa396b287 button.colab-df-convert');\n",
              "        buttonEl.style.display =\n",
              "          google.colab.kernel.accessAllowed ? 'block' : 'none';\n",
              "\n",
              "        async function convertToInteractive(key) {\n",
              "          const element = document.querySelector('#df-5bd6b387-c9bd-4951-a99d-da6fa396b287');\n",
              "          const dataTable =\n",
              "            await google.colab.kernel.invokeFunction('convertToInteractive',\n",
              "                                                     [key], {});\n",
              "          if (!dataTable) return;\n",
              "\n",
              "          const docLinkHtml = 'Like what you see? Visit the ' +\n",
              "            '<a target=\"_blank\" href=https://colab.research.google.com/notebooks/data_table.ipynb>data table notebook</a>'\n",
              "            + ' to learn more about interactive tables.';\n",
              "          element.innerHTML = '';\n",
              "          dataTable['output_type'] = 'display_data';\n",
              "          await google.colab.output.renderOutput(dataTable, element);\n",
              "          const docLink = document.createElement('div');\n",
              "          docLink.innerHTML = docLinkHtml;\n",
              "          element.appendChild(docLink);\n",
              "        }\n",
              "      </script>\n",
              "    </div>\n",
              "  </div>\n",
              "  "
            ]
          },
          "metadata": {},
          "execution_count": 183
        }
      ]
    },
    {
      "cell_type": "markdown",
      "source": [
        "Observation:\n",
        "1. Jika melihat pada rekomendasi yang baru, hasilnya lebih sesuai dengan film yang diinputkan. Oleh karena itu, dengan semakin banyaknya feature, model dapat memberikan rekomendasi dengan semakin baik"
      ],
      "metadata": {
        "id": "FOFREIDuBsTE"
      },
      "id": "FOFREIDuBsTE"
    },
    {
      "cell_type": "markdown",
      "source": [
        "### **Conclusion**\n",
        "1. Terdapat beberapa masalah pada data, yaitu terdapat beberapa kolom yang berisikan missing value, terdapat value yang tidak sesuai dengan kolomnya, dan terdapat format yang berbeda - beda untuk beberapa value dalam 1 kolom. Namun, tidak terdapat duplicate ataupun outlier.\n",
        "2. Untuk tipe data sendiri, data memiliki tipe data categorical dan numerical atau date. Kolom date perlu ditransformasi untuk dipisahkan menjadi bulan dan tahun, sehingga dapat membantu untuk analisa lebih lanjut.\n",
        "3. Data dapat dikategorikan berdasarkan type menjadi Movie dan TV Show untuk membantu analisa lebih lanjut\n",
        "4. Berdasarkan analisa di atas, dapat diketahui bahwa terdapat lebih banyak Movie daripada TV show di Netflix. Genre yang paling banyak untuk Movie adalah Drama, International Movies dan Documentary dengan durasi Movie paling populer berada pada 90 an menit, sedangkan untuk TV show didominasi oleh Kids TV dan durasi paling banyak hanya terbatas pada 1 season. Hal ini sejalan dengan rating dimana untuk Movie lebih banyak ditujukan untuk konten bagi dewasa dan TV show lebih banyak ditujukan untuk konten yang dapat dinikmati oleh semua umur, mulai dari anak hingga dewasa. Kebanyakan Movie dan TV show diproduksi di United States dan India, yang kebanyakan direlease secara resmi dan di Netflix pada tahun 2015 ke atas.\n",
        "5. Hampir semua Movie dan TV Show di Netflix direlease pada tahun yang sama dengan tahun release aslinya, sehingga dapat disimpulkan bahwa Netflix mengikuti perkembangan terupdate dunia film dan TV Show.\n",
        "6. Terdapat perubahan genre atas Movie yang ditambahkan ke Netflix dari Documentaries di tahun 2019 ke Dramas, International Movie di tahun 2020 hingga 2021, sedangkan pada TV Show, genre masih banyak didominasi oleh Kids TV untuk 3 tahun berturut-turut.\n",
        "5. Kolom description dapat membantu untuk melakukan permodelan untuk memberikan rekomendasi berdasarkan judul yang diinput, akan tetapi, hasilnya kurang akurat jika hanya bergantung pada 1 feature ini saja.\n",
        "6. Dengan menambahkan kolom director, cast, dan listed_in (genre), model dapat memberikan rekomendasi berdasarkan judul yang diinput dengan lebih akurat."
      ],
      "metadata": {
        "id": "6hWVc3xW4ucp"
      },
      "id": "6hWVc3xW4ucp"
    },
    {
      "cell_type": "markdown",
      "source": [
        "### **Saran untuk Penelitian Selanjutnya**\n",
        "1. Dapat membuat rekomendasi dengan menggunakan metode lain untuk merapikan datanya, seperti NLTK atau bisa juga dengan melakukan clustering pada dataset\n",
        "2. Dapat menggabungkan dataset ini dengan dataset lain, misalnya yang berisikan mengenai rating/penilaian untuk masing - masing Movie dan TV Show, sehingga dapat memberikan rekomendasi dengan lebih akurat, seperti rekomendasi berdasarkan film dan TV shows terpopuler ataupun berdasarkan penilaian dari user atas suatu film dan TV shows"
      ],
      "metadata": {
        "id": "sHOrdjMtHnJ1"
      },
      "id": "sHOrdjMtHnJ1"
    },
    {
      "cell_type": "code",
      "source": [
        "from joblib import dump\n",
        "dump(Recommendation2,\"Recommendation.model\")\n",
        "dump(Cosine2,\"Cosine.model\")\n",
        "dump(ReturnIndex,\"ReturnIndex.model\")"
      ],
      "metadata": {
        "colab": {
          "base_uri": "https://localhost:8080/"
        },
        "id": "Z-u-8A_hj9ut",
        "outputId": "b6c5e116-58bd-405e-ef52-b08426211564"
      },
      "id": "Z-u-8A_hj9ut",
      "execution_count": 184,
      "outputs": [
        {
          "output_type": "execute_result",
          "data": {
            "text/plain": [
              "['ReturnIndex.model']"
            ]
          },
          "metadata": {},
          "execution_count": 184
        }
      ]
    }
  ],
  "metadata": {
    "kernelspec": {
      "display_name": "gpuenv",
      "language": "python",
      "name": "gpuenv"
    },
    "language_info": {
      "codemirror_mode": {
        "name": "ipython",
        "version": 3
      },
      "file_extension": ".py",
      "mimetype": "text/x-python",
      "name": "python",
      "nbconvert_exporter": "python",
      "pygments_lexer": "ipython3",
      "version": "3.6.13"
    },
    "toc": {
      "base_numbering": 1,
      "nav_menu": {},
      "number_sections": true,
      "sideBar": true,
      "skip_h1_title": false,
      "title_cell": "Table of Contents",
      "title_sidebar": "Contents",
      "toc_cell": false,
      "toc_position": {},
      "toc_section_display": true,
      "toc_window_display": true
    },
    "varInspector": {
      "cols": {
        "lenName": 16,
        "lenType": 16,
        "lenVar": 40
      },
      "kernels_config": {
        "python": {
          "delete_cmd_postfix": "",
          "delete_cmd_prefix": "del ",
          "library": "var_list.py",
          "varRefreshCmd": "print(var_dic_list())"
        },
        "r": {
          "delete_cmd_postfix": ") ",
          "delete_cmd_prefix": "rm(",
          "library": "var_list.r",
          "varRefreshCmd": "cat(var_dic_list()) "
        }
      },
      "types_to_exclude": [
        "module",
        "function",
        "builtin_function_or_method",
        "instance",
        "_Feature"
      ],
      "window_display": false
    },
    "colab": {
      "name": "EDA and Recommendation System of Netflix Movies and TV Shows-R1.ipynb",
      "provenance": [],
      "collapsed_sections": []
    }
  },
  "nbformat": 4,
  "nbformat_minor": 5
}